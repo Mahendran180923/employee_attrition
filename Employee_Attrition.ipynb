{
  "nbformat": 4,
  "nbformat_minor": 0,
  "metadata": {
    "colab": {
      "provenance": [],
      "authorship_tag": "ABX9TyNBJKhayfJWLN4tgGspi6Ux",
      "include_colab_link": true
    },
    "kernelspec": {
      "name": "python3",
      "display_name": "Python 3"
    },
    "language_info": {
      "name": "python"
    }
  },
  "cells": [
    {
      "cell_type": "markdown",
      "metadata": {
        "id": "view-in-github",
        "colab_type": "text"
      },
      "source": [
        "<a href=\"https://colab.research.google.com/github/Mahendran180923/employee_attrition/blob/main/Employee_Attrition.ipynb\" target=\"_parent\"><img src=\"https://colab.research.google.com/assets/colab-badge.svg\" alt=\"Open In Colab\"/></a>"
      ]
    },
    {
      "cell_type": "markdown",
      "source": [
        "# Employee Attrition Analysis"
      ],
      "metadata": {
        "id": "X3XZharkgIdL"
      }
    },
    {
      "cell_type": "code",
      "source": [
        "!pip install streamlit\n",
        "\n"
      ],
      "metadata": {
        "colab": {
          "base_uri": "https://localhost:8080/"
        },
        "collapsed": true,
        "id": "fHMkq7rSQ0LX",
        "outputId": "31eaa483-511b-4171-83ea-b19d8f270ad5"
      },
      "execution_count": null,
      "outputs": [
        {
          "output_type": "stream",
          "name": "stdout",
          "text": [
            "Requirement already satisfied: streamlit in /usr/local/lib/python3.11/dist-packages (1.43.2)\n",
            "Requirement already satisfied: altair<6,>=4.0 in /usr/local/lib/python3.11/dist-packages (from streamlit) (5.5.0)\n",
            "Requirement already satisfied: blinker<2,>=1.0.0 in /usr/local/lib/python3.11/dist-packages (from streamlit) (1.9.0)\n",
            "Requirement already satisfied: cachetools<6,>=4.0 in /usr/local/lib/python3.11/dist-packages (from streamlit) (5.5.2)\n",
            "Requirement already satisfied: click<9,>=7.0 in /usr/local/lib/python3.11/dist-packages (from streamlit) (8.1.8)\n",
            "Requirement already satisfied: numpy<3,>=1.23 in /usr/local/lib/python3.11/dist-packages (from streamlit) (2.0.2)\n",
            "Requirement already satisfied: packaging<25,>=20 in /usr/local/lib/python3.11/dist-packages (from streamlit) (24.2)\n",
            "Requirement already satisfied: pandas<3,>=1.4.0 in /usr/local/lib/python3.11/dist-packages (from streamlit) (2.2.2)\n",
            "Requirement already satisfied: pillow<12,>=7.1.0 in /usr/local/lib/python3.11/dist-packages (from streamlit) (11.1.0)\n",
            "Requirement already satisfied: protobuf<6,>=3.20 in /usr/local/lib/python3.11/dist-packages (from streamlit) (5.29.3)\n",
            "Requirement already satisfied: pyarrow>=7.0 in /usr/local/lib/python3.11/dist-packages (from streamlit) (18.1.0)\n",
            "Requirement already satisfied: requests<3,>=2.27 in /usr/local/lib/python3.11/dist-packages (from streamlit) (2.32.3)\n",
            "Requirement already satisfied: tenacity<10,>=8.1.0 in /usr/local/lib/python3.11/dist-packages (from streamlit) (9.0.0)\n",
            "Requirement already satisfied: toml<2,>=0.10.1 in /usr/local/lib/python3.11/dist-packages (from streamlit) (0.10.2)\n",
            "Requirement already satisfied: typing-extensions<5,>=4.4.0 in /usr/local/lib/python3.11/dist-packages (from streamlit) (4.12.2)\n",
            "Requirement already satisfied: watchdog<7,>=2.1.5 in /usr/local/lib/python3.11/dist-packages (from streamlit) (6.0.0)\n",
            "Requirement already satisfied: gitpython!=3.1.19,<4,>=3.0.7 in /usr/local/lib/python3.11/dist-packages (from streamlit) (3.1.44)\n",
            "Requirement already satisfied: pydeck<1,>=0.8.0b4 in /usr/local/lib/python3.11/dist-packages (from streamlit) (0.9.1)\n",
            "Requirement already satisfied: tornado<7,>=6.0.3 in /usr/local/lib/python3.11/dist-packages (from streamlit) (6.4.2)\n",
            "Requirement already satisfied: jinja2 in /usr/local/lib/python3.11/dist-packages (from altair<6,>=4.0->streamlit) (3.1.6)\n",
            "Requirement already satisfied: jsonschema>=3.0 in /usr/local/lib/python3.11/dist-packages (from altair<6,>=4.0->streamlit) (4.23.0)\n",
            "Requirement already satisfied: narwhals>=1.14.2 in /usr/local/lib/python3.11/dist-packages (from altair<6,>=4.0->streamlit) (1.31.0)\n",
            "Requirement already satisfied: gitdb<5,>=4.0.1 in /usr/local/lib/python3.11/dist-packages (from gitpython!=3.1.19,<4,>=3.0.7->streamlit) (4.0.12)\n",
            "Requirement already satisfied: python-dateutil>=2.8.2 in /usr/local/lib/python3.11/dist-packages (from pandas<3,>=1.4.0->streamlit) (2.8.2)\n",
            "Requirement already satisfied: pytz>=2020.1 in /usr/local/lib/python3.11/dist-packages (from pandas<3,>=1.4.0->streamlit) (2025.1)\n",
            "Requirement already satisfied: tzdata>=2022.7 in /usr/local/lib/python3.11/dist-packages (from pandas<3,>=1.4.0->streamlit) (2025.1)\n",
            "Requirement already satisfied: charset-normalizer<4,>=2 in /usr/local/lib/python3.11/dist-packages (from requests<3,>=2.27->streamlit) (3.4.1)\n",
            "Requirement already satisfied: idna<4,>=2.5 in /usr/local/lib/python3.11/dist-packages (from requests<3,>=2.27->streamlit) (3.10)\n",
            "Requirement already satisfied: urllib3<3,>=1.21.1 in /usr/local/lib/python3.11/dist-packages (from requests<3,>=2.27->streamlit) (2.3.0)\n",
            "Requirement already satisfied: certifi>=2017.4.17 in /usr/local/lib/python3.11/dist-packages (from requests<3,>=2.27->streamlit) (2025.1.31)\n",
            "Requirement already satisfied: smmap<6,>=3.0.1 in /usr/local/lib/python3.11/dist-packages (from gitdb<5,>=4.0.1->gitpython!=3.1.19,<4,>=3.0.7->streamlit) (5.0.2)\n",
            "Requirement already satisfied: MarkupSafe>=2.0 in /usr/local/lib/python3.11/dist-packages (from jinja2->altair<6,>=4.0->streamlit) (3.0.2)\n",
            "Requirement already satisfied: attrs>=22.2.0 in /usr/local/lib/python3.11/dist-packages (from jsonschema>=3.0->altair<6,>=4.0->streamlit) (25.3.0)\n",
            "Requirement already satisfied: jsonschema-specifications>=2023.03.6 in /usr/local/lib/python3.11/dist-packages (from jsonschema>=3.0->altair<6,>=4.0->streamlit) (2024.10.1)\n",
            "Requirement already satisfied: referencing>=0.28.4 in /usr/local/lib/python3.11/dist-packages (from jsonschema>=3.0->altair<6,>=4.0->streamlit) (0.36.2)\n",
            "Requirement already satisfied: rpds-py>=0.7.1 in /usr/local/lib/python3.11/dist-packages (from jsonschema>=3.0->altair<6,>=4.0->streamlit) (0.23.1)\n",
            "Requirement already satisfied: six>=1.5 in /usr/local/lib/python3.11/dist-packages (from python-dateutil>=2.8.2->pandas<3,>=1.4.0->streamlit) (1.17.0)\n"
          ]
        }
      ]
    },
    {
      "cell_type": "code",
      "source": [
        "!pip install pyngrok"
      ],
      "metadata": {
        "colab": {
          "base_uri": "https://localhost:8080/"
        },
        "collapsed": true,
        "id": "-zzocen5RKN2",
        "outputId": "87ff5d59-ce9e-4bfa-c95c-d948752ef76b"
      },
      "execution_count": null,
      "outputs": [
        {
          "output_type": "stream",
          "name": "stdout",
          "text": [
            "Requirement already satisfied: pyngrok in /usr/local/lib/python3.11/dist-packages (7.2.3)\n",
            "Requirement already satisfied: PyYAML>=5.1 in /usr/local/lib/python3.11/dist-packages (from pyngrok) (6.0.2)\n"
          ]
        }
      ]
    },
    {
      "cell_type": "code",
      "source": [
        "%%writefile app.py\n",
        "import pandas as pd\n",
        "import numpy as np\n",
        "import seaborn as sns\n",
        "import matplotlib.pyplot as plt\n",
        "from sklearn.model_selection import train_test_split\n",
        "from sklearn.ensemble import RandomForestClassifier, GradientBoostingClassifier\n",
        "from sklearn.tree import DecisionTreeClassifier\n",
        "from sklearn.metrics import mean_absolute_error, mean_squared_error, accuracy_score, r2_score, root_mean_squared_error\n",
        "import streamlit as st\n",
        "import pickle\n",
        "from sklearn.preprocessing import OneHotEncoder, LabelEncoder\n",
        "from pyngrok import ngrok\n",
        "\n",
        "\n",
        "# Load dataset\n",
        "employee_data = pd.read_csv('/content/Employee_Attrition.csv')\n",
        "\n",
        "\n",
        "# Data Cleaning and Preprocessing\n",
        "\n",
        "df = pd.DataFrame(employee_data)\n",
        "# print(df.info())\n",
        "# print(df.describe())\n",
        "\n",
        "duplicates = df.duplicated().sum()\n",
        "# print(f\"Number of duplicate rows: {duplicates}\")\n",
        "df.drop(columns=['EmployeeCount', 'EmployeeNumber', 'Over18', 'StandardHours'], inplace=True)\n",
        "\n",
        "\n",
        "# Exploratory data analysis\n",
        "\n",
        "# Encode the object columns\n",
        "encoder = {}\n",
        "categorical_col = df.select_dtypes(include='object').columns\n",
        "for col in categorical_col:\n",
        "    encoder[col] = LabelEncoder()\n",
        "    df[col] = encoder[col].fit_transform(df[col])\n",
        "\n",
        "\n",
        "# Store the encoded file in pickle format\n",
        "with open(\"encoder.pkl\", 'wb') as f:\n",
        "    pickle.dump(encoder, f)\n",
        "\n",
        "\n",
        "# Outlier detecton\n",
        "for col in df.columns:\n",
        "    z_scores = np.abs(df[col] - df[col].mean() / df[col].std())\n",
        "    outliers = df[z_scores > 4]\n",
        "    # print(f\"Outliers in column '{col}': {outliers.shape[0]}\")\n",
        "    # print(outliers)\n",
        "\n",
        "\n",
        "# Find correlation\n",
        "# corr_matrix = df.corr()\n",
        "# sns.heatmap(corr_matrix, cmap='coolwarm', square=True)\n",
        "# plt.title('Correlation Heatmap')\n",
        "# plt.show()\n",
        "\n",
        "\n",
        "# Machine Learning Model development\n",
        "\n",
        "# Feature Selection\n",
        "x = df.drop(['Attrition'], axis=1)\n",
        "y = df['Attrition']\n",
        "\n",
        "\n",
        "# Various Model Training\n",
        "x_test, x_train, y_test, y_train = train_test_split(x, y, test_size=0.20, random_state=42)\n",
        "\n",
        "\n",
        "# Random Forest Classifier Model\n",
        "rfc = RandomForestClassifier(n_estimators=10)\n",
        "rfc.fit(x_train, y_train)\n",
        "\n",
        "# Gradient Boosting Classifier Model\n",
        "gbc = GradientBoostingClassifier(learning_rate=0.1)\n",
        "gbc.fit(x_train, y_train)\n",
        "\n",
        "# Decision Tree Classifier Model\n",
        "dtc = DecisionTreeClassifier()\n",
        "dtc.fit(x_train, y_train)\n",
        "\n",
        "# Model Evaluation Metrics\n",
        "rfc_score = rfc.score(x_test, y_test)\n",
        "gbc_score = gbc.score(x_test, y_test)\n",
        "dtc_score = dtc.score(x_test, y_test)\n",
        "\n",
        "print(f'Random Forest Accuracy Score: {rfc_score}')\n",
        "print(f'Gradient Boosing Accuracy Score: {gbc_score}')\n",
        "print(f'Decision Tree Accuracy Score: {dtc_score}')\n",
        "\n",
        "\n",
        "# Save the model as pickle file\n",
        "with open(\"model.pkl\", 'wb') as f:\n",
        "  pickle.dump(rfc, f)\n",
        "\n",
        "# option = st.selectbox('Select employee number to fetch employee details or select details manually', ['Select Manually', 'Use Employee Number'])\n",
        "\n",
        "# # if option == 'Select Manually':\n",
        "if __name__ == \"__main__\":\n",
        "  st.title(\"Employee Attrition Prediction\")\n",
        "  Age = st.number_input('Age', 18, 60)\n",
        "  BusinessTravel = st.selectbox('BusinessTravel', employee_data['BusinessTravel'].unique())\n",
        "  DailyRate = st.selectbox('DailyRate', sorted(employee_data['DailyRate'].unique()))\n",
        "  Department = st.selectbox('Department', employee_data['Department'].unique())\n",
        "  DistanceFromHome = st.selectbox('DistanceFromHome', sorted(employee_data['DistanceFromHome'].unique()))\n",
        "  Education = st.selectbox('Education: Select \"1\" for below college or select \"2\" for above college ', employee_data['Education'].unique())\n",
        "  EducationField = st.selectbox('EducationField', employee_data['EducationField'].unique())\n",
        "  EnvironmentSatisfaction = st.selectbox('Satisfaction with the work environment: \"1\" = Low, \"2\" = Medium, \"3\" = High, \"4\" = Very High', sorted(employee_data['EnvironmentSatisfaction'].unique()))\n",
        "  Gender = st.selectbox('Gender', employee_data['Gender'].unique())\n",
        "  HourlyRate = st.selectbox('The employee hourly rate of pay', sorted(employee_data['HourlyRate'].unique()))\n",
        "  JobInvolvement = st.selectbox('level of involvement the employee has in their job: \"1\" = Low, \"2\" = Medium, \"3\" = High, \"4\" = Very High', sorted(employee_data['JobInvolvement'].unique()) )\n",
        "  JobLevel = st.selectbox('Job level of the Employee : e.g., \"1\" = Entry Level, \"2\" = Mid-Level, etc', sorted(employee_data['JobLevel'].unique()) )\n",
        "  JobRole = st.selectbox('JobRole', employee_data['JobRole'].unique())\n",
        "  JobSatisfaction = st.selectbox('Job Satisfaction with the job: \"1\"=Low, \"2\"=Medium, \"3\"=High, \"4\"=Very High', sorted(employee_data['JobSatisfaction'].unique()) )\n",
        "  MaritalStatus = st.selectbox('MaritalStatus', employee_data['MaritalStatus'].unique())\n",
        "  MonthlyIncome = st.selectbox('MonthlyIncome', sorted(employee_data['MonthlyIncome'].unique()))\n",
        "  MonthlyRate = st.selectbox('MonthlyRate', sorted(employee_data['MonthlyRate'].unique()))\n",
        "  NumCompaniesWorked = st.selectbox('NumCompaniesWorked', sorted(employee_data['NumCompaniesWorked'].unique()))\n",
        "  OverTime = st.selectbox('OverTime', employee_data['OverTime'].unique())\n",
        "  PercentSalaryHike = st.selectbox('PercentSalaryHike', sorted(employee_data['PercentSalaryHike'].unique()))\n",
        "  PerformanceRating = st.selectbox('Peformance Rating: \"1\"=Low, \"2\"=Medium, \"3\"=High, \"4\"=Very High', sorted(employee_data['PerformanceRating'].unique()))\n",
        "  RelationshipSatisfaction = st.selectbox('Relationship Satisfaction: \"1\"=Low, \"2\"=Medium, \"3\"=High, \"4\"=Very High', sorted(employee_data['RelationshipSatisfaction'].unique()))\n",
        "  StockOptionLevel = st.number_input('Stock Option Level', min(employee_data['StockOptionLevel'].unique()), max(employee_data['StockOptionLevel'].unique()))\n",
        "  TotalWorkingYears = st.selectbox('TotalWorkingYears', sorted(employee_data['TotalWorkingYears'].unique()))\n",
        "  TrainingTimesLastYear = st.selectbox('TrainingTimesLastYear', sorted(employee_data['TrainingTimesLastYear'].unique()))\n",
        "  YearsAtCompany = st.selectbox('YearsAtCompany', sorted(employee_data['YearsAtCompany'].unique()))\n",
        "  WorkLifeBalance = st.selectbox('Work Life Balance: \"1\"=Low, \"2\"=Medium, \"3\"=High, \"4\"=Very High', sorted(employee_data['WorkLifeBalance'].unique()))\n",
        "  YearsInCurrentRole = st.selectbox('YearsInCurrentRole', sorted(employee_data['YearsInCurrentRole'].unique()))\n",
        "  YearsSinceLastPromotion = st.selectbox('YearsSinceLastPromotion', sorted(employee_data['YearsSinceLastPromotion'].unique()))\n",
        "  YearsWithCurrManager = st.selectbox('YearsWithCurrManager', sorted(employee_data['YearsWithCurrManager'].unique()))\n",
        "\n",
        "\n",
        "  user_data = pd.DataFrame(\n",
        "      {'Age': [Age],\n",
        "      'BusinessTravel': [BusinessTravel],\n",
        "      'DailyRate': [DailyRate],\n",
        "      'Department': [Department],\n",
        "      'DistanceFromHome': [DistanceFromHome],\n",
        "      'Education': [Education],\n",
        "      'EducationField': [EducationField],\n",
        "      'EnvironmentSatisfaction': [EnvironmentSatisfaction],\n",
        "      'Gender': [Gender],\n",
        "      'HourlyRate': [HourlyRate],\n",
        "      'JobInvolvement': [JobInvolvement],\n",
        "      'JobLevel': [JobLevel],\n",
        "      'JobRole': [JobRole],\n",
        "      'JobSatisfaction': [JobSatisfaction],\n",
        "      'MaritalStatus': [MaritalStatus],\n",
        "      'MonthlyIncome': [MonthlyIncome],\n",
        "      'MonthlyRate': [MonthlyRate],\n",
        "      'NumCompaniesWorked': [NumCompaniesWorked],\n",
        "      'OverTime': [OverTime],\n",
        "      'PercentSalaryHike': [PercentSalaryHike],\n",
        "      'PerformanceRating': [PerformanceRating],\n",
        "      'RelationshipSatisfaction': [RelationshipSatisfaction],\n",
        "      'StockOptionLevel': [StockOptionLevel],\n",
        "      'TotalWorkingYears': [TotalWorkingYears],\n",
        "      'TrainingTimesLastYear': [TrainingTimesLastYear],\n",
        "      'YearsAtCompany': [YearsAtCompany],\n",
        "      'WorkLifeBalance': [WorkLifeBalance],\n",
        "      'YearsInCurrentRole': [YearsInCurrentRole],\n",
        "      'YearsSinceLastPromotion': [YearsSinceLastPromotion],\n",
        "      'YearsWithCurrManager': [YearsWithCurrManager],})\n",
        "\n",
        "  with open(\"/content/model.pkl\", 'rb') as f:\n",
        "      reloaded_rfc_attrition_prediction = pickle.load(f)\n",
        "\n",
        "  with open(\"/content/encoder.pkl\", 'rb') as f:\n",
        "      reloaded_attrition_encoder = pickle.load(f)\n",
        "\n",
        "  for col in user_data.columns:\n",
        "      if col in reloaded_attrition_encoder:\n",
        "          user_data[col] = reloaded_attrition_encoder[col].transform(user_data[col])\n",
        "\n",
        "  if st.button('Predict Employee Attrition'):\n",
        "      prediction = reloaded_rfc_attrition_prediction.predict(user_data)\n",
        "\n",
        "      st.write(f\"Employee Prediction: {prediction}\")\n",
        "\n",
        "  # Create a public URL for the Streamlit app\n",
        "    public_url = ngrok.connect(8501)\n",
        "    print(public_url)\n",
        "\n"
      ],
      "metadata": {
        "colab": {
          "base_uri": "https://localhost:8080/"
        },
        "collapsed": true,
        "id": "XHxmkMBpNa-U",
        "outputId": "42f3efda-5fa8-459c-e58f-0056a96a404a"
      },
      "execution_count": null,
      "outputs": [
        {
          "output_type": "stream",
          "name": "stdout",
          "text": [
            "Overwriting app.py\n"
          ]
        }
      ]
    },
    {
      "cell_type": "code",
      "source": [
        "!pip install streamlit pyngrok ngrok"
      ],
      "metadata": {
        "colab": {
          "base_uri": "https://localhost:8080/"
        },
        "id": "tV1dxRAfhYmE",
        "outputId": "dc48b714-0fd2-4138-bad7-29d1c24153c0"
      },
      "execution_count": null,
      "outputs": [
        {
          "output_type": "stream",
          "name": "stdout",
          "text": [
            "Requirement already satisfied: streamlit in /usr/local/lib/python3.11/dist-packages (1.43.2)\n",
            "Requirement already satisfied: pyngrok in /usr/local/lib/python3.11/dist-packages (7.2.3)\n",
            "Requirement already satisfied: ngrok in /usr/local/lib/python3.11/dist-packages (1.4.0)\n",
            "Requirement already satisfied: altair<6,>=4.0 in /usr/local/lib/python3.11/dist-packages (from streamlit) (5.5.0)\n",
            "Requirement already satisfied: blinker<2,>=1.0.0 in /usr/local/lib/python3.11/dist-packages (from streamlit) (1.9.0)\n",
            "Requirement already satisfied: cachetools<6,>=4.0 in /usr/local/lib/python3.11/dist-packages (from streamlit) (5.5.2)\n",
            "Requirement already satisfied: click<9,>=7.0 in /usr/local/lib/python3.11/dist-packages (from streamlit) (8.1.8)\n",
            "Requirement already satisfied: numpy<3,>=1.23 in /usr/local/lib/python3.11/dist-packages (from streamlit) (2.0.2)\n",
            "Requirement already satisfied: packaging<25,>=20 in /usr/local/lib/python3.11/dist-packages (from streamlit) (24.2)\n",
            "Requirement already satisfied: pandas<3,>=1.4.0 in /usr/local/lib/python3.11/dist-packages (from streamlit) (2.2.2)\n",
            "Requirement already satisfied: pillow<12,>=7.1.0 in /usr/local/lib/python3.11/dist-packages (from streamlit) (11.1.0)\n",
            "Requirement already satisfied: protobuf<6,>=3.20 in /usr/local/lib/python3.11/dist-packages (from streamlit) (5.29.3)\n",
            "Requirement already satisfied: pyarrow>=7.0 in /usr/local/lib/python3.11/dist-packages (from streamlit) (18.1.0)\n",
            "Requirement already satisfied: requests<3,>=2.27 in /usr/local/lib/python3.11/dist-packages (from streamlit) (2.32.3)\n",
            "Requirement already satisfied: tenacity<10,>=8.1.0 in /usr/local/lib/python3.11/dist-packages (from streamlit) (9.0.0)\n",
            "Requirement already satisfied: toml<2,>=0.10.1 in /usr/local/lib/python3.11/dist-packages (from streamlit) (0.10.2)\n",
            "Requirement already satisfied: typing-extensions<5,>=4.4.0 in /usr/local/lib/python3.11/dist-packages (from streamlit) (4.12.2)\n",
            "Requirement already satisfied: watchdog<7,>=2.1.5 in /usr/local/lib/python3.11/dist-packages (from streamlit) (6.0.0)\n",
            "Requirement already satisfied: gitpython!=3.1.19,<4,>=3.0.7 in /usr/local/lib/python3.11/dist-packages (from streamlit) (3.1.44)\n",
            "Requirement already satisfied: pydeck<1,>=0.8.0b4 in /usr/local/lib/python3.11/dist-packages (from streamlit) (0.9.1)\n",
            "Requirement already satisfied: tornado<7,>=6.0.3 in /usr/local/lib/python3.11/dist-packages (from streamlit) (6.4.2)\n",
            "Requirement already satisfied: PyYAML>=5.1 in /usr/local/lib/python3.11/dist-packages (from pyngrok) (6.0.2)\n",
            "Requirement already satisfied: jinja2 in /usr/local/lib/python3.11/dist-packages (from altair<6,>=4.0->streamlit) (3.1.6)\n",
            "Requirement already satisfied: jsonschema>=3.0 in /usr/local/lib/python3.11/dist-packages (from altair<6,>=4.0->streamlit) (4.23.0)\n",
            "Requirement already satisfied: narwhals>=1.14.2 in /usr/local/lib/python3.11/dist-packages (from altair<6,>=4.0->streamlit) (1.31.0)\n",
            "Requirement already satisfied: gitdb<5,>=4.0.1 in /usr/local/lib/python3.11/dist-packages (from gitpython!=3.1.19,<4,>=3.0.7->streamlit) (4.0.12)\n",
            "Requirement already satisfied: python-dateutil>=2.8.2 in /usr/local/lib/python3.11/dist-packages (from pandas<3,>=1.4.0->streamlit) (2.8.2)\n",
            "Requirement already satisfied: pytz>=2020.1 in /usr/local/lib/python3.11/dist-packages (from pandas<3,>=1.4.0->streamlit) (2025.1)\n",
            "Requirement already satisfied: tzdata>=2022.7 in /usr/local/lib/python3.11/dist-packages (from pandas<3,>=1.4.0->streamlit) (2025.1)\n",
            "Requirement already satisfied: charset-normalizer<4,>=2 in /usr/local/lib/python3.11/dist-packages (from requests<3,>=2.27->streamlit) (3.4.1)\n",
            "Requirement already satisfied: idna<4,>=2.5 in /usr/local/lib/python3.11/dist-packages (from requests<3,>=2.27->streamlit) (3.10)\n",
            "Requirement already satisfied: urllib3<3,>=1.21.1 in /usr/local/lib/python3.11/dist-packages (from requests<3,>=2.27->streamlit) (2.3.0)\n",
            "Requirement already satisfied: certifi>=2017.4.17 in /usr/local/lib/python3.11/dist-packages (from requests<3,>=2.27->streamlit) (2025.1.31)\n",
            "Requirement already satisfied: smmap<6,>=3.0.1 in /usr/local/lib/python3.11/dist-packages (from gitdb<5,>=4.0.1->gitpython!=3.1.19,<4,>=3.0.7->streamlit) (5.0.2)\n",
            "Requirement already satisfied: MarkupSafe>=2.0 in /usr/local/lib/python3.11/dist-packages (from jinja2->altair<6,>=4.0->streamlit) (3.0.2)\n",
            "Requirement already satisfied: attrs>=22.2.0 in /usr/local/lib/python3.11/dist-packages (from jsonschema>=3.0->altair<6,>=4.0->streamlit) (25.3.0)\n",
            "Requirement already satisfied: jsonschema-specifications>=2023.03.6 in /usr/local/lib/python3.11/dist-packages (from jsonschema>=3.0->altair<6,>=4.0->streamlit) (2024.10.1)\n",
            "Requirement already satisfied: referencing>=0.28.4 in /usr/local/lib/python3.11/dist-packages (from jsonschema>=3.0->altair<6,>=4.0->streamlit) (0.36.2)\n",
            "Requirement already satisfied: rpds-py>=0.7.1 in /usr/local/lib/python3.11/dist-packages (from jsonschema>=3.0->altair<6,>=4.0->streamlit) (0.23.1)\n",
            "Requirement already satisfied: six>=1.5 in /usr/local/lib/python3.11/dist-packages (from python-dateutil>=2.8.2->pandas<3,>=1.4.0->streamlit) (1.17.0)\n"
          ]
        }
      ]
    },
    {
      "cell_type": "code",
      "source": [
        "!streamlit run /content/app.py --server.runOnSave=true"
      ],
      "metadata": {
        "colab": {
          "base_uri": "https://localhost:8080/"
        },
        "id": "OcvACXhygJgG",
        "outputId": "f23971a8-33ff-4739-f546-c0708a238c60"
      },
      "execution_count": null,
      "outputs": [
        {
          "output_type": "stream",
          "name": "stdout",
          "text": [
            "\n",
            "Collecting usage statistics. To deactivate, set browser.gatherUsageStats to false.\n",
            "\u001b[0m\n",
            "\u001b[0m\n",
            "\u001b[34m\u001b[1m  You can now view your Streamlit app in your browser.\u001b[0m\n",
            "\u001b[0m\n",
            "\u001b[34m  Local URL: \u001b[0m\u001b[1mhttp://localhost:8501\u001b[0m\n",
            "\u001b[34m  Network URL: \u001b[0m\u001b[1mhttp://172.28.0.12:8501\u001b[0m\n",
            "\u001b[34m  External URL: \u001b[0m\u001b[1mhttp://34.73.27.113:8501\u001b[0m\n",
            "\u001b[0m\n",
            "\u001b[34m  Stopping...\u001b[0m\n",
            "\u001b[34m  Stopping...\u001b[0m\n",
            "Exception ignored in atexit callback: <function shutdown at 0x7ef46d8513a0>\n",
            "Traceback (most recent call last):\n",
            "  File \"/usr/lib/python3.11/logging/__init__.py\", line 2177, in shutdown\n",
            "    for wr in reversed(handlerList[:]):\n",
            "              ^^^^^^^^^^^^^^^^^^^^^^^^\n",
            "  File \"/usr/local/lib/python3.11/dist-packages/streamlit/web/bootstrap.py\", line 44, in signal_handler\n",
            "    server.stop()\n",
            "  File \"/usr/local/lib/python3.11/dist-packages/streamlit/web/server/server.py\", line 470, in stop\n",
            "    self._runtime.stop()\n",
            "  File \"/usr/local/lib/python3.11/dist-packages/streamlit/runtime/runtime.py\", line 337, in stop\n",
            "    async_objs.eventloop.call_soon_threadsafe(stop_on_eventloop)\n",
            "  File \"/usr/lib/python3.11/asyncio/base_events.py\", line 807, in call_soon_threadsafe\n",
            "    self._check_closed()\n",
            "  File \"/usr/lib/python3.11/asyncio/base_events.py\", line 520, in _check_closed\n",
            "    raise RuntimeError('Event loop is closed')\n",
            "RuntimeError: Event loop is closed\n"
          ]
        }
      ]
    }
  ]
}