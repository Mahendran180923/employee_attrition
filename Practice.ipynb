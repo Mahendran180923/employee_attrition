{
  "nbformat": 4,
  "nbformat_minor": 0,
  "metadata": {
    "colab": {
      "provenance": [],
      "toc_visible": true,
      "include_colab_link": true
    },
    "kernelspec": {
      "name": "python3",
      "display_name": "Python 3"
    },
    "language_info": {
      "name": "python"
    }
  },
  "cells": [
    {
      "cell_type": "markdown",
      "metadata": {
        "id": "view-in-github",
        "colab_type": "text"
      },
      "source": [
        "<a href=\"https://colab.research.google.com/github/Mahendran180923/employee_attrition/blob/main/Practice.ipynb\" target=\"_parent\"><img src=\"https://colab.research.google.com/assets/colab-badge.svg\" alt=\"Open In Colab\"/></a>"
      ]
    },
    {
      "cell_type": "markdown",
      "source": [
        "# **[GOOGLE DRIVE LINK](https://drive.google.com/drive/folders/1BsNGHSBXnlDqVGkwZG55A1RP8UV7WDfq)**"
      ],
      "metadata": {
        "id": "DznzeAB5S_7i"
      }
    },
    {
      "cell_type": "markdown",
      "source": [
        "# **Data Types**"
      ],
      "metadata": {
        "id": "3PTUw5CbXqSF"
      }
    },
    {
      "cell_type": "code",
      "execution_count": null,
      "metadata": {
        "id": "te6kkXWlSeGr"
      },
      "outputs": [],
      "source": []
    },
    {
      "cell_type": "code",
      "source": [
        "lst = []\n",
        "\n",
        "# number of elements as input\n",
        "n = int(input(\"Enter number of elements : \"))\n",
        "\n",
        "# iterating till the range\n",
        "for i in range(0, n):\n",
        "    ele = int(input())\n",
        "    # adding the element\n",
        "    lst.append(ele)\n",
        "\n",
        "print(lst)"
      ],
      "metadata": {
        "id": "BNu1soqTYhsi",
        "colab": {
          "base_uri": "https://localhost:8080/"
        },
        "outputId": "4642c7f2-b578-4166-ed53-9d605fcbed92"
      },
      "execution_count": null,
      "outputs": [
        {
          "output_type": "stream",
          "name": "stdout",
          "text": [
            "Enter number of elements : 5\n",
            "4\n",
            "3\n",
            "2\n",
            "1\n",
            "2\n",
            "[4, 3, 2, 1, 2]\n"
          ]
        }
      ]
    },
    {
      "cell_type": "code",
      "source": [
        "10"
      ],
      "metadata": {
        "id": "hKmwXKMKUzcE"
      },
      "execution_count": null,
      "outputs": []
    },
    {
      "cell_type": "code",
      "source": [
        "engine_number = 0\n",
        "number_plate = input()\n",
        "for char in number_plate:\n",
        "    if char.isdigit():\n",
        "      engine_number += int(char)\n",
        "print(engine_number)"
      ],
      "metadata": {
        "colab": {
          "base_uri": "https://localhost:8080/"
        },
        "id": "VYf0qpr-jhuN",
        "outputId": "6d24aa6c-ee35-4f5d-e8d5-78a58ca96bcc"
      },
      "execution_count": null,
      "outputs": [
        {
          "output_type": "stream",
          "name": "stdout",
          "text": [
            "TN72al0391\n",
            "22\n"
          ]
        }
      ]
    },
    {
      "cell_type": "code",
      "source": [],
      "metadata": {
        "id": "eNCW56sEmraH"
      },
      "execution_count": null,
      "outputs": []
    },
    {
      "cell_type": "code",
      "source": [
        "alphabet = \"bcdfghjklmnopqrstuvwxyzABCDEFGHIJKLMNPQRSTVWXYZ\"\n",
        "consonants = list(alphabet)\n",
        "print(consonants)\n",
        "\n"
      ],
      "metadata": {
        "colab": {
          "base_uri": "https://localhost:8080/"
        },
        "id": "k3zZjTaymNSY",
        "outputId": "56ca5c0e-8a8c-4cc4-af22-0c2b139a64a1"
      },
      "execution_count": null,
      "outputs": [
        {
          "output_type": "stream",
          "name": "stdout",
          "text": [
            "['b', 'c', 'd', 'f', 'g', 'h', 'j', 'k', 'l', 'm', 'n', 'o', 'p', 'q', 'r', 's', 't', 'u', 'v', 'w', 'x', 'y', 'z', 'A', 'B', 'C', 'D', 'E', 'F', 'G', 'H', 'I', 'J', 'K', 'L', 'M', 'N', 'P', 'Q', 'R', 'S', 'T', 'V', 'W', 'X', 'Y', 'Z']\n"
          ]
        }
      ]
    },
    {
      "cell_type": "code",
      "source": [
        "s = input()\n",
        "vowels = \"aeiouAEIOU\"\n",
        "result = ''\n",
        "for char in s:\n",
        "  if char in vowels:\n",
        "    result += ''\n",
        "  elif char.isalpha():\n",
        "    result += char\n",
        "  else:\n",
        "    result += char\n",
        "print(result.strip())\n"
      ],
      "metadata": {
        "colab": {
          "base_uri": "https://localhost:8080/"
        },
        "id": "cNUvoTKjpmMr",
        "outputId": "4cf1c9a8-bee2-4489-b8ff-3a046eb428d3"
      },
      "execution_count": null,
      "outputs": [
        {
          "output_type": "stream",
          "name": "stdout",
          "text": [
            "I am shrey\n",
            "m shry\n"
          ]
        }
      ]
    },
    {
      "cell_type": "code",
      "source": [
        "result = \"\"\n",
        "s = input()\n",
        "vowels = 'aeiouAEIOU'\n",
        "for consonant in s:\n",
        "  if consonant != vowels:\n",
        "    continue\n",
        "    result.append(consonant)\n",
        "\n",
        "    print(consonant)\n",
        "\n"
      ],
      "metadata": {
        "colab": {
          "base_uri": "https://localhost:8080/"
        },
        "id": "PFGBPR_NrrLP",
        "outputId": "e6789c3d-17a6-422a-b269-3eb58cd0f2db"
      },
      "execution_count": null,
      "outputs": [
        {
          "name": "stdout",
          "output_type": "stream",
          "text": [
            "I am shrey \n"
          ]
        }
      ]
    },
    {
      "cell_type": "code",
      "source": [
        "def print_consonants(s):\n",
        "    vowels = 'aeiouAEIOU'\n",
        "    result = ''\n",
        "\n",
        "    for char in s:\n",
        "        if char in vowels:\n",
        "            continue  # skip vowels\n",
        "        else:\n",
        "            result += char  # append consonants and non-alphabetic characters\n",
        "\n",
        "    print(result)\n",
        "\n",
        "# Test the function\n",
        "s = \"I am shrey\"\n",
        "print_consonants(s)  # Output: \" m shry\"\n",
        "\n",
        "\n",
        "\n"
      ],
      "metadata": {
        "colab": {
          "base_uri": "https://localhost:8080/"
        },
        "id": "aT7pQcFQ7ERn",
        "outputId": "b8fbfd97-33b9-458c-88a5-e25b4d36ad48"
      },
      "execution_count": null,
      "outputs": [
        {
          "output_type": "stream",
          "name": "stdout",
          "text": [
            " m shry\n"
          ]
        }
      ]
    },
    {
      "cell_type": "code",
      "source": [
        "S = input()\n",
        "weight = 0\n",
        "for char in S:\n",
        "    weight += ord(char)\n",
        "print(weight)\n"
      ],
      "metadata": {
        "colab": {
          "base_uri": "https://localhost:8080/"
        },
        "id": "WyttpAUg-Irh",
        "outputId": "c37bb06b-459f-4238-a631-a4395c7baa2e"
      },
      "execution_count": null,
      "outputs": [
        {
          "output_type": "stream",
          "name": "stdout",
          "text": [
            "abc\n",
            "294\n"
          ]
        }
      ]
    },
    {
      "cell_type": "code",
      "source": [
        "s = input()\n",
        "\n",
        "unique_char = set(s)\n",
        "print(unique_char)\n"
      ],
      "metadata": {
        "colab": {
          "base_uri": "https://localhost:8080/"
        },
        "id": "UuhQ1QrMAgAB",
        "outputId": "1d261cf7-1c66-4ea2-95b9-e744034dcd8b"
      },
      "execution_count": null,
      "outputs": [
        {
          "output_type": "stream",
          "name": "stdout",
          "text": [
            "aabbcc\n",
            "{'a', 'c', 'b'}\n"
          ]
        }
      ]
    },
    {
      "cell_type": "code",
      "source": [
        "# n = int(input())\n",
        "# digits = list(map(int, str(n)))\n",
        "# print(digits)\n",
        "# for num in digits:\n",
        "#   for digit in digits:\n",
        "#     if num == digits:\n",
        "#       print(num)\n",
        "\n",
        "def remove_duplicates(digits):\n",
        "    result = []\n",
        "    i = 0\n",
        "    while i < len(digits):\n",
        "        if i + 1 < len(digits) and digits[i] == digits[i + 1]:\n",
        "            i += 2\n",
        "        else:\n",
        "            result.append(digits[i])\n",
        "            i += 1\n",
        "    return ''.join(map(str, result)) if result else -1\n",
        "\n",
        "# Test the function\n",
        "digits = [1, 3, 3, 1]\n",
        "print(remove_duplicates(digits))  # Output: 11\n",
        "\n",
        "\n"
      ],
      "metadata": {
        "colab": {
          "base_uri": "https://localhost:8080/"
        },
        "id": "Ytz7GT3FDIla",
        "outputId": "7f047b9a-61bd-48d4-94bb-337e576c46a1"
      },
      "execution_count": null,
      "outputs": [
        {
          "output_type": "stream",
          "name": "stdout",
          "text": [
            "11\n"
          ]
        }
      ]
    },
    {
      "cell_type": "code",
      "source": [
        "n = int(input())\n",
        "result = []\n",
        "i = 0\n",
        "digits = list(map(int, str(n)))\n",
        "\n",
        "while i < len(digits):\n",
        "  if i + 1 < len(digits) and digits[i] == digits[i+1]:\n",
        "    i += 2\n",
        "  else:\n",
        "    result.append(digits[i])\n",
        "    i += 1\n",
        "print(''.join(map(str, result)) if result else - 1)"
      ],
      "metadata": {
        "colab": {
          "base_uri": "https://localhost:8080/"
        },
        "id": "Z7XZScZ-JXWI",
        "outputId": "9a18c038-4949-4546-e497-9c6a0bb1dda8"
      },
      "execution_count": null,
      "outputs": [
        {
          "output_type": "stream",
          "name": "stdout",
          "text": [
            "1331\n",
            "11\n"
          ]
        }
      ]
    },
    {
      "cell_type": "code",
      "source": [
        "n, m = map(int, input().split())\n",
        "print(n * m)\n"
      ],
      "metadata": {
        "colab": {
          "base_uri": "https://localhost:8080/"
        },
        "id": "ZAIri3nUaCvF",
        "outputId": "f1807679-7354-4033-b2e6-2552d94afe13"
      },
      "execution_count": null,
      "outputs": [
        {
          "output_type": "stream",
          "name": "stdout",
          "text": [
            "99999 99998\n",
            "9999700002\n"
          ]
        }
      ]
    },
    {
      "cell_type": "code",
      "source": [
        "S = input()\n",
        "print(S[::-1].capitalize())\n",
        "\n",
        "# result = (','.join(S))\n",
        "# print(result)\n",
        "# x = list(map(str, result.split()))\n",
        "# y = x.reverse()\n",
        "# print(y)\n",
        "\n",
        "\n"
      ],
      "metadata": {
        "colab": {
          "base_uri": "https://localhost:8080/"
        },
        "id": "fH-OIJ17i756",
        "outputId": "5cb74db3-d939-4b88-aece-2049cfd4cd39"
      },
      "execution_count": null,
      "outputs": [
        {
          "output_type": "stream",
          "name": "stdout",
          "text": [
            "mahendran\n",
            "Nardneham\n"
          ]
        }
      ]
    },
    {
      "cell_type": "code",
      "source": [
        "S = input()\n",
        "x = S[::-1]\n",
        "if S == x:\n",
        "    print(1)\n",
        "else:\n",
        "    print(0)"
      ],
      "metadata": {
        "colab": {
          "base_uri": "https://localhost:8080/"
        },
        "id": "Ce8fSHIMoaPs",
        "outputId": "303f5cfd-b0e5-4db0-ee77-b33341c80c3c"
      },
      "execution_count": null,
      "outputs": [
        {
          "output_type": "stream",
          "name": "stdout",
          "text": [
            "NITIN\n",
            "1\n"
          ]
        }
      ]
    },
    {
      "cell_type": "code",
      "source": [
        "number_plate = map(str, input().split())\n",
        "engine_number = []\n",
        "for char in number_plate:\n",
        "    if char.isdigit():\n",
        "        engine_number.append(char)\n",
        "        hi = max(engine_number)\n",
        "print(hi)\n"
      ],
      "metadata": {
        "colab": {
          "base_uri": "https://localhost:8080/"
        },
        "id": "YZDty0MVpQES",
        "outputId": "bc310a9d-c156-4806-8eb7-cf1dd820a59f"
      },
      "execution_count": null,
      "outputs": [
        {
          "output_type": "stream",
          "name": "stdout",
          "text": [
            "I was born on 12 october 1998\n",
            "1998\n"
          ]
        }
      ]
    },
    {
      "cell_type": "code",
      "source": [
        "X = input()\n",
        "Y = X.replace(\".\" , \" \")\n",
        "print(Y)\n",
        "S = list(map(str, Y.split()))\n",
        "\n",
        "print(S)\n",
        "result = []\n",
        "for char in S:\n",
        "  if char.isdigit():\n",
        "    result.append(char)\n",
        "    print(result)\n",
        "    highest_num = max(map(int, result))\n",
        "print(highest_num)\n"
      ],
      "metadata": {
        "id": "D2mITUzlrDKX",
        "colab": {
          "base_uri": "https://localhost:8080/"
        },
        "outputId": "d86d4194-f4dd-469b-f129-2f2cef954f42"
      },
      "execution_count": null,
      "outputs": [
        {
          "output_type": "stream",
          "name": "stdout",
          "text": [
            "I was born on 12 october 1998.\n",
            "I was born on 12 october 1998 \n",
            "['I', 'was', 'born', 'on', '12', 'october', '1998']\n",
            "['12']\n",
            "['12', '1998']\n",
            "1998\n"
          ]
        }
      ]
    },
    {
      "cell_type": "code",
      "source": [
        "def vowel(S):\n",
        "    vowels = \"aeiouAEIOU\"\n",
        "    for char in S:\n",
        "        if char in vowels:\n",
        "            return 'yes'\n",
        "    return 'no'\n",
        "\n",
        "S = input()\n",
        "\n",
        "print(vowel(S))\n",
        "\n",
        "\n"
      ],
      "metadata": {
        "colab": {
          "base_uri": "https://localhost:8080/"
        },
        "id": "rkUoicANuWra",
        "outputId": "d9f94295-ef99-49d2-c88b-d3d3a579b875"
      },
      "execution_count": null,
      "outputs": [
        {
          "output_type": "stream",
          "name": "stdout",
          "text": [
            "united\n",
            "yes\n"
          ]
        }
      ]
    },
    {
      "cell_type": "code",
      "source": [
        "N = int(input())\n",
        "for i in range(1, N+1):\n",
        "    if i %2 ==0:\n",
        "      print(i)"
      ],
      "metadata": {
        "id": "U8N3cebVGMK6"
      },
      "execution_count": null,
      "outputs": []
    },
    {
      "cell_type": "code",
      "source": [
        "N = int(input())\n",
        "L, R = map(int, input().split())\n",
        "if N >= L and N <= R:\n",
        "    print('yes')\n",
        "else:\n",
        "    print('no')\n"
      ],
      "metadata": {
        "colab": {
          "base_uri": "https://localhost:8080/"
        },
        "id": "DyWGbbAbMyrB",
        "outputId": "1c5f2a90-b344-4392-94b0-a8ca6deb5d53"
      },
      "execution_count": null,
      "outputs": [
        {
          "output_type": "stream",
          "name": "stdout",
          "text": [
            "4\n",
            "3 5\n",
            "yes\n"
          ]
        }
      ]
    },
    {
      "cell_type": "code",
      "source": [
        "A, N = map(int, input().split())\n",
        "for i in range(1, N+1):\n",
        "    print(A)"
      ],
      "metadata": {
        "id": "quNyr0-sM72G"
      },
      "execution_count": null,
      "outputs": []
    },
    {
      "cell_type": "code",
      "source": [
        "N = int(input())\n",
        "result = []\n",
        "for i in range(1, N+1):\n",
        "  result.append(i)\n",
        "print(result)\n",
        "result.reverse()\n",
        "print(result)"
      ],
      "metadata": {
        "colab": {
          "base_uri": "https://localhost:8080/"
        },
        "id": "Dct-yJkcNRmD",
        "outputId": "a7456ed6-9028-4ad4-869b-b8145832a6bf"
      },
      "execution_count": null,
      "outputs": [
        {
          "output_type": "stream",
          "name": "stdout",
          "text": [
            "10\n",
            "[1, 2, 3, 4, 5, 6, 7, 8, 9, 10]\n",
            "[10, 9, 8, 7, 6, 5, 4, 3, 2, 1]\n"
          ]
        }
      ]
    },
    {
      "cell_type": "code",
      "source": [
        "N = input()\n",
        "print(' '.join(N))"
      ],
      "metadata": {
        "colab": {
          "base_uri": "https://localhost:8080/"
        },
        "id": "CYCB4o1BQ2UO",
        "outputId": "87067405-5c54-4ad4-d601-06d9d4a8461f"
      },
      "execution_count": null,
      "outputs": [
        {
          "output_type": "stream",
          "name": "stdout",
          "text": [
            "348\n",
            "3 4 8\n"
          ]
        }
      ]
    },
    {
      "cell_type": "code",
      "source": [
        "N = int(input())\n",
        "result = 0\n",
        "for i in range(1, N+1):\n",
        "  result += i\n",
        "print(result)\n"
      ],
      "metadata": {
        "colab": {
          "base_uri": "https://localhost:8080/"
        },
        "id": "kMQlWiGfUN85",
        "outputId": "04c4b359-738b-4d26-b7ac-d78296dc649c"
      },
      "execution_count": null,
      "outputs": [
        {
          "output_type": "stream",
          "name": "stdout",
          "text": [
            "23\n",
            "276\n"
          ]
        }
      ]
    },
    {
      "cell_type": "code",
      "source": [
        "N = int(input())\n",
        "if N > 1:\n",
        "    for i in range(2, N):\n",
        "        if N % i == 0:\n",
        "            print('yes')\n",
        "            print(i)\n",
        "            break\n",
        "    else:\n",
        "        print('no')\n",
        "else:\n",
        "    print('no')\n",
        "\n"
      ],
      "metadata": {
        "colab": {
          "base_uri": "https://localhost:8080/"
        },
        "id": "wyCL4iEGbc1W",
        "outputId": "9bc6f2a7-2fee-40db-8a2a-802ac8812d56"
      },
      "execution_count": null,
      "outputs": [
        {
          "output_type": "stream",
          "name": "stdout",
          "text": [
            "123\n",
            "yes\n",
            "3\n"
          ]
        }
      ]
    },
    {
      "cell_type": "code",
      "source": [
        "N, M = map(int, input().split())\n",
        "L = int(N+M)\n",
        "if L % 2 == 0:\n",
        "    print(\"even\")\n",
        "else:\n",
        "    print(\"Odd\")"
      ],
      "metadata": {
        "colab": {
          "base_uri": "https://localhost:8080/"
        },
        "id": "ICXNEYqhl7Zm",
        "outputId": "f6992222-0f55-4d93-99bc-5488839299cc"
      },
      "execution_count": null,
      "outputs": [
        {
          "output_type": "stream",
          "name": "stdout",
          "text": [
            "9 2\n",
            "Odd\n"
          ]
        }
      ]
    },
    {
      "cell_type": "code",
      "source": [
        "N = input()\n",
        "result = 0\n",
        "mylist = [int(digit) for digit in str(N)]\n",
        "for i in mylist:\n",
        "  result += i\n",
        "print(result)"
      ],
      "metadata": {
        "colab": {
          "base_uri": "https://localhost:8080/"
        },
        "id": "0dFuszx5y0kB",
        "outputId": "b7269116-ab96-4416-f044-f95e5c987d23"
      },
      "execution_count": null,
      "outputs": [
        {
          "output_type": "stream",
          "name": "stdout",
          "text": [
            "123\n",
            "6\n"
          ]
        }
      ]
    },
    {
      "cell_type": "code",
      "source": [
        "N = input()\n",
        "J = [char for char in N]\n",
        "print(J)"
      ],
      "metadata": {
        "colab": {
          "base_uri": "https://localhost:8080/"
        },
        "id": "HfO3Oxqu1OXa",
        "outputId": "63dfd124-c2a2-464d-e7fd-71514893c8b7"
      },
      "execution_count": null,
      "outputs": [
        {
          "output_type": "stream",
          "name": "stdout",
          "text": [
            "mahendran\n",
            "['m', 'a', 'h', 'e', 'n', 'd', 'r', 'a', 'n']\n"
          ]
        }
      ]
    },
    {
      "cell_type": "code",
      "source": [
        "N = input()\n",
        "mylist = [int(digit) for digit in str(N)]\n",
        "odd = []\n",
        "even = []\n",
        "for i in mylist:\n",
        "    if i % 2 ==0:\n",
        "        even.append(i)\n",
        "    else:\n",
        "        odd.append(i)\n",
        "print(' '.join(map(str, even)))\n",
        "print(' '.join(map(str, odd)))\n"
      ],
      "metadata": {
        "colab": {
          "base_uri": "https://localhost:8080/"
        },
        "id": "58pvScW74ALK",
        "outputId": "2df25d58-9c48-412b-f8fb-5ba783817183"
      },
      "execution_count": null,
      "outputs": [
        {
          "output_type": "stream",
          "name": "stdout",
          "text": [
            "1234\n",
            "2 4\n",
            "1 3\n"
          ]
        }
      ]
    },
    {
      "cell_type": "code",
      "source": [
        "N = int(input())\n",
        "result = 0\n",
        "for i in range(1, N+1):\n",
        "  result += i\n",
        "print(result)"
      ],
      "metadata": {
        "colab": {
          "base_uri": "https://localhost:8080/"
        },
        "id": "Vlbsqmer8NC6",
        "outputId": "9c2d73c6-54d2-42cb-b2d5-d0054e8ee778"
      },
      "execution_count": null,
      "outputs": [
        {
          "output_type": "stream",
          "name": "stdout",
          "text": [
            "10\n",
            "55\n"
          ]
        }
      ]
    },
    {
      "cell_type": "code",
      "source": [
        "N = input()\n",
        "X = [int(digit) for digit in str(N)]\n",
        "Y = 0\n",
        "Z = 0\n",
        "for i in X:\n",
        "    if i == 1:\n",
        "      Y += 1\n",
        "    else:\n",
        "      Y += -1\n",
        "if Y < 0:\n",
        "  print(-1)\n",
        "else:\n",
        "  print(Y)\n",
        "\n",
        "\n"
      ],
      "metadata": {
        "colab": {
          "base_uri": "https://localhost:8080/"
        },
        "id": "Lao9o16lxLAk",
        "outputId": "5475d4f5-fcd1-44a8-8e8c-08ebed7c7cd7"
      },
      "execution_count": null,
      "outputs": [
        {
          "output_type": "stream",
          "name": "stdout",
          "text": [
            "101011111\n",
            "5\n"
          ]
        }
      ]
    },
    {
      "cell_type": "code",
      "source": [
        "\n",
        "N = input()\n",
        "X = [int(digit) for digit in str(N)]\n",
        "addition = 0\n",
        "product = 1\n",
        "for i in X:\n",
        "  addition += i\n",
        "print(addition)\n",
        "for j in X:\n",
        "  product *= j\n",
        "print(product)\n",
        "Y = int(addition + product)\n",
        "print(Y)\n",
        "if Y == int(N):\n",
        "  print(\"Great\")\n",
        "else:\n",
        "  print(\"no\")\n",
        "\n"
      ],
      "metadata": {
        "colab": {
          "base_uri": "https://localhost:8080/"
        },
        "id": "PiPexd5W11L4",
        "outputId": "ce5fa130-7c66-4bf3-f121-915c3685e9eb"
      },
      "execution_count": null,
      "outputs": [
        {
          "output_type": "stream",
          "name": "stdout",
          "text": [
            "59\n",
            "14\n",
            "45\n",
            "59\n",
            "Great\n"
          ]
        }
      ]
    },
    {
      "cell_type": "code",
      "source": [
        "N = input()\n",
        "print(N[::-1])\n"
      ],
      "metadata": {
        "colab": {
          "base_uri": "https://localhost:8080/"
        },
        "id": "7V7aAzRP78A9",
        "outputId": "2e9f650a-9bdb-42ce-ea12-8585fdfe52fa"
      },
      "execution_count": null,
      "outputs": [
        {
          "output_type": "stream",
          "name": "stdout",
          "text": [
            "GUVI\n",
            "IVUG\n"
          ]
        }
      ]
    },
    {
      "cell_type": "markdown",
      "source": [
        "# Separtor"
      ],
      "metadata": {
        "id": "Vp9FqB7H1zmu"
      }
    },
    {
      "cell_type": "code",
      "source": [
        "n = int(input())\n",
        "numbers = list(map(int, input().split()))\n",
        "\n",
        "numbers.reverse()\n",
        "\n",
        "print(*numbers, sep='->')"
      ],
      "metadata": {
        "colab": {
          "base_uri": "https://localhost:8080/"
        },
        "id": "SVU_KbrlDZkU",
        "outputId": "6c4ff9a7-0249-426e-d9c0-83770dd37475"
      },
      "execution_count": null,
      "outputs": [
        {
          "output_type": "stream",
          "name": "stdout",
          "text": [
            "7\n",
            "1 2 3 4 5 6 7\n",
            "7->6->5->4->3->2->1\n"
          ]
        }
      ]
    },
    {
      "cell_type": "code",
      "source": [
        "n = int(input())\n",
        "\n",
        "num = 1\n",
        "for i in range(1, n+1):\n",
        "    for j in range(2*i - 1):\n",
        "        print(num, end=' ')\n",
        "    print()\n",
        "    num += 0"
      ],
      "metadata": {
        "colab": {
          "base_uri": "https://localhost:8080/"
        },
        "id": "g1NB7QEEU6aI",
        "outputId": "a67242f9-df35-405d-8313-69e28e8cd319"
      },
      "execution_count": null,
      "outputs": [
        {
          "output_type": "stream",
          "name": "stdout",
          "text": [
            "3\n",
            "1 \n",
            "1 1 1 \n",
            "1 1 1 1 1 \n"
          ]
        }
      ]
    },
    {
      "cell_type": "code",
      "source": [
        "N, M = map(int, input().split())\n",
        "print(min(N, M))"
      ],
      "metadata": {
        "colab": {
          "base_uri": "https://localhost:8080/"
        },
        "id": "e9_OLhWiYxbb",
        "outputId": "d1e55e21-554a-4f9f-e2c5-9886b0822dc5"
      },
      "execution_count": null,
      "outputs": [
        {
          "output_type": "stream",
          "name": "stdout",
          "text": [
            "1 23\n",
            "1\n"
          ]
        }
      ]
    },
    {
      "cell_type": "code",
      "source": [
        "n = int(input())\n",
        "result = 1\n",
        "for i in range(1, n+1):\n",
        "   result *= i\n",
        "print(result)"
      ],
      "metadata": {
        "colab": {
          "base_uri": "https://localhost:8080/"
        },
        "id": "y1031IW9ZT4j",
        "outputId": "ea3c9139-78f2-4f06-c6f8-0e1b405a1c5e"
      },
      "execution_count": null,
      "outputs": [
        {
          "output_type": "stream",
          "name": "stdout",
          "text": [
            "2\n",
            "2\n"
          ]
        }
      ]
    },
    {
      "cell_type": "code",
      "source": [
        "A = input()\n",
        "L = A.replace(\" \", \"\")\n",
        "print(L)\n",
        "print(len(L))"
      ],
      "metadata": {
        "colab": {
          "base_uri": "https://localhost:8080/"
        },
        "id": "CjpK3LS-gBie",
        "outputId": "fd013177-5349-453b-e29c-7efa522d51bd"
      },
      "execution_count": null,
      "outputs": [
        {
          "output_type": "stream",
          "name": "stdout",
          "text": [
            "Hello World\n",
            "HelloWorld\n",
            "10\n"
          ]
        }
      ]
    },
    {
      "cell_type": "code",
      "source": [
        "N = input()\n",
        "result = 0\n",
        "L = [int(digit) for digit in N]\n",
        "for i in L:\n",
        "  result += (i**len(N))\n",
        "print(result)\n"
      ],
      "metadata": {
        "colab": {
          "base_uri": "https://localhost:8080/"
        },
        "id": "XEYj6GXEwPFH",
        "outputId": "bfffc520-fe42-465d-ad8f-233f2bea4853"
      },
      "execution_count": null,
      "outputs": [
        {
          "output_type": "stream",
          "name": "stdout",
          "text": [
            "1234\n",
            "[1, 2, 3, 4]\n",
            "354\n"
          ]
        }
      ]
    },
    {
      "cell_type": "markdown",
      "source": [
        "# String **repositioning**"
      ],
      "metadata": {
        "id": "lW8dyp_Y2D4o"
      }
    },
    {
      "cell_type": "code",
      "source": [
        "N = \"hey and bye\"\n",
        "L = list(map(str, N.split()))\n",
        "print(L)\n",
        "# word_to_find = \"and\"\n",
        "# positions = [i+1 for i, word in enumerate(L) if word == word_to_find]\n",
        "# print(positions)\n",
        "for i in range(len(L)):\n",
        "  if L[i] == 'and':\n",
        "    L[i-1], L[i+1] = L[i+1], L[i-1]\n",
        "resposition = ' '.join(L)\n",
        "print(resposition)\n",
        "\n"
      ],
      "metadata": {
        "colab": {
          "base_uri": "https://localhost:8080/"
        },
        "id": "UvWW6V4L0ZVi",
        "outputId": "9797d2ca-e299-42e1-bdfb-849deaf55894"
      },
      "execution_count": null,
      "outputs": [
        {
          "output_type": "stream",
          "name": "stdout",
          "text": [
            "['hey', 'and', 'bye']\n",
            "bye and hey\n"
          ]
        }
      ]
    },
    {
      "cell_type": "code",
      "source": [
        "N = input()\n",
        "L = list(map(int, input().split()))\n",
        "print(L)\n",
        "K = list(map(int, input().split()))\n",
        "print(K)\n",
        "if L == K[::-1]:\n",
        "  print(\"yes\")\n",
        "else:\n",
        "   print(\"no\")\n"
      ],
      "metadata": {
        "colab": {
          "base_uri": "https://localhost:8080/"
        },
        "id": "Xe6J5VJQ9o-R",
        "outputId": "27b94b29-fb56-45dc-b808-1bc5e9b7593e"
      },
      "execution_count": null,
      "outputs": [
        {
          "output_type": "stream",
          "name": "stdout",
          "text": [
            "4\n",
            "1 2 3 4\n",
            "[1, 2, 3, 4]\n",
            "4 3 2 1\n",
            "[4, 3, 2, 1]\n",
            "yes\n"
          ]
        }
      ]
    },
    {
      "cell_type": "code",
      "source": [
        "S = list(map(str, input().split()))\n",
        "print(S)\n",
        "result = [char for char in S]\n",
        "print(result)"
      ],
      "metadata": {
        "colab": {
          "base_uri": "https://localhost:8080/"
        },
        "id": "g1Oj9oZsMYhK",
        "outputId": "6954ad2e-1fb2-4789-a52f-4f3db3c23c63"
      },
      "execution_count": null,
      "outputs": [
        {
          "output_type": "stream",
          "name": "stdout",
          "text": [
            "computer program\n",
            "['computer', 'program']\n",
            "['c', 'p']\n"
          ]
        }
      ]
    },
    {
      "cell_type": "code",
      "source": [
        "num1, num2 = map(int, input().split())\n",
        "# Find the smaller number\n",
        "smaller = min(num1, num2)\n",
        "\n",
        "# Iterate from the smaller number down to 1\n",
        "for i in range(smaller, 0, -1):\n",
        "# Check if the current number is a factor of both inputs\n",
        "  if num1 % i == 0 and num2 % i == 0:\n",
        "    break\n",
        "# If it is, return the current number as the HCF\n",
        "print(i)\n",
        "\n",
        "# Get two integers as input\n",
        "\n",
        "\n",
        "# Calculate and print the HCF\n"
      ],
      "metadata": {
        "colab": {
          "base_uri": "https://localhost:8080/"
        },
        "id": "wwhbSYaZ3x3j",
        "outputId": "90ceabc5-40c7-4c9a-d8ca-b9f379097270"
      },
      "execution_count": null,
      "outputs": [
        {
          "output_type": "stream",
          "name": "stdout",
          "text": [
            "6 12\n",
            "6\n",
            "6\n"
          ]
        }
      ]
    },
    {
      "cell_type": "code",
      "source": [
        "N = int(input())\n",
        "result = []\n",
        "if N > 0:\n",
        "  for i in range(1, N+1):\n",
        "    result.append(i * 9)\n",
        "print(result)\n",
        "\n",
        "print(' '.join(map(str, result)))"
      ],
      "metadata": {
        "colab": {
          "base_uri": "https://localhost:8080/"
        },
        "id": "UjWtNBuuAum4",
        "outputId": "d2ec7095-3263-4959-86ad-d2b3a319c947"
      },
      "execution_count": null,
      "outputs": [
        {
          "output_type": "stream",
          "name": "stdout",
          "text": [
            "3\n",
            "[9, 18, 27]\n",
            "9 18 27\n"
          ]
        }
      ]
    },
    {
      "cell_type": "markdown",
      "source": [
        "# **Common number/string count**"
      ],
      "metadata": {
        "id": "T6PNO4KK2PlN"
      }
    },
    {
      "cell_type": "code",
      "source": [],
      "metadata": {
        "id": "qpCCUoLN2PPX"
      },
      "execution_count": null,
      "outputs": []
    },
    {
      "cell_type": "code",
      "source": [
        "N = int(input())\n",
        "ids = list(map(int, input().split()))\n",
        "id_counts = {}\n",
        "result = []\n",
        "for id in ids:\n",
        "  if id in id_counts:\n",
        "    id_counts[id] += 1\n",
        "  else:\n",
        "    id_counts[id] = 1\n",
        "common_ids = [id for id, count in id_counts.items() if count>1]\n",
        "if len(common_ids) == 0:\n",
        "  print(-1)\n",
        "else:\n",
        "  for id in common_ids:\n",
        "    result.append(id)\n",
        "print(' '.join(map(str, result)))"
      ],
      "metadata": {
        "colab": {
          "base_uri": "https://localhost:8080/"
        },
        "id": "-AAVuGOzJbH4",
        "outputId": "e9192b3b-238f-42b2-dd73-09c4d6ec8b51"
      },
      "execution_count": null,
      "outputs": [
        {
          "output_type": "stream",
          "name": "stdout",
          "text": [
            "5\n",
            "3 2 3 4 2\n",
            "3 2\n"
          ]
        }
      ]
    },
    {
      "cell_type": "code",
      "source": [
        "from google.colab import drive\n",
        "drive.mount('/content/drive')"
      ],
      "metadata": {
        "id": "m3EFgOEeHJjm"
      },
      "execution_count": null,
      "outputs": []
    },
    {
      "cell_type": "markdown",
      "source": [
        "# **String Reverse**"
      ],
      "metadata": {
        "id": "AnyzCcdr2X-s"
      }
    },
    {
      "cell_type": "code",
      "source": [
        "def reverse_string(s):\n",
        "    start = 0\n",
        "    end = len(s) - 1\n",
        "\n",
        "    s = list(s)\n",
        "\n",
        "    while start < end:\n",
        "        if not s[start].isalnum():\n",
        "            start += 1\n",
        "        elif not s[end].isalnum():\n",
        "            end -= 1\n",
        "        else:\n",
        "            s[start], s[end] = s[end], s[start]\n",
        "            start += 1\n",
        "            end -= 1\n",
        "\n",
        "    return ''.join(s)\n",
        "\n",
        "s = input()\n",
        "print(reverse_string(s))"
      ],
      "metadata": {
        "colab": {
          "base_uri": "https://localhost:8080/"
        },
        "id": "7tdUBQhW1R1W",
        "outputId": "14cff58d-674c-4332-de71-a35a070bdbda"
      },
      "execution_count": null,
      "outputs": [
        {
          "output_type": "stream",
          "name": "stdout",
          "text": [
            "A man, in the boat says : I see 1-2-3 in the sky\n",
            "y kse, ht ni3 21ee sIsy : a sta o-b-e ht nin amA\n"
          ]
        }
      ]
    },
    {
      "cell_type": "markdown",
      "source": [
        "# **Remove articles like A, AN, The**"
      ],
      "metadata": {
        "id": "TZfATPqZ2vKq"
      }
    },
    {
      "cell_type": "code",
      "source": [
        "articles = ['a', 'A', 'an', 'An', 'the', 'The']\n",
        "S = list(map(str, input().split()))\n",
        "result = []\n",
        "for i in range(len(S)):\n",
        "  if S[i] in articles and i < len(S) - 1:\n",
        "    result.append(S[i+1])\n",
        "if len(result) == 0:\n",
        "  print(-1)\n",
        "else:\n",
        "  print(' '.join(result))"
      ],
      "metadata": {
        "colab": {
          "base_uri": "https://localhost:8080/"
        },
        "id": "s7t1wl5XBjBK",
        "outputId": "8a4e015b-5d85-4899-a6b7-809e84aa3123"
      },
      "execution_count": null,
      "outputs": [
        {
          "output_type": "stream",
          "name": "stdout",
          "text": [
            "The sun rises in the east\n",
            "sun east\n"
          ]
        }
      ]
    },
    {
      "cell_type": "markdown",
      "source": [
        "# **String and number count in text**"
      ],
      "metadata": {
        "id": "Cx2weREa26yF"
      }
    },
    {
      "cell_type": "code",
      "source": [
        "s = \"AC30BD40\"\n",
        "num = 0\n",
        "text = []\n",
        "\n",
        "for i in s:\n",
        "  if i.isdigit():\n",
        "    num += int(i)\n",
        "  elif i.isalpha():\n",
        "    text.append(i)\n",
        "\n",
        "\n",
        "text_1 = (''.join(map(str, text)))\n",
        "\n",
        "print(text_1+str(num))\n",
        "\n"
      ],
      "metadata": {
        "colab": {
          "base_uri": "https://localhost:8080/"
        },
        "id": "5NJUnaq5YiXc",
        "outputId": "a912072b-1465-4a0a-bdcb-2e717995853c"
      },
      "execution_count": null,
      "outputs": [
        {
          "output_type": "stream",
          "name": "stdout",
          "text": [
            "ACBD7\n"
          ]
        }
      ]
    },
    {
      "cell_type": "markdown",
      "source": [
        "# **Words count in text**"
      ],
      "metadata": {
        "id": "bQWnXN_Z3DRa"
      }
    },
    {
      "cell_type": "code",
      "source": [
        "words = input()\n",
        "word_counts = {}\n",
        "result = []\n",
        "for word in words:\n",
        "  if word in word_counts:\n",
        "    word_counts[word] += 1\n",
        "  else:\n",
        "    word_counts[word] = 1\n",
        "common_letter = [word for word, count in word_counts.items() if count==1]\n",
        "for word in common_letter:\n",
        "    result.append(word)\n",
        "print(''.join(map(str, result)))"
      ],
      "metadata": {
        "colab": {
          "base_uri": "https://localhost:8080/"
        },
        "id": "5swcUraasTWp",
        "outputId": "38009f8d-e2a2-46be-c130-9f7a4b962505"
      },
      "execution_count": null,
      "outputs": [
        {
          "output_type": "stream",
          "name": "stdout",
          "text": [
            "akdlamisikd\n",
            "lms\n"
          ]
        }
      ]
    },
    {
      "cell_type": "markdown",
      "source": [
        "# **Reverse words**"
      ],
      "metadata": {
        "id": "Hpw6Yn4t3MWq"
      }
    },
    {
      "cell_type": "code",
      "source": [
        "s = input()\n",
        "sentence = list(map(str, s.split()))\n",
        "reverse_words = sentence[::-1]\n",
        "print(' '.join(reverse_words))\n"
      ],
      "metadata": {
        "colab": {
          "base_uri": "https://localhost:8080/"
        },
        "id": "oY9v-l3rw4Tr",
        "outputId": "ebbe8e42-0691-4b4e-d3fd-cae39b52b87c"
      },
      "execution_count": null,
      "outputs": [
        {
          "output_type": "stream",
          "name": "stdout",
          "text": [
            "virat kohli\n",
            "kohli virat\n"
          ]
        }
      ]
    },
    {
      "cell_type": "markdown",
      "source": [
        "# **You are given a string ‘s’.Your task is to print the string in alternate lowercase and uppercase order**"
      ],
      "metadata": {
        "id": "bjW8NFcu3UMw"
      }
    },
    {
      "cell_type": "code",
      "source": [
        "#  You are given a string ‘s’.Your task is to print the string in alternate lowercase and uppercase order.\n",
        "s = \"abcd efgh ijkl\"\n",
        "sentence = list(map(str, s.split()))\n",
        "result = []\n",
        "for i in range(len(sentence)):\n",
        "  if i % 2 == 0:\n",
        "    result.append(sentence[i].upper())\n",
        "  else:\n",
        "    result.append(sentence[i].lower())\n",
        "print(' '.join(result))"
      ],
      "metadata": {
        "colab": {
          "base_uri": "https://localhost:8080/"
        },
        "id": "GzMeiruZyEHo",
        "outputId": "8af1134e-139b-4e98-bac7-0ebefc89262d"
      },
      "execution_count": null,
      "outputs": [
        {
          "output_type": "stream",
          "name": "stdout",
          "text": [
            "ABCD efgh IJKL\n"
          ]
        }
      ]
    },
    {
      "cell_type": "code",
      "source": [
        "S = input()\n",
        "sentence = list(map(str, S.split()))\n",
        "result = []\n",
        "count_words = {}\n",
        "for word in sentence:\n",
        "    if word in count_words:\n",
        "        count_words[word] += 1\n",
        "    else:\n",
        "        count_words[word] = 1\n",
        "common_word = [word for word, count in count_words.items() if count==1]\n",
        "for word in common_word:\n",
        "    result.append(word)\n",
        "print(' '.join(result))"
      ],
      "metadata": {
        "colab": {
          "base_uri": "https://localhost:8080/"
        },
        "id": "JRV48k9gEWrZ",
        "outputId": "1f9da1d0-119c-4b4d-96b4-57f90378de80"
      },
      "execution_count": null,
      "outputs": [
        {
          "output_type": "stream",
          "name": "stdout",
          "text": [
            "We love we love\n",
            "We we\n"
          ]
        }
      ]
    },
    {
      "cell_type": "code",
      "source": [
        "def adjacent_words(s):\n",
        "    words = s.split()\n",
        "    result = []\n",
        "\n",
        "    for word in words:\n",
        "        if not result or word != result[-1]:\n",
        "            result.append(word)\n",
        "        elif len(result) > 1 and word == result[-1]:\n",
        "            result.pop()\n",
        "\n",
        "    if len(result) == 0:\n",
        "        return -1\n",
        "    else:\n",
        "        return ' '.join(result)\n",
        "\n",
        "s = input()\n",
        "print(adjacent_words(s))"
      ],
      "metadata": {
        "colab": {
          "base_uri": "https://localhost:8080/"
        },
        "id": "3IgXw5J7FVXv",
        "outputId": "60e58807-980e-4780-a0e1-350da977e8eb"
      },
      "execution_count": null,
      "outputs": [
        {
          "output_type": "stream",
          "name": "stdout",
          "text": [
            "mahi Mahi love Love\n",
            "mahi Mahi love Love\n"
          ]
        }
      ]
    },
    {
      "cell_type": "code",
      "source": [
        "# prompt: Guvi developed a new system to make sure no two usernames are same. So, they hired you as a developer to develop this system. They have set some rules to do the same.If you see the same username that already exists, just add a number at the end of that username ,else print \"Verified\".\n",
        "\n",
        "def check_username(username, existing_usernames):\n",
        "  \"\"\"\n",
        "  Checks if a username is unique and modifies it if necessary.\n",
        "\n",
        "  Args:\n",
        "    username: The username to check.\n",
        "    existing_usernames: A set of existing usernames.\n",
        "\n",
        "  Returns:\n",
        "    The verified username (potentially modified).\n",
        "  \"\"\"\n",
        "  if username in existing_usernames:\n",
        "    i = 1\n",
        "    while True:\n",
        "      new_username = f\"{username}{i}\"\n",
        "      if new_username not in existing_usernames:\n",
        "        return new_username\n",
        "      i += 1\n",
        "  else:\n",
        "    return \"Verified\"\n",
        "\n",
        "# Example usage\n",
        "existing_usernames = set()  # Initialize an empty set to store existing usernames\n",
        "n = int(input()) # Get the number of usernames to process.\n",
        "for _ in range(n):\n",
        "    new_user = input() # read the username from the user.\n",
        "    verified_username = check_username(new_user, existing_usernames)\n",
        "    print(verified_username)\n",
        "    if verified_username != \"Verified\":\n",
        "        existing_usernames.add(verified_username) # add the new username into the set.\n",
        "    else:\n",
        "        existing_usernames.add(new_user) # if verified, then add to the set."
      ],
      "metadata": {
        "colab": {
          "base_uri": "https://localhost:8080/"
        },
        "id": "65cxa6CFSntm",
        "outputId": "e300bf0e-f681-4901-ec90-e1188f6e66b0"
      },
      "execution_count": null,
      "outputs": [
        {
          "output_type": "stream",
          "name": "stdout",
          "text": [
            "4\n",
            "abc aab abc aba\n",
            "Verified\n",
            "abc aab abc aba\n",
            "abc aab abc aba1\n",
            "abc aab abc aba\n",
            "abc aab abc aba2\n",
            "abc aab abc aba\n",
            "abc aab abc aba3\n"
          ]
        }
      ]
    },
    {
      "cell_type": "code",
      "source": [
        "s = \"Aab\"\n",
        "len_word = len(s)\n",
        "print(len_word)\n",
        "for i in range(len_word):\n",
        "  print(s[i])"
      ],
      "metadata": {
        "colab": {
          "base_uri": "https://localhost:8080/"
        },
        "id": "WUIDt_t8Vq-_",
        "outputId": "432f9a7b-3465-4285-dc75-10f76ac5fee8"
      },
      "execution_count": null,
      "outputs": [
        {
          "output_type": "stream",
          "name": "stdout",
          "text": [
            "3\n"
          ]
        }
      ]
    },
    {
      "cell_type": "code",
      "source": [
        "s = \"abcd\"\n",
        "result = {}\n",
        "for i in s:\n",
        "  if i in result:\n",
        "    result[i] += 1\n",
        "  else:\n",
        "    result[i] = 1\n",
        "common_word = [i for i, count in result.items() if count>1]\n",
        "if len(common_word) == 0:\n",
        "  print(-1)\n",
        "else:\n",
        "  print(' '.join(common_word))"
      ],
      "metadata": {
        "colab": {
          "base_uri": "https://localhost:8080/"
        },
        "id": "1uGoUXEi-V6f",
        "outputId": "8e7e117e-e881-4553-ecc6-52d3dbbc4b00"
      },
      "execution_count": null,
      "outputs": [
        {
          "output_type": "stream",
          "name": "stdout",
          "text": [
            "-1\n"
          ]
        }
      ]
    },
    {
      "cell_type": "markdown",
      "source": [
        "# **Regular Expression PAN Card Pattern Finding**"
      ],
      "metadata": {
        "id": "f56T2aSE38Sf"
      }
    },
    {
      "cell_type": "code",
      "source": [
        "def validate_pan(pan):\n",
        "    # Check if length is 10\n",
        "    if len(pan) != 10:\n",
        "        return 'not pan'\n",
        "    # Check if all characters are uppercase\n",
        "    if not pan.isupper():\n",
        "        return 'not pan'\n",
        "    # Check if characters from index 1 to 5 are letters\n",
        "    if not pan[:5].isalpha():\n",
        "        return 'not pan'\n",
        "    # Check if last character is a letter\n",
        "    if not pan[-1].isalpha():\n",
        "        return 'not pan'\n",
        "    # Check if characters from index 6 to 9 are digits\n",
        "    if not pan[5:9].isdigit():\n",
        "        return 'not pan'\n",
        "    return 'pan'\n",
        "pan = input()\n",
        "print(validate_pan(pan))\n"
      ],
      "metadata": {
        "colab": {
          "base_uri": "https://localhost:8080/"
        },
        "id": "GGCD78uDFDCQ",
        "outputId": "0735433e-9f4a-4dac-8629-ddd589aca05e"
      },
      "execution_count": null,
      "outputs": [
        {
          "output_type": "stream",
          "name": "stdout",
          "text": [
            "HXTPS2142R\n",
            "pan\n"
          ]
        }
      ]
    },
    {
      "cell_type": "code",
      "source": [
        "S = input()\n",
        "if S == S[::1]:\n",
        "    print('yes')\n",
        "else:\n",
        "    print('no')\n",
        "print(S[])"
      ],
      "metadata": {
        "colab": {
          "base_uri": "https://localhost:8080/"
        },
        "id": "SnmWKLf9GEkz",
        "outputId": "204da0f9-17fe-4681-a08b-67e33b16bbf0"
      },
      "execution_count": null,
      "outputs": [
        {
          "output_type": "stream",
          "name": "stdout",
          "text": [
            "1231\n",
            "yes\n"
          ]
        }
      ]
    },
    {
      "cell_type": "code",
      "source": [
        "S = \"john johnny jackie johnny john jackie jamie jamie john johnny jamie johnny john\"\n",
        "my_list = list(map(str, S.split()))\n",
        "my_dic = {}\n",
        "print(my_list)\n",
        "for i in my_list:\n",
        "  if i in my_dic:\n",
        "    my_dic[i] += 1\n",
        "  else:\n",
        "    my_dic[i] = 1\n",
        "winnner = max(my_dic, key=my_dic.get)\n",
        "tied_for = [i for i, count in my_dic.items() if count == my_dic[winnner]]\n",
        "winner = min(tied_for)\n",
        "vote = my_dic[winnner]\n",
        "print(winner, vote)\n"
      ],
      "metadata": {
        "colab": {
          "base_uri": "https://localhost:8080/"
        },
        "id": "MxbX4oa8G95R",
        "outputId": "08629ad1-9828-4304-d024-b8d3edf3c641"
      },
      "execution_count": null,
      "outputs": [
        {
          "output_type": "stream",
          "name": "stdout",
          "text": [
            "['john', 'johnny', 'jackie', 'johnny', 'john', 'jackie', 'jamie', 'jamie', 'john', 'johnny', 'jamie', 'johnny', 'john']\n",
            "john 4\n"
          ]
        }
      ]
    },
    {
      "cell_type": "code",
      "source": [
        "n = int(input())\n",
        "numbers = list(map(str, input().split()))\n",
        "reversed_numbers = numbers[::-1]\n",
        "print(' '.join(reversed_numbers))"
      ],
      "metadata": {
        "colab": {
          "base_uri": "https://localhost:8080/"
        },
        "id": "RtbHdCK9QIRI",
        "outputId": "ac34c8c3-efd4-411b-bd60-6c8bec9f430b"
      },
      "execution_count": null,
      "outputs": [
        {
          "output_type": "stream",
          "name": "stdout",
          "text": [
            "18\n",
            "1 6 7 9 4 3 2 1 56 98 76 42 35 46 75 10 23 74\n",
            "74 23 10 75 46 35 42 76 98 56 1 2 3 4 9 7 6 1\n"
          ]
        }
      ]
    },
    {
      "cell_type": "code",
      "source": [
        "N = int(input())\n",
        "numbers = list(map(int, input().split()))\n",
        "\n",
        "\n",
        "hig = max(numbers)\n",
        "low = min(numbers)\n",
        "print(f\"{low} {hig}\")"
      ],
      "metadata": {
        "id": "pMK2-1iWVHP-",
        "outputId": "d7c9a4fe-de52-4b53-a679-6c8d0b170d8d",
        "colab": {
          "base_uri": "https://localhost:8080/"
        }
      },
      "execution_count": null,
      "outputs": [
        {
          "output_type": "stream",
          "name": "stdout",
          "text": [
            "5\n",
            "4 5 6 7 1 2\n",
            "1 7\n"
          ]
        }
      ]
    },
    {
      "cell_type": "code",
      "source": [
        "N, K = list(map(str, input().split()))\n",
        "N_ele = list(map(str, input().split()))\n",
        "print(N)\n",
        "print(K)\n",
        "print(N_ele)\n",
        "result = 0\n",
        "if K in N_ele:\n",
        "  result += 0\n",
        "else:\n",
        "  print(-1)\n",
        "print(result)\n"
      ],
      "metadata": {
        "colab": {
          "base_uri": "https://localhost:8080/"
        },
        "id": "lUlkvXpP7wHu",
        "outputId": "7b1e9890-6b7d-4db3-f4dd-5c5a457d6756"
      },
      "execution_count": null,
      "outputs": [
        {
          "output_type": "stream",
          "name": "stdout",
          "text": [
            "6 2\n",
            "1 2 3 5 7 8\n",
            "6\n",
            "2\n",
            "['1', '2', '3', '5', '7', '8']\n",
            "0\n"
          ]
        }
      ]
    },
    {
      "cell_type": "code",
      "source": [
        "N, K = list(map(str, input().split()))\n",
        "N_ele = list(map(str, input().split()))\n",
        "if K in N_ele:\n",
        "  print('yes')\n",
        "else:\n",
        "  print('no')"
      ],
      "metadata": {
        "colab": {
          "base_uri": "https://localhost:8080/"
        },
        "id": "XlEafqIdBgiE",
        "outputId": "d041ab73-65a7-4afd-f7fa-718d0584bf2b"
      },
      "execution_count": null,
      "outputs": [
        {
          "output_type": "stream",
          "name": "stdout",
          "text": [
            "4 2\n",
            "1 2 3 3\n",
            "yes\n"
          ]
        }
      ]
    },
    {
      "cell_type": "code",
      "source": [
        "def reverse_string(s):\n",
        "    start = 0\n",
        "    end = start + 1\n",
        "\n",
        "    s = list(s)\n",
        "\n",
        "    for i in range(len(s)):\n",
        "        if i % 2 == 0:\n",
        "            s[start], s[end] = s[end], s[start]\n",
        "            start += 1\n",
        "        else:\n",
        "            start += 0\n",
        "            end += 0\n",
        "\n",
        "    return ''.join(s)\n",
        "\n",
        "s = input()\n",
        "print(reverse_string(s))\n"
      ],
      "metadata": {
        "colab": {
          "base_uri": "https://localhost:8080/"
        },
        "id": "Xju0gTsiHNoz",
        "outputId": "7ef1c3fd-1b77-473d-dc98-4a8c1c2d65a1"
      },
      "execution_count": null,
      "outputs": [
        {
          "output_type": "stream",
          "name": "stdout",
          "text": [
            "codekata\n",
            "oecdkata\n"
          ]
        }
      ]
    },
    {
      "cell_type": "code",
      "source": [
        "s = \"ABCdEFGHIJKLMNOPQRSTUVWXYz\"\n",
        "sentence = [char for char in s]\n",
        "result = \"\"\n",
        "print(sentence)\n",
        "for i in range(len(sentence)):\n",
        "  if i == 23:\n",
        "    result += sentence[i] == sentence[i-22]\n",
        "    else:\n",
        "    result += sentence[i]\n",
        "print(result)\n",
        "\n",
        "\n",
        "\n"
      ],
      "metadata": {
        "colab": {
          "base_uri": "https://localhost:8080/",
          "height": 106
        },
        "id": "pdK_X59VRL8l",
        "outputId": "33d03986-a4f3-4e01-efb3-c91b690894d2"
      },
      "execution_count": null,
      "outputs": [
        {
          "output_type": "error",
          "ename": "SyntaxError",
          "evalue": "invalid syntax (<ipython-input-74-f0793d97389d>, line 7)",
          "traceback": [
            "\u001b[0;36m  File \u001b[0;32m\"<ipython-input-74-f0793d97389d>\"\u001b[0;36m, line \u001b[0;32m7\u001b[0m\n\u001b[0;31m    result += sentence[i] = sentence[i-22]\u001b[0m\n\u001b[0m                          ^\u001b[0m\n\u001b[0;31mSyntaxError\u001b[0m\u001b[0;31m:\u001b[0m invalid syntax\n"
          ]
        }
      ]
    },
    {
      "cell_type": "code",
      "source": [
        "n = int(input())\n",
        "numbers = list(map(int, input().split()))\n",
        "result = []\n",
        "k = int(input())\n",
        "for i in numbers:\n",
        "    if i % k == 0:\n",
        "        result.append(1)\n",
        "    else:\n",
        "        result.append(0)\n",
        "print(' '.join(map(str, result)))"
      ],
      "metadata": {
        "colab": {
          "base_uri": "https://localhost:8080/"
        },
        "id": "ZWSeXlV0aU_3",
        "outputId": "e30598db-038c-4b54-c3ea-faf121a08d6f"
      },
      "execution_count": null,
      "outputs": [
        {
          "output_type": "stream",
          "name": "stdout",
          "text": [
            "6\n",
            "112 139 165 175 262 130\n",
            "22\n",
            "0 0 0 0 0 0\n"
          ]
        }
      ]
    },
    {
      "cell_type": "code",
      "source": [
        "S1, S2 = list(map(str, input().split()))\n",
        "result = {}\n",
        "answer = []\n",
        "for i in S1:\n",
        "    if i in result:\n",
        "        result[i] += 1\n",
        "    else:\n",
        "        result[i] = 1\n",
        "for j in S2:\n",
        "    if j in result:\n",
        "        result[j] += 1\n",
        "    else:\n",
        "        result[j] = 1\n",
        "count_of_word = [k for k, count in result.items() if count == 1]\n",
        "\n",
        "for l in S1:\n",
        "    if l in count_of_word:\n",
        "        answer.append(l)\n",
        "if len(answer) == 0:\n",
        "  print(-1)\n",
        "else:\n",
        "  print(''.join(answer))"
      ],
      "metadata": {
        "colab": {
          "base_uri": "https://localhost:8080/"
        },
        "id": "rPv0VIiRdApQ",
        "outputId": "bebcd025-e7fe-4c01-c883-13b366a9fabf"
      },
      "execution_count": null,
      "outputs": [
        {
          "output_type": "stream",
          "name": "stdout",
          "text": [
            "GUVI GEEK\n",
            "['U', 'V', 'I', 'K']\n",
            "UVI\n"
          ]
        }
      ]
    },
    {
      "cell_type": "code",
      "source": [
        "N = input()\n",
        "count_of_nums = {}\n",
        "for i in N:\n",
        "    if i in count_of_nums:\n",
        "        count_of_nums[i] +=1\n",
        "    else:\n",
        "        count_of_nums[i] = 1\n",
        "max_num = [i for i, count in count_of_nums.items() if count > 1]\n",
        "if len(max_num) == 1:\n",
        "    print('yes')\n",
        "else:\n",
        "    print('no')"
      ],
      "metadata": {
        "colab": {
          "base_uri": "https://localhost:8080/"
        },
        "id": "m-34OCGqexli",
        "outputId": "2ee05ffc-e951-4b22-dec7-a183ff046700"
      },
      "execution_count": null,
      "outputs": [
        {
          "output_type": "stream",
          "name": "stdout",
          "text": [
            "11234\n",
            "{'1': 2, '2': 1, '3': 1, '4': 1}\n",
            "['1']\n",
            "yes\n"
          ]
        }
      ]
    },
    {
      "cell_type": "code",
      "source": [
        "S = input()\n",
        "result = []\n",
        "for i in range(len(S)+1):\n",
        "    if i == 0:\n",
        "        result.append(S[i])\n",
        "    elif i == 2:\n",
        "        result.append(S[i])\n",
        "    else:\n",
        "        continue\n",
        "print(''.join(map(str, result)))"
      ],
      "metadata": {
        "colab": {
          "base_uri": "https://localhost:8080/"
        },
        "id": "8qYcROHBhIxa",
        "outputId": "8e0cb0bf-708a-4d27-9adb-180851e066c6"
      },
      "execution_count": null,
      "outputs": [
        {
          "output_type": "stream",
          "name": "stdout",
          "text": [
            "codekata\n",
            "cd\n"
          ]
        }
      ]
    },
    {
      "cell_type": "code",
      "source": [],
      "metadata": {
        "id": "t8OyBh4Aiq3u"
      },
      "execution_count": null,
      "outputs": []
    },
    {
      "cell_type": "code",
      "source": [
        "S = input()\n",
        "alphabets = \"ABCDEFGHIJKLMNOPQRSTUVWXYZ\"\n",
        "letters = [i for i in alphabets]\n",
        "result = []\n",
        "print(letters)\n",
        "for i in S:\n",
        "  if i in letters:\n",
        "    position = (letters.index(i))\n",
        "    if position <= 22:\n",
        "      new_position = position + 3\n",
        "      result.append(letters[new_position])\n",
        "    elif position > 22:\n",
        "      new_position = 0\n",
        "      result.append(letters[new_position])\n",
        "\n",
        "print(''.join(map(str, result)))"
      ],
      "metadata": {
        "colab": {
          "base_uri": "https://localhost:8080/"
        },
        "id": "VeWuU9QPijd6",
        "outputId": "263dcc13-254f-4886-cb9a-ef4b14d515e9"
      },
      "execution_count": null,
      "outputs": [
        {
          "output_type": "stream",
          "name": "stdout",
          "text": [
            "XORO\n",
            "['A', 'B', 'C', 'D', 'E', 'F', 'G', 'H', 'I', 'J', 'K', 'L', 'M', 'N', 'O', 'P', 'Q', 'R', 'S', 'T', 'U', 'V', 'W', 'X', 'Y', 'Z']\n",
            "ARUR\n"
          ]
        }
      ]
    },
    {
      "cell_type": "markdown",
      "source": [
        "# **User input pattern check**"
      ],
      "metadata": {
        "id": "P97P4j144aug"
      }
    },
    {
      "cell_type": "code",
      "source": [
        "import re\n",
        "\n",
        "def user_name(user_name, password):\n",
        "  gmail_pattern = \".@gmail.com\"\n",
        "  yahoo_pattern = \".@yahoo.com\"\n",
        "  hotmail_pattern = \".@hotmail.com\"\n",
        "  password_upper_pattern =  \".[A-Z]\"\n",
        "  password_lower_pattern = \".[a-z]\"\n",
        "  password_num_pattern = \".[1234567890]\"\n",
        "  password_special_pattern = \".[!@#$%^&*()-+]\"\n",
        "\n",
        "  register = True\n",
        "\n",
        "  while register:\n",
        "    user_name = input()\n",
        "    if re.findall(gmail_pattern, user_name) or re.findall(yahoo_pattern, user_name) or re.findall(hotmail_pattern, user_name) :\n",
        "        password = input()\n",
        "        if len(password) >= 8 and re.findall(password_upper_pattern, password) and re.findall(password_lower_pattern, password) and re.findall(password_num_pattern, password) and re.findall(password_special_pattern, password):\n",
        "            print(f\"Thank you for register, your login id is: {user_name} and the password is: {password}\")\n",
        "            register = False\n",
        "        else:\n",
        "            print(\"Please enter a valid password, should have atleast one upper and lower case, minimum length 8 characters, numbers and special characters required for a strong password\")\n",
        "            password = input()\n",
        "    else:\n",
        "        print(\"Please enter a valid email id\")\n",
        "\n",
        "user_name(user_name=user_name, password=password)\n",
        "\n"
      ],
      "metadata": {
        "id": "I2rTVnFAbotb"
      },
      "execution_count": null,
      "outputs": []
    },
    {
      "cell_type": "code",
      "source": [
        "s = \"raja\"\n",
        "result = 0\n",
        "vowels = {'a': 97, 'e': 101, 'i': 105, 'o': 111,'u': 117}\n",
        "for i in s:\n",
        "  if i in vowels:\n",
        "    result += vowels[i]\n",
        "\n",
        "if result % 8 == 0:\n",
        "  print(1)\n",
        "else:\n",
        "  print(0)"
      ],
      "metadata": {
        "colab": {
          "base_uri": "https://localhost:8080/"
        },
        "id": "EbTLifcxrMN3",
        "outputId": "5105eca6-8898-4a5d-9c57-98b0a194709f"
      },
      "execution_count": null,
      "outputs": [
        {
          "output_type": "stream",
          "name": "stdout",
          "text": [
            "194\n",
            "0\n"
          ]
        }
      ]
    },
    {
      "cell_type": "code",
      "source": [
        "s = \"AMZ\"\n",
        "length = len(s)\n",
        "middle_char = length // 2\n",
        "print(middle_char)\n",
        "print(s[middle_char])\n",
        "start = [\"A\", \"a\"]\n",
        "middle = [\"M\", \"m\"]\n",
        "end = [\"Z\", \"z\"]\n",
        "if s[0] in start and s[middle_char] in middle and s[-1] in end:\n",
        "  print(\"yes\")\n",
        "else:\n",
        "  print(\"no\")"
      ],
      "metadata": {
        "colab": {
          "base_uri": "https://localhost:8080/"
        },
        "id": "5byvfjoW9AaA",
        "outputId": "4f276be1-15ae-4ff7-ee9e-e95639f746db"
      },
      "execution_count": null,
      "outputs": [
        {
          "output_type": "stream",
          "name": "stdout",
          "text": [
            "1\n",
            "M\n",
            "yes\n"
          ]
        }
      ]
    },
    {
      "cell_type": "code",
      "source": [
        "S = list(map(str, input().split()))\n",
        "sentence = input()\n",
        "f_words = list(filter(lambda k: {sentence} == k, S))\n",
        "print(f_words)"
      ],
      "metadata": {
        "colab": {
          "base_uri": "https://localhost:8080/"
        },
        "id": "N0VDZmSpHF4d",
        "outputId": "bfe0df4a-3f56-434d-f2e8-e2480ce5c748"
      },
      "execution_count": null,
      "outputs": [
        {
          "output_type": "stream",
          "name": "stdout",
          "text": [
            "I enjoy doing codekata\n",
            "codekata\n",
            "[]\n"
          ]
        }
      ]
    },
    {
      "cell_type": "code",
      "source": [
        "N = int(5)\n",
        "result = 0\n",
        "for i in range(1, N+1):\n",
        "  if i + i+1 == 5:\n",
        "    result +=1\n",
        "    print(result)\n",
        "  elif i + i-1 == 5:\n",
        "    result += 1\n",
        "    print(result)\n",
        "  else:\n",
        "    continue\n",
        "print(result)"
      ],
      "metadata": {
        "colab": {
          "base_uri": "https://localhost:8080/"
        },
        "id": "XMGatkbSmDb_",
        "outputId": "e094d673-d1f2-4517-f3c7-be9a9ee8a7fd"
      },
      "execution_count": null,
      "outputs": [
        {
          "output_type": "stream",
          "name": "stdout",
          "text": [
            "1\n",
            "2\n",
            "2\n"
          ]
        }
      ]
    },
    {
      "cell_type": "code",
      "source": [
        "numbers = list(map(int, input().split()))\n",
        "T = list(map(int, input().split()))\n",
        "count_no = {}\n",
        "counts = 0\n",
        "for i in T:\n",
        "  counts = numbers.count(i)\n",
        "  if counts >= 1:\n",
        "    count_no[i] = counts\n",
        "  else:\n",
        "    count_no[i] = \"Not Present\"\n",
        "result = count_no.values()\n",
        "print(' '.join(map(str, result)))"
      ],
      "metadata": {
        "colab": {
          "base_uri": "https://localhost:8080/"
        },
        "id": "fSiawra5zTHK",
        "outputId": "7f6118b1-6ae0-485d-9039-37527e6aa9a8"
      },
      "execution_count": null,
      "outputs": [
        {
          "output_type": "stream",
          "name": "stdout",
          "text": [
            "1 1 1 2 2 2 3 8 9 7\n",
            "1 2 3 0 5\n",
            "3 3 1 Not Present Not Present\n"
          ]
        }
      ]
    },
    {
      "cell_type": "code",
      "source": [
        "result = []\n",
        "N = input()\n",
        "for char in N:\n",
        "      result.append(int(char))\n",
        "final_answer = 0\n",
        "counts = 0\n",
        "for i in range(len(result)):\n",
        "  if counts == 0:\n",
        "    answer = result[i] * result[i+1]\n",
        "    final_answer += answer\n",
        "    counts += 1\n",
        "  elif counts >= 1 and counts < len(result)-1:\n",
        "    final_answer *= result[i+1]\n",
        "    counts += 1\n",
        "  else:\n",
        "    break\n",
        "print(final_answer)"
      ],
      "metadata": {
        "colab": {
          "base_uri": "https://localhost:8080/"
        },
        "id": "WmdciPq9QAjN",
        "outputId": "fee18b48-c006-41a9-bfd8-81f97176040c"
      },
      "execution_count": null,
      "outputs": [
        {
          "output_type": "stream",
          "name": "stdout",
          "text": [
            "2143\n",
            "24\n"
          ]
        }
      ]
    },
    {
      "cell_type": "code",
      "source": [
        "n = int(input())\n",
        "result = 0\n",
        "for i in range(1, n+1):\n",
        "  print(i)\n",
        "  result += int(i)\n",
        "print(result)\n"
      ],
      "metadata": {
        "colab": {
          "base_uri": "https://localhost:8080/"
        },
        "id": "p5gboAoIai-O",
        "outputId": "4661492f-2167-49ac-810a-307a918fb8a4"
      },
      "execution_count": null,
      "outputs": [
        {
          "output_type": "stream",
          "name": "stdout",
          "text": [
            "3\n",
            "1\n",
            "2\n",
            "3\n",
            "6\n"
          ]
        }
      ]
    },
    {
      "cell_type": "code",
      "source": [
        "series = []\n",
        "result = 0\n",
        "n = int(input())\n",
        "for i in range(2, n+1):\n",
        "  if len(series) == 0:\n",
        "    result += i\n",
        "    series.append(result)\n",
        "  elif len(series) > 0 and i % 2 == 0:\n",
        "    result += i\n",
        "    series.append(result)\n",
        "  elif len(series) > 0 and i % 2 != 0:\n",
        "    continue\n",
        "print(series)\n",
        "print(series[-1])"
      ],
      "metadata": {
        "colab": {
          "base_uri": "https://localhost:8080/"
        },
        "id": "IsDIyYTc6JAZ",
        "outputId": "3c07bafe-544d-45fa-d056-b43e36d4418f"
      },
      "execution_count": null,
      "outputs": [
        {
          "output_type": "stream",
          "name": "stdout",
          "text": [
            "888\n",
            "[2, 6, 12, 20, 30, 42, 56, 72, 90, 110, 132, 156, 182, 210, 240, 272, 306, 342, 380, 420, 462, 506, 552, 600, 650, 702, 756, 812, 870, 930, 992, 1056, 1122, 1190, 1260, 1332, 1406, 1482, 1560, 1640, 1722, 1806, 1892, 1980, 2070, 2162, 2256, 2352, 2450, 2550, 2652, 2756, 2862, 2970, 3080, 3192, 3306, 3422, 3540, 3660, 3782, 3906, 4032, 4160, 4290, 4422, 4556, 4692, 4830, 4970, 5112, 5256, 5402, 5550, 5700, 5852, 6006, 6162, 6320, 6480, 6642, 6806, 6972, 7140, 7310, 7482, 7656, 7832, 8010, 8190, 8372, 8556, 8742, 8930, 9120, 9312, 9506, 9702, 9900, 10100, 10302, 10506, 10712, 10920, 11130, 11342, 11556, 11772, 11990, 12210, 12432, 12656, 12882, 13110, 13340, 13572, 13806, 14042, 14280, 14520, 14762, 15006, 15252, 15500, 15750, 16002, 16256, 16512, 16770, 17030, 17292, 17556, 17822, 18090, 18360, 18632, 18906, 19182, 19460, 19740, 20022, 20306, 20592, 20880, 21170, 21462, 21756, 22052, 22350, 22650, 22952, 23256, 23562, 23870, 24180, 24492, 24806, 25122, 25440, 25760, 26082, 26406, 26732, 27060, 27390, 27722, 28056, 28392, 28730, 29070, 29412, 29756, 30102, 30450, 30800, 31152, 31506, 31862, 32220, 32580, 32942, 33306, 33672, 34040, 34410, 34782, 35156, 35532, 35910, 36290, 36672, 37056, 37442, 37830, 38220, 38612, 39006, 39402, 39800, 40200, 40602, 41006, 41412, 41820, 42230, 42642, 43056, 43472, 43890, 44310, 44732, 45156, 45582, 46010, 46440, 46872, 47306, 47742, 48180, 48620, 49062, 49506, 49952, 50400, 50850, 51302, 51756, 52212, 52670, 53130, 53592, 54056, 54522, 54990, 55460, 55932, 56406, 56882, 57360, 57840, 58322, 58806, 59292, 59780, 60270, 60762, 61256, 61752, 62250, 62750, 63252, 63756, 64262, 64770, 65280, 65792, 66306, 66822, 67340, 67860, 68382, 68906, 69432, 69960, 70490, 71022, 71556, 72092, 72630, 73170, 73712, 74256, 74802, 75350, 75900, 76452, 77006, 77562, 78120, 78680, 79242, 79806, 80372, 80940, 81510, 82082, 82656, 83232, 83810, 84390, 84972, 85556, 86142, 86730, 87320, 87912, 88506, 89102, 89700, 90300, 90902, 91506, 92112, 92720, 93330, 93942, 94556, 95172, 95790, 96410, 97032, 97656, 98282, 98910, 99540, 100172, 100806, 101442, 102080, 102720, 103362, 104006, 104652, 105300, 105950, 106602, 107256, 107912, 108570, 109230, 109892, 110556, 111222, 111890, 112560, 113232, 113906, 114582, 115260, 115940, 116622, 117306, 117992, 118680, 119370, 120062, 120756, 121452, 122150, 122850, 123552, 124256, 124962, 125670, 126380, 127092, 127806, 128522, 129240, 129960, 130682, 131406, 132132, 132860, 133590, 134322, 135056, 135792, 136530, 137270, 138012, 138756, 139502, 140250, 141000, 141752, 142506, 143262, 144020, 144780, 145542, 146306, 147072, 147840, 148610, 149382, 150156, 150932, 151710, 152490, 153272, 154056, 154842, 155630, 156420, 157212, 158006, 158802, 159600, 160400, 161202, 162006, 162812, 163620, 164430, 165242, 166056, 166872, 167690, 168510, 169332, 170156, 170982, 171810, 172640, 173472, 174306, 175142, 175980, 176820, 177662, 178506, 179352, 180200, 181050, 181902, 182756, 183612, 184470, 185330, 186192, 187056, 187922, 188790, 189660, 190532, 191406, 192282, 193160, 194040, 194922, 195806, 196692, 197580]\n",
            "197580\n"
          ]
        }
      ]
    },
    {
      "cell_type": "code",
      "source": [
        "n = int(input())\n",
        "series = [2]\n",
        "increment = 4\n",
        "while len(series) < n:\n",
        "  series.append(series[-1] + increment)\n",
        "  increment += 2\n",
        "print(series[-1])\n"
      ],
      "metadata": {
        "colab": {
          "base_uri": "https://localhost:8080/"
        },
        "id": "cPPFKR3tBbiZ",
        "outputId": "546219f3-89b5-44bb-bdb3-a55aace01136"
      },
      "execution_count": null,
      "outputs": [
        {
          "output_type": "stream",
          "name": "stdout",
          "text": [
            "888\n",
            "789432\n"
          ]
        }
      ]
    },
    {
      "cell_type": "code",
      "source": [
        "n = int(input())\n",
        "series = [1]\n",
        "increment = 3\n",
        "while len(series) < n:\n",
        "  series.append(increment**2)\n",
        "  increment += 3\n",
        "print(' '.join(map(str, series)))"
      ],
      "metadata": {
        "colab": {
          "base_uri": "https://localhost:8080/"
        },
        "id": "DMozO5PPG96R",
        "outputId": "20a653ad-c109-4af5-e985-5e46cd0ec486"
      },
      "execution_count": null,
      "outputs": [
        {
          "output_type": "stream",
          "name": "stdout",
          "text": [
            "3\n",
            "1 9 36\n"
          ]
        }
      ]
    },
    {
      "cell_type": "code",
      "source": [
        "def count_palindromic_numbers(n):\n",
        "    count = 0\n",
        "    for i in range(1, n+1):\n",
        "        if str(i) == str(i)[::-1]:\n",
        "            count += 1\n",
        "    return count\n",
        "\n",
        "# Test the function\n",
        "n = int(input(\"Enter a number: \"))\n",
        "print(count_palindromic_numbers(n))"
      ],
      "metadata": {
        "colab": {
          "base_uri": "https://localhost:8080/"
        },
        "id": "niWAs3CyJGvD",
        "outputId": "422ffee9-51f6-404e-a98b-4fae54a95e25"
      },
      "execution_count": null,
      "outputs": [
        {
          "output_type": "stream",
          "name": "stdout",
          "text": [
            "Enter a number: 123\n",
            "21\n"
          ]
        }
      ]
    },
    {
      "cell_type": "code",
      "source": [
        "n = int(input())\n",
        "result = 0\n",
        "answer = []\n",
        "numbers = list(map(int, input().split()))\n",
        "length = len(numbers) - 1\n",
        "for i in range(3):\n",
        "  result += numbers[length]\n",
        "  length -= 1\n",
        "for i in numbers:\n",
        "  i -= result\n",
        "  answer.append(i)\n",
        "print(' '.join(map(str, answer)))\n"
      ],
      "metadata": {
        "colab": {
          "base_uri": "https://localhost:8080/"
        },
        "id": "6S3HtbC6Lxpq",
        "outputId": "b6b73b29-44e3-4073-cf2a-5333fd91ffe4"
      },
      "execution_count": null,
      "outputs": [
        {
          "output_type": "stream",
          "name": "stdout",
          "text": [
            "5\n",
            "95 85 75 12 11\n",
            "-3 -13 -23 -86 -87\n",
            "98\n"
          ]
        }
      ]
    },
    {
      "cell_type": "code",
      "source": [
        "n = int(input())\n",
        "series = [2]\n",
        "increment = 3\n",
        "while len(series) < n:\n",
        "  series.append(series[-1] + increment)\n",
        "  increment += 2\n",
        "print(' '.join(map(str, series)))"
      ],
      "metadata": {
        "colab": {
          "base_uri": "https://localhost:8080/"
        },
        "id": "4iKD6sq0RmjQ",
        "outputId": "c8e9a2ef-6e37-49a1-ac6a-c9328e464c01"
      },
      "execution_count": null,
      "outputs": [
        {
          "output_type": "stream",
          "name": "stdout",
          "text": [
            "4\n",
            "2 5 10 17\n"
          ]
        }
      ]
    },
    {
      "cell_type": "code",
      "source": [
        "n = \"A23 B56 B56 C79 D16\"\n",
        "passport_numbers = list(map(str, n.split()))\n",
        "print(passport_numbers)\n",
        "result = {}\n",
        "for i in passport_numbers:\n",
        "  if i in result:\n",
        "    result[i] += 1\n",
        "  else:\n",
        "    result[i] = 1\n",
        "answer = result.keys()\n",
        "print(' '.join(map(str, answer)))\n"
      ],
      "metadata": {
        "colab": {
          "base_uri": "https://localhost:8080/"
        },
        "id": "zotwJ2zNTSzH",
        "outputId": "b06ae6cd-cd5f-470e-eb76-f7e81dc5791d"
      },
      "execution_count": null,
      "outputs": [
        {
          "output_type": "stream",
          "name": "stdout",
          "text": [
            "['A23', 'B56', 'B56', 'C79', 'D16']\n",
            "A23 B56 C79 D16\n"
          ]
        }
      ]
    },
    {
      "cell_type": "code",
      "source": [
        "S = \"XCODE\"\n",
        "T = []\n",
        "U = []\n",
        "for i in range( len(S)):\n",
        "  if i % 2 == 0:\n",
        "    T.append(S[i])\n",
        "  else:\n",
        "    U.append(S[i])\n",
        "odd = ''.join(T)\n",
        "even = ''.join(U)\n",
        "print(odd, even)\n"
      ],
      "metadata": {
        "colab": {
          "base_uri": "https://localhost:8080/"
        },
        "id": "AOtohtiuVhor",
        "outputId": "ed57f36b-329c-4b11-a218-40cbfa61142b"
      },
      "execution_count": null,
      "outputs": [
        {
          "output_type": "stream",
          "name": "stdout",
          "text": [
            "XOE CD\n"
          ]
        }
      ]
    },
    {
      "cell_type": "code",
      "source": [
        "def find_word(s):\n",
        "  my_list = list(map(str, s.split()))\n",
        "\n",
        "  for i in my_list:\n",
        "      if i == \"GUVI\" and i == \"GEEK\" or i == \"GUVIGEEK\":\n",
        "          return \"yes\"\n",
        "      else:\n",
        "          return \"no\"\n",
        "s = input()\n",
        "print(find_word(s))"
      ],
      "metadata": {
        "colab": {
          "base_uri": "https://localhost:8080/"
        },
        "id": "MpoKZqXebxhm",
        "outputId": "235ecfb8-3fd3-4199-f4fc-551e4ef602cd"
      },
      "execution_count": null,
      "outputs": [
        {
          "output_type": "stream",
          "name": "stdout",
          "text": [
            "GUVIGEEK\n",
            "yes\n"
          ]
        }
      ]
    },
    {
      "cell_type": "code",
      "source": [
        "s = input()\n",
        "my_list = list(map(str, s.split()))\n"
      ],
      "metadata": {
        "id": "pM-xnzuGdXCn"
      },
      "execution_count": null,
      "outputs": []
    },
    {
      "cell_type": "code",
      "source": [
        "S = input()\n",
        "sentence = list(map(str, S.split()))\n",
        "for i in range(len(sentence)):\n",
        "  if sentence[i] == 'and':\n",
        "    sentence[i+1], sentence[i-1]  = sentence[i-1], sentence[i+1]\n",
        "print(' '.join(map(str, sentence)))\n"
      ],
      "metadata": {
        "colab": {
          "base_uri": "https://localhost:8080/"
        },
        "id": "QOjGyMCHD2mE",
        "outputId": "43994fe8-60ab-43fb-cc4a-3c5e47b23d6f"
      },
      "execution_count": null,
      "outputs": [
        {
          "output_type": "stream",
          "name": "stdout",
          "text": [
            "jack and jill went up and down to get water\n",
            "jill and jack went down and up to get water\n"
          ]
        }
      ]
    },
    {
      "cell_type": "code",
      "source": [
        "s = input()\n",
        "result = {}\n",
        "for i in s:\n",
        "    if i in result:\n",
        "        result[i] += 1\n",
        "    else:\n",
        "        result[i] = 1\n",
        "common_letter = [i for i, count in result.items() if count > 1]\n",
        "print(' '.join(map(str, common_letter)))"
      ],
      "metadata": {
        "colab": {
          "base_uri": "https://localhost:8080/"
        },
        "id": "06IvoRB9NhTm",
        "outputId": "d308faca-a14b-4a26-c18b-d6a0cdb26c0d"
      },
      "execution_count": null,
      "outputs": [
        {
          "output_type": "stream",
          "name": "stdout",
          "text": [
            "abcddee\n",
            "d e\n"
          ]
        }
      ]
    },
    {
      "cell_type": "code",
      "source": [
        "import pandas as pd\n",
        "df = pd.read_csv(\"/content/winequality-red.csv\")\n",
        "df"
      ],
      "metadata": {
        "colab": {
          "base_uri": "https://localhost:8080/",
          "height": 478
        },
        "id": "XoNvYl7QgZnG",
        "outputId": "94eb9c6c-4c7b-49e0-c2bc-7c7c8714a2d4"
      },
      "execution_count": null,
      "outputs": [
        {
          "output_type": "execute_result",
          "data": {
            "text/plain": [
              "      fixed acidity  volatile acidity  citric acid  residual sugar  chlorides  \\\n",
              "0               7.4             0.700         0.00             1.9      0.076   \n",
              "1               7.8             0.880         0.00             2.6      0.098   \n",
              "2               7.8             0.760         0.04             2.3      0.092   \n",
              "3              11.2             0.280         0.56             1.9      0.075   \n",
              "4               7.4             0.700         0.00             1.9      0.076   \n",
              "...             ...               ...          ...             ...        ...   \n",
              "1594            6.2             0.600         0.08             2.0      0.090   \n",
              "1595            5.9             0.550         0.10             2.2      0.062   \n",
              "1596            6.3             0.510         0.13             2.3      0.076   \n",
              "1597            5.9             0.645         0.12             2.0      0.075   \n",
              "1598            6.0             0.310         0.47             3.6      0.067   \n",
              "\n",
              "      free sulfur dioxide  total sulfur dioxide  density    pH  sulphates  \\\n",
              "0                    11.0                  34.0  0.99780  3.51       0.56   \n",
              "1                    25.0                  67.0  0.99680  3.20       0.68   \n",
              "2                    15.0                  54.0  0.99700  3.26       0.65   \n",
              "3                    17.0                  60.0  0.99800  3.16       0.58   \n",
              "4                    11.0                  34.0  0.99780  3.51       0.56   \n",
              "...                   ...                   ...      ...   ...        ...   \n",
              "1594                 32.0                  44.0  0.99490  3.45       0.58   \n",
              "1595                 39.0                  51.0  0.99512  3.52       0.76   \n",
              "1596                 29.0                  40.0  0.99574  3.42       0.75   \n",
              "1597                 32.0                  44.0  0.99547  3.57       0.71   \n",
              "1598                 18.0                  42.0  0.99549  3.39       0.66   \n",
              "\n",
              "      alcohol  quality  \n",
              "0         9.4        5  \n",
              "1         9.8        5  \n",
              "2         9.8        5  \n",
              "3         9.8        6  \n",
              "4         9.4        5  \n",
              "...       ...      ...  \n",
              "1594     10.5        5  \n",
              "1595     11.2        6  \n",
              "1596     11.0        6  \n",
              "1597     10.2        5  \n",
              "1598     11.0        6  \n",
              "\n",
              "[1599 rows x 12 columns]"
            ],
            "text/html": [
              "\n",
              "  <div id=\"df-917d55d9-fd83-4a2b-8704-d863cb2a390b\" class=\"colab-df-container\">\n",
              "    <div>\n",
              "<style scoped>\n",
              "    .dataframe tbody tr th:only-of-type {\n",
              "        vertical-align: middle;\n",
              "    }\n",
              "\n",
              "    .dataframe tbody tr th {\n",
              "        vertical-align: top;\n",
              "    }\n",
              "\n",
              "    .dataframe thead th {\n",
              "        text-align: right;\n",
              "    }\n",
              "</style>\n",
              "<table border=\"1\" class=\"dataframe\">\n",
              "  <thead>\n",
              "    <tr style=\"text-align: right;\">\n",
              "      <th></th>\n",
              "      <th>fixed acidity</th>\n",
              "      <th>volatile acidity</th>\n",
              "      <th>citric acid</th>\n",
              "      <th>residual sugar</th>\n",
              "      <th>chlorides</th>\n",
              "      <th>free sulfur dioxide</th>\n",
              "      <th>total sulfur dioxide</th>\n",
              "      <th>density</th>\n",
              "      <th>pH</th>\n",
              "      <th>sulphates</th>\n",
              "      <th>alcohol</th>\n",
              "      <th>quality</th>\n",
              "    </tr>\n",
              "  </thead>\n",
              "  <tbody>\n",
              "    <tr>\n",
              "      <th>0</th>\n",
              "      <td>7.4</td>\n",
              "      <td>0.700</td>\n",
              "      <td>0.00</td>\n",
              "      <td>1.9</td>\n",
              "      <td>0.076</td>\n",
              "      <td>11.0</td>\n",
              "      <td>34.0</td>\n",
              "      <td>0.99780</td>\n",
              "      <td>3.51</td>\n",
              "      <td>0.56</td>\n",
              "      <td>9.4</td>\n",
              "      <td>5</td>\n",
              "    </tr>\n",
              "    <tr>\n",
              "      <th>1</th>\n",
              "      <td>7.8</td>\n",
              "      <td>0.880</td>\n",
              "      <td>0.00</td>\n",
              "      <td>2.6</td>\n",
              "      <td>0.098</td>\n",
              "      <td>25.0</td>\n",
              "      <td>67.0</td>\n",
              "      <td>0.99680</td>\n",
              "      <td>3.20</td>\n",
              "      <td>0.68</td>\n",
              "      <td>9.8</td>\n",
              "      <td>5</td>\n",
              "    </tr>\n",
              "    <tr>\n",
              "      <th>2</th>\n",
              "      <td>7.8</td>\n",
              "      <td>0.760</td>\n",
              "      <td>0.04</td>\n",
              "      <td>2.3</td>\n",
              "      <td>0.092</td>\n",
              "      <td>15.0</td>\n",
              "      <td>54.0</td>\n",
              "      <td>0.99700</td>\n",
              "      <td>3.26</td>\n",
              "      <td>0.65</td>\n",
              "      <td>9.8</td>\n",
              "      <td>5</td>\n",
              "    </tr>\n",
              "    <tr>\n",
              "      <th>3</th>\n",
              "      <td>11.2</td>\n",
              "      <td>0.280</td>\n",
              "      <td>0.56</td>\n",
              "      <td>1.9</td>\n",
              "      <td>0.075</td>\n",
              "      <td>17.0</td>\n",
              "      <td>60.0</td>\n",
              "      <td>0.99800</td>\n",
              "      <td>3.16</td>\n",
              "      <td>0.58</td>\n",
              "      <td>9.8</td>\n",
              "      <td>6</td>\n",
              "    </tr>\n",
              "    <tr>\n",
              "      <th>4</th>\n",
              "      <td>7.4</td>\n",
              "      <td>0.700</td>\n",
              "      <td>0.00</td>\n",
              "      <td>1.9</td>\n",
              "      <td>0.076</td>\n",
              "      <td>11.0</td>\n",
              "      <td>34.0</td>\n",
              "      <td>0.99780</td>\n",
              "      <td>3.51</td>\n",
              "      <td>0.56</td>\n",
              "      <td>9.4</td>\n",
              "      <td>5</td>\n",
              "    </tr>\n",
              "    <tr>\n",
              "      <th>...</th>\n",
              "      <td>...</td>\n",
              "      <td>...</td>\n",
              "      <td>...</td>\n",
              "      <td>...</td>\n",
              "      <td>...</td>\n",
              "      <td>...</td>\n",
              "      <td>...</td>\n",
              "      <td>...</td>\n",
              "      <td>...</td>\n",
              "      <td>...</td>\n",
              "      <td>...</td>\n",
              "      <td>...</td>\n",
              "    </tr>\n",
              "    <tr>\n",
              "      <th>1594</th>\n",
              "      <td>6.2</td>\n",
              "      <td>0.600</td>\n",
              "      <td>0.08</td>\n",
              "      <td>2.0</td>\n",
              "      <td>0.090</td>\n",
              "      <td>32.0</td>\n",
              "      <td>44.0</td>\n",
              "      <td>0.99490</td>\n",
              "      <td>3.45</td>\n",
              "      <td>0.58</td>\n",
              "      <td>10.5</td>\n",
              "      <td>5</td>\n",
              "    </tr>\n",
              "    <tr>\n",
              "      <th>1595</th>\n",
              "      <td>5.9</td>\n",
              "      <td>0.550</td>\n",
              "      <td>0.10</td>\n",
              "      <td>2.2</td>\n",
              "      <td>0.062</td>\n",
              "      <td>39.0</td>\n",
              "      <td>51.0</td>\n",
              "      <td>0.99512</td>\n",
              "      <td>3.52</td>\n",
              "      <td>0.76</td>\n",
              "      <td>11.2</td>\n",
              "      <td>6</td>\n",
              "    </tr>\n",
              "    <tr>\n",
              "      <th>1596</th>\n",
              "      <td>6.3</td>\n",
              "      <td>0.510</td>\n",
              "      <td>0.13</td>\n",
              "      <td>2.3</td>\n",
              "      <td>0.076</td>\n",
              "      <td>29.0</td>\n",
              "      <td>40.0</td>\n",
              "      <td>0.99574</td>\n",
              "      <td>3.42</td>\n",
              "      <td>0.75</td>\n",
              "      <td>11.0</td>\n",
              "      <td>6</td>\n",
              "    </tr>\n",
              "    <tr>\n",
              "      <th>1597</th>\n",
              "      <td>5.9</td>\n",
              "      <td>0.645</td>\n",
              "      <td>0.12</td>\n",
              "      <td>2.0</td>\n",
              "      <td>0.075</td>\n",
              "      <td>32.0</td>\n",
              "      <td>44.0</td>\n",
              "      <td>0.99547</td>\n",
              "      <td>3.57</td>\n",
              "      <td>0.71</td>\n",
              "      <td>10.2</td>\n",
              "      <td>5</td>\n",
              "    </tr>\n",
              "    <tr>\n",
              "      <th>1598</th>\n",
              "      <td>6.0</td>\n",
              "      <td>0.310</td>\n",
              "      <td>0.47</td>\n",
              "      <td>3.6</td>\n",
              "      <td>0.067</td>\n",
              "      <td>18.0</td>\n",
              "      <td>42.0</td>\n",
              "      <td>0.99549</td>\n",
              "      <td>3.39</td>\n",
              "      <td>0.66</td>\n",
              "      <td>11.0</td>\n",
              "      <td>6</td>\n",
              "    </tr>\n",
              "  </tbody>\n",
              "</table>\n",
              "<p>1599 rows × 12 columns</p>\n",
              "</div>\n",
              "    <div class=\"colab-df-buttons\">\n",
              "\n",
              "  <div class=\"colab-df-container\">\n",
              "    <button class=\"colab-df-convert\" onclick=\"convertToInteractive('df-917d55d9-fd83-4a2b-8704-d863cb2a390b')\"\n",
              "            title=\"Convert this dataframe to an interactive table.\"\n",
              "            style=\"display:none;\">\n",
              "\n",
              "  <svg xmlns=\"http://www.w3.org/2000/svg\" height=\"24px\" viewBox=\"0 -960 960 960\">\n",
              "    <path d=\"M120-120v-720h720v720H120Zm60-500h600v-160H180v160Zm220 220h160v-160H400v160Zm0 220h160v-160H400v160ZM180-400h160v-160H180v160Zm440 0h160v-160H620v160ZM180-180h160v-160H180v160Zm440 0h160v-160H620v160Z\"/>\n",
              "  </svg>\n",
              "    </button>\n",
              "\n",
              "  <style>\n",
              "    .colab-df-container {\n",
              "      display:flex;\n",
              "      gap: 12px;\n",
              "    }\n",
              "\n",
              "    .colab-df-convert {\n",
              "      background-color: #E8F0FE;\n",
              "      border: none;\n",
              "      border-radius: 50%;\n",
              "      cursor: pointer;\n",
              "      display: none;\n",
              "      fill: #1967D2;\n",
              "      height: 32px;\n",
              "      padding: 0 0 0 0;\n",
              "      width: 32px;\n",
              "    }\n",
              "\n",
              "    .colab-df-convert:hover {\n",
              "      background-color: #E2EBFA;\n",
              "      box-shadow: 0px 1px 2px rgba(60, 64, 67, 0.3), 0px 1px 3px 1px rgba(60, 64, 67, 0.15);\n",
              "      fill: #174EA6;\n",
              "    }\n",
              "\n",
              "    .colab-df-buttons div {\n",
              "      margin-bottom: 4px;\n",
              "    }\n",
              "\n",
              "    [theme=dark] .colab-df-convert {\n",
              "      background-color: #3B4455;\n",
              "      fill: #D2E3FC;\n",
              "    }\n",
              "\n",
              "    [theme=dark] .colab-df-convert:hover {\n",
              "      background-color: #434B5C;\n",
              "      box-shadow: 0px 1px 3px 1px rgba(0, 0, 0, 0.15);\n",
              "      filter: drop-shadow(0px 1px 2px rgba(0, 0, 0, 0.3));\n",
              "      fill: #FFFFFF;\n",
              "    }\n",
              "  </style>\n",
              "\n",
              "    <script>\n",
              "      const buttonEl =\n",
              "        document.querySelector('#df-917d55d9-fd83-4a2b-8704-d863cb2a390b button.colab-df-convert');\n",
              "      buttonEl.style.display =\n",
              "        google.colab.kernel.accessAllowed ? 'block' : 'none';\n",
              "\n",
              "      async function convertToInteractive(key) {\n",
              "        const element = document.querySelector('#df-917d55d9-fd83-4a2b-8704-d863cb2a390b');\n",
              "        const dataTable =\n",
              "          await google.colab.kernel.invokeFunction('convertToInteractive',\n",
              "                                                    [key], {});\n",
              "        if (!dataTable) return;\n",
              "\n",
              "        const docLinkHtml = 'Like what you see? Visit the ' +\n",
              "          '<a target=\"_blank\" href=https://colab.research.google.com/notebooks/data_table.ipynb>data table notebook</a>'\n",
              "          + ' to learn more about interactive tables.';\n",
              "        element.innerHTML = '';\n",
              "        dataTable['output_type'] = 'display_data';\n",
              "        await google.colab.output.renderOutput(dataTable, element);\n",
              "        const docLink = document.createElement('div');\n",
              "        docLink.innerHTML = docLinkHtml;\n",
              "        element.appendChild(docLink);\n",
              "      }\n",
              "    </script>\n",
              "  </div>\n",
              "\n",
              "\n",
              "<div id=\"df-29e56bb5-e50f-43f5-88ba-452c202503fb\">\n",
              "  <button class=\"colab-df-quickchart\" onclick=\"quickchart('df-29e56bb5-e50f-43f5-88ba-452c202503fb')\"\n",
              "            title=\"Suggest charts\"\n",
              "            style=\"display:none;\">\n",
              "\n",
              "<svg xmlns=\"http://www.w3.org/2000/svg\" height=\"24px\"viewBox=\"0 0 24 24\"\n",
              "     width=\"24px\">\n",
              "    <g>\n",
              "        <path d=\"M19 3H5c-1.1 0-2 .9-2 2v14c0 1.1.9 2 2 2h14c1.1 0 2-.9 2-2V5c0-1.1-.9-2-2-2zM9 17H7v-7h2v7zm4 0h-2V7h2v10zm4 0h-2v-4h2v4z\"/>\n",
              "    </g>\n",
              "</svg>\n",
              "  </button>\n",
              "\n",
              "<style>\n",
              "  .colab-df-quickchart {\n",
              "      --bg-color: #E8F0FE;\n",
              "      --fill-color: #1967D2;\n",
              "      --hover-bg-color: #E2EBFA;\n",
              "      --hover-fill-color: #174EA6;\n",
              "      --disabled-fill-color: #AAA;\n",
              "      --disabled-bg-color: #DDD;\n",
              "  }\n",
              "\n",
              "  [theme=dark] .colab-df-quickchart {\n",
              "      --bg-color: #3B4455;\n",
              "      --fill-color: #D2E3FC;\n",
              "      --hover-bg-color: #434B5C;\n",
              "      --hover-fill-color: #FFFFFF;\n",
              "      --disabled-bg-color: #3B4455;\n",
              "      --disabled-fill-color: #666;\n",
              "  }\n",
              "\n",
              "  .colab-df-quickchart {\n",
              "    background-color: var(--bg-color);\n",
              "    border: none;\n",
              "    border-radius: 50%;\n",
              "    cursor: pointer;\n",
              "    display: none;\n",
              "    fill: var(--fill-color);\n",
              "    height: 32px;\n",
              "    padding: 0;\n",
              "    width: 32px;\n",
              "  }\n",
              "\n",
              "  .colab-df-quickchart:hover {\n",
              "    background-color: var(--hover-bg-color);\n",
              "    box-shadow: 0 1px 2px rgba(60, 64, 67, 0.3), 0 1px 3px 1px rgba(60, 64, 67, 0.15);\n",
              "    fill: var(--button-hover-fill-color);\n",
              "  }\n",
              "\n",
              "  .colab-df-quickchart-complete:disabled,\n",
              "  .colab-df-quickchart-complete:disabled:hover {\n",
              "    background-color: var(--disabled-bg-color);\n",
              "    fill: var(--disabled-fill-color);\n",
              "    box-shadow: none;\n",
              "  }\n",
              "\n",
              "  .colab-df-spinner {\n",
              "    border: 2px solid var(--fill-color);\n",
              "    border-color: transparent;\n",
              "    border-bottom-color: var(--fill-color);\n",
              "    animation:\n",
              "      spin 1s steps(1) infinite;\n",
              "  }\n",
              "\n",
              "  @keyframes spin {\n",
              "    0% {\n",
              "      border-color: transparent;\n",
              "      border-bottom-color: var(--fill-color);\n",
              "      border-left-color: var(--fill-color);\n",
              "    }\n",
              "    20% {\n",
              "      border-color: transparent;\n",
              "      border-left-color: var(--fill-color);\n",
              "      border-top-color: var(--fill-color);\n",
              "    }\n",
              "    30% {\n",
              "      border-color: transparent;\n",
              "      border-left-color: var(--fill-color);\n",
              "      border-top-color: var(--fill-color);\n",
              "      border-right-color: var(--fill-color);\n",
              "    }\n",
              "    40% {\n",
              "      border-color: transparent;\n",
              "      border-right-color: var(--fill-color);\n",
              "      border-top-color: var(--fill-color);\n",
              "    }\n",
              "    60% {\n",
              "      border-color: transparent;\n",
              "      border-right-color: var(--fill-color);\n",
              "    }\n",
              "    80% {\n",
              "      border-color: transparent;\n",
              "      border-right-color: var(--fill-color);\n",
              "      border-bottom-color: var(--fill-color);\n",
              "    }\n",
              "    90% {\n",
              "      border-color: transparent;\n",
              "      border-bottom-color: var(--fill-color);\n",
              "    }\n",
              "  }\n",
              "</style>\n",
              "\n",
              "  <script>\n",
              "    async function quickchart(key) {\n",
              "      const quickchartButtonEl =\n",
              "        document.querySelector('#' + key + ' button');\n",
              "      quickchartButtonEl.disabled = true;  // To prevent multiple clicks.\n",
              "      quickchartButtonEl.classList.add('colab-df-spinner');\n",
              "      try {\n",
              "        const charts = await google.colab.kernel.invokeFunction(\n",
              "            'suggestCharts', [key], {});\n",
              "      } catch (error) {\n",
              "        console.error('Error during call to suggestCharts:', error);\n",
              "      }\n",
              "      quickchartButtonEl.classList.remove('colab-df-spinner');\n",
              "      quickchartButtonEl.classList.add('colab-df-quickchart-complete');\n",
              "    }\n",
              "    (() => {\n",
              "      let quickchartButtonEl =\n",
              "        document.querySelector('#df-29e56bb5-e50f-43f5-88ba-452c202503fb button');\n",
              "      quickchartButtonEl.style.display =\n",
              "        google.colab.kernel.accessAllowed ? 'block' : 'none';\n",
              "    })();\n",
              "  </script>\n",
              "</div>\n",
              "\n",
              "  <div id=\"id_a1979a56-e2e9-4108-990d-b69434223ab3\">\n",
              "    <style>\n",
              "      .colab-df-generate {\n",
              "        background-color: #E8F0FE;\n",
              "        border: none;\n",
              "        border-radius: 50%;\n",
              "        cursor: pointer;\n",
              "        display: none;\n",
              "        fill: #1967D2;\n",
              "        height: 32px;\n",
              "        padding: 0 0 0 0;\n",
              "        width: 32px;\n",
              "      }\n",
              "\n",
              "      .colab-df-generate:hover {\n",
              "        background-color: #E2EBFA;\n",
              "        box-shadow: 0px 1px 2px rgba(60, 64, 67, 0.3), 0px 1px 3px 1px rgba(60, 64, 67, 0.15);\n",
              "        fill: #174EA6;\n",
              "      }\n",
              "\n",
              "      [theme=dark] .colab-df-generate {\n",
              "        background-color: #3B4455;\n",
              "        fill: #D2E3FC;\n",
              "      }\n",
              "\n",
              "      [theme=dark] .colab-df-generate:hover {\n",
              "        background-color: #434B5C;\n",
              "        box-shadow: 0px 1px 3px 1px rgba(0, 0, 0, 0.15);\n",
              "        filter: drop-shadow(0px 1px 2px rgba(0, 0, 0, 0.3));\n",
              "        fill: #FFFFFF;\n",
              "      }\n",
              "    </style>\n",
              "    <button class=\"colab-df-generate\" onclick=\"generateWithVariable('df')\"\n",
              "            title=\"Generate code using this dataframe.\"\n",
              "            style=\"display:none;\">\n",
              "\n",
              "  <svg xmlns=\"http://www.w3.org/2000/svg\" height=\"24px\"viewBox=\"0 0 24 24\"\n",
              "       width=\"24px\">\n",
              "    <path d=\"M7,19H8.4L18.45,9,17,7.55,7,17.6ZM5,21V16.75L18.45,3.32a2,2,0,0,1,2.83,0l1.4,1.43a1.91,1.91,0,0,1,.58,1.4,1.91,1.91,0,0,1-.58,1.4L9.25,21ZM18.45,9,17,7.55Zm-12,3A5.31,5.31,0,0,0,4.9,8.1,5.31,5.31,0,0,0,1,6.5,5.31,5.31,0,0,0,4.9,4.9,5.31,5.31,0,0,0,6.5,1,5.31,5.31,0,0,0,8.1,4.9,5.31,5.31,0,0,0,12,6.5,5.46,5.46,0,0,0,6.5,12Z\"/>\n",
              "  </svg>\n",
              "    </button>\n",
              "    <script>\n",
              "      (() => {\n",
              "      const buttonEl =\n",
              "        document.querySelector('#id_a1979a56-e2e9-4108-990d-b69434223ab3 button.colab-df-generate');\n",
              "      buttonEl.style.display =\n",
              "        google.colab.kernel.accessAllowed ? 'block' : 'none';\n",
              "\n",
              "      buttonEl.onclick = () => {\n",
              "        google.colab.notebook.generateWithVariable('df');\n",
              "      }\n",
              "      })();\n",
              "    </script>\n",
              "  </div>\n",
              "\n",
              "    </div>\n",
              "  </div>\n"
            ],
            "application/vnd.google.colaboratory.intrinsic+json": {
              "type": "dataframe",
              "variable_name": "df",
              "summary": "{\n  \"name\": \"df\",\n  \"rows\": 1599,\n  \"fields\": [\n    {\n      \"column\": \"fixed acidity\",\n      \"properties\": {\n        \"dtype\": \"number\",\n        \"std\": 1.7410963181277006,\n        \"min\": 4.6,\n        \"max\": 15.9,\n        \"num_unique_values\": 96,\n        \"samples\": [\n          5.3,\n          12.7,\n          12.6\n        ],\n        \"semantic_type\": \"\",\n        \"description\": \"\"\n      }\n    },\n    {\n      \"column\": \"volatile acidity\",\n      \"properties\": {\n        \"dtype\": \"number\",\n        \"std\": 0.17905970415353498,\n        \"min\": 0.12,\n        \"max\": 1.58,\n        \"num_unique_values\": 143,\n        \"samples\": [\n          1.025,\n          0.4,\n          0.87\n        ],\n        \"semantic_type\": \"\",\n        \"description\": \"\"\n      }\n    },\n    {\n      \"column\": \"citric acid\",\n      \"properties\": {\n        \"dtype\": \"number\",\n        \"std\": 0.19480113740531785,\n        \"min\": 0.0,\n        \"max\": 1.0,\n        \"num_unique_values\": 80,\n        \"samples\": [\n          0.37,\n          0.0,\n          0.09\n        ],\n        \"semantic_type\": \"\",\n        \"description\": \"\"\n      }\n    },\n    {\n      \"column\": \"residual sugar\",\n      \"properties\": {\n        \"dtype\": \"number\",\n        \"std\": 1.4099280595072805,\n        \"min\": 0.9,\n        \"max\": 15.5,\n        \"num_unique_values\": 91,\n        \"samples\": [\n          11.0,\n          3.0,\n          15.5\n        ],\n        \"semantic_type\": \"\",\n        \"description\": \"\"\n      }\n    },\n    {\n      \"column\": \"chlorides\",\n      \"properties\": {\n        \"dtype\": \"number\",\n        \"std\": 0.047065302010090154,\n        \"min\": 0.012,\n        \"max\": 0.611,\n        \"num_unique_values\": 153,\n        \"samples\": [\n          0.096,\n          0.3429999999999999,\n          0.159\n        ],\n        \"semantic_type\": \"\",\n        \"description\": \"\"\n      }\n    },\n    {\n      \"column\": \"free sulfur dioxide\",\n      \"properties\": {\n        \"dtype\": \"number\",\n        \"std\": 10.46015696980973,\n        \"min\": 1.0,\n        \"max\": 72.0,\n        \"num_unique_values\": 60,\n        \"samples\": [\n          11.0,\n          9.0,\n          32.0\n        ],\n        \"semantic_type\": \"\",\n        \"description\": \"\"\n      }\n    },\n    {\n      \"column\": \"total sulfur dioxide\",\n      \"properties\": {\n        \"dtype\": \"number\",\n        \"std\": 32.89532447829901,\n        \"min\": 6.0,\n        \"max\": 289.0,\n        \"num_unique_values\": 144,\n        \"samples\": [\n          68.0,\n          35.0,\n          101.0\n        ],\n        \"semantic_type\": \"\",\n        \"description\": \"\"\n      }\n    },\n    {\n      \"column\": \"density\",\n      \"properties\": {\n        \"dtype\": \"number\",\n        \"std\": 0.0018873339538425559,\n        \"min\": 0.99007,\n        \"max\": 1.00369,\n        \"num_unique_values\": 436,\n        \"samples\": [\n          0.99974,\n          1.0001,\n          0.99471\n        ],\n        \"semantic_type\": \"\",\n        \"description\": \"\"\n      }\n    },\n    {\n      \"column\": \"pH\",\n      \"properties\": {\n        \"dtype\": \"number\",\n        \"std\": 0.15438646490354266,\n        \"min\": 2.74,\n        \"max\": 4.01,\n        \"num_unique_values\": 89,\n        \"samples\": [\n          3.07,\n          3.0,\n          3.15\n        ],\n        \"semantic_type\": \"\",\n        \"description\": \"\"\n      }\n    },\n    {\n      \"column\": \"sulphates\",\n      \"properties\": {\n        \"dtype\": \"number\",\n        \"std\": 0.16950697959010977,\n        \"min\": 0.33,\n        \"max\": 2.0,\n        \"num_unique_values\": 96,\n        \"samples\": [\n          1.07,\n          1.04,\n          1.18\n        ],\n        \"semantic_type\": \"\",\n        \"description\": \"\"\n      }\n    },\n    {\n      \"column\": \"alcohol\",\n      \"properties\": {\n        \"dtype\": \"number\",\n        \"std\": 1.0656675818473926,\n        \"min\": 8.4,\n        \"max\": 14.9,\n        \"num_unique_values\": 65,\n        \"samples\": [\n          8.5,\n          9.95,\n          9.4\n        ],\n        \"semantic_type\": \"\",\n        \"description\": \"\"\n      }\n    },\n    {\n      \"column\": \"quality\",\n      \"properties\": {\n        \"dtype\": \"number\",\n        \"std\": 0,\n        \"min\": 3,\n        \"max\": 8,\n        \"num_unique_values\": 6,\n        \"samples\": [\n          5,\n          6,\n          3\n        ],\n        \"semantic_type\": \"\",\n        \"description\": \"\"\n      }\n    }\n  ]\n}"
            }
          },
          "metadata": {},
          "execution_count": 2
        }
      ]
    },
    {
      "cell_type": "code",
      "source": [
        "import seaborn as sns\n",
        "import matplotlib.pyplot as plt\n",
        "plt.figure(figsize=(10, 8))\n",
        "sns.heatmap(df.corr(), annot=True)\n",
        "plt.show()"
      ],
      "metadata": {
        "colab": {
          "base_uri": "https://localhost:8080/",
          "height": 568
        },
        "id": "uA2od0_ZhAmC",
        "outputId": "c21b0d1e-97b3-4151-b794-9d4d9b807bc4"
      },
      "execution_count": null,
      "outputs": [
        {
          "output_type": "display_data",
          "data": {
            "text/plain": [
              "<Figure size 1000x800 with 2 Axes>"
            ],
            "image/png": "[encoded data removed]"
          },
          "metadata": {}
        }
      ]
    },
    {
      "cell_type": "code",
      "source": [
        "class tree:\n",
        "  def __init__(self, data):\n",
        "    self.data = data\n",
        "    self.left = None\n",
        "    self.right = None\n",
        "\n",
        "  def insert(self, new_data):\n",
        "    if new_data < self.data:\n",
        "      if self.left is None:\n",
        "        self.left = tree(new_data)\n",
        "      else:\n",
        "        self.left.insert(new_data)\n",
        "    elif new_data > self.data:\n",
        "      if self.right is None:\n",
        "        self.right = tree(new_data)\n",
        "      else:\n",
        "        self.right.insert(new_data)\n",
        "  def show(self):\n",
        "      if self.left is not None:\n",
        "        self.left.show()\n",
        "      print(self.data)\n",
        "      if self.right is not None:\n",
        "        self.right.show()"
      ],
      "metadata": {
        "id": "hyy-OyEmbMhU"
      },
      "execution_count": null,
      "outputs": []
    },
    {
      "cell_type": "code",
      "source": [
        "value = tree(10)\n",
        "value.insert(5)\n",
        "value.insert(15)\n",
        "value.insert(3)\n",
        "value.insert(7)\n",
        "value.show()"
      ],
      "metadata": {
        "colab": {
          "base_uri": "https://localhost:8080/"
        },
        "id": "nT54D-s7coxE",
        "outputId": "9748b2d4-f918-40ce-95b0-df4b9c51e0b4"
      },
      "execution_count": null,
      "outputs": [
        {
          "output_type": "stream",
          "name": "stdout",
          "text": [
            "3\n",
            "5\n",
            "7\n",
            "10\n",
            "15\n"
          ]
        }
      ]
    },
    {
      "cell_type": "code",
      "source": [
        "def case_conversion(S, T, P):\n",
        "  result = list(S)\n",
        "  for i in range(len(S)):\n",
        "    if (i+1) % P == 0:\n",
        "      if T == 1:\n",
        "        result[i] = result[i].lower()\n",
        "      elif T == 2:\n",
        "        result[i] = result[i].upper()\n",
        "  return ''.join(result)\n",
        "\n",
        "S = input()\n",
        "T = int(input())\n",
        "P = int(input())\n",
        "print(case_conversion(S, T, P))"
      ],
      "metadata": {
        "id": "NnZsYBSRmahC",
        "colab": {
          "base_uri": "https://localhost:8080/"
        },
        "outputId": "4c685f42-6883-4a98-fc20-fccf7b8f39bc"
      },
      "execution_count": null,
      "outputs": [
        {
          "output_type": "stream",
          "name": "stdout",
          "text": [
            "ProFiLe\n",
            "2\n",
            "2\n",
            "PRoFiLe\n"
          ]
        }
      ]
    },
    {
      "cell_type": "code",
      "source": [
        "sentence = [\"code\", \"code\", \"code\"]\n",
        "S = 'code'\n",
        "result = {}\n",
        "for i in sentence:\n",
        "  result[i] = 1\n",
        "for j in S:\n",
        "  if j in result:\n",
        "    result[j] += 1\n",
        "  else:\n",
        "    result[j] = 1\n",
        "common_words = [count for i, count in result.items() if count > 1]\n",
        "if len(common_words) == 0:\n",
        "  print(-1)\n",
        "else:\n",
        "  answer = ''.join(map(str, common_words))\n",
        "  new_answer = int(answer) - int(1)\n",
        "  print(new_answer)\n"
      ],
      "metadata": {
        "colab": {
          "base_uri": "https://localhost:8080/"
        },
        "id": "YVAo14fyl3wx",
        "outputId": "fb98e88f-0488-4454-f040-23ea09b3d434"
      },
      "execution_count": null,
      "outputs": [
        {
          "output_type": "stream",
          "name": "stdout",
          "text": [
            "-1\n"
          ]
        }
      ]
    },
    {
      "cell_type": "code",
      "source": [
        "answer2 = sentence.count(S)\n",
        "print(answer2)"
      ],
      "metadata": {
        "colab": {
          "base_uri": "https://localhost:8080/"
        },
        "id": "hFHgVrd6NAkF",
        "outputId": "11b3c85e-0c87-45ee-d38c-6d4e9e754771"
      },
      "execution_count": null,
      "outputs": [
        {
          "output_type": "stream",
          "name": "stdout",
          "text": [
            "3\n"
          ]
        }
      ]
    },
    {
      "cell_type": "code",
      "source": [
        "S = \"hello\"\n",
        "len_word = len(S)\n",
        "mid_word_index = len_word // 2\n",
        "mid_word = S[mid_word_index]\n",
        "replace_word = mid_word.replace(mid_word, \"*\")\n",
        "print(replace_word)"
      ],
      "metadata": {
        "colab": {
          "base_uri": "https://localhost:8080/"
        },
        "id": "BRX_adRXXt3i",
        "outputId": "d3b6f43c-5615-450a-fe0a-48bdd9ea0088"
      },
      "execution_count": null,
      "outputs": [
        {
          "output_type": "stream",
          "name": "stdout",
          "text": [
            "*\n"
          ]
        }
      ]
    },
    {
      "cell_type": "code",
      "source": [
        "user_input = [input(f\"enter your input {i+1}: \") for i in range(5)]\n",
        "print(F\"You are entered {user_input}\")"
      ],
      "metadata": {
        "colab": {
          "base_uri": "https://localhost:8080/"
        },
        "id": "CDNNrXeF8Rmz",
        "outputId": "a00987bc-8207-4a60-ba78-e7a441e67208"
      },
      "execution_count": null,
      "outputs": [
        {
          "output_type": "stream",
          "name": "stdout",
          "text": [
            "enter your input 1: Annamalai\n",
            "enter your input 2: Mayandi\n",
            "enter your input 3: Sudalai\n",
            "enter your input 4: Mahendran\n",
            "enter your input 5: Shashin\n",
            "You are entered ['Annamalai', 'Mayandi', 'Sudalai', 'Mahendran', 'Shashin']\n"
          ]
        }
      ]
    },
    {
      "cell_type": "code",
      "source": [
        "inputs = list(map(int, input().split()))\n",
        "print(inputs)"
      ],
      "metadata": {
        "colab": {
          "base_uri": "https://localhost:8080/"
        },
        "id": "F69ZV9DP9Tqz",
        "outputId": "1ed4dc24-7628-4ce2-e645-355fa93a7c82"
      },
      "execution_count": null,
      "outputs": [
        {
          "output_type": "stream",
          "name": "stdout",
          "text": [
            "1 2 3 4 5\n",
            "[1, 2, 3, 4, 5]\n"
          ]
        }
      ]
    },
    {
      "cell_type": "code",
      "source": [
        "!chmod 600 /content/kaggle_dataset.json"
      ],
      "metadata": {
        "colab": {
          "base_uri": "https://localhost:8080/"
        },
        "id": "UMmSuH956k2n",
        "outputId": "f9643e0a-2196-4f46-d375-a7a457c1af38"
      },
      "execution_count": null,
      "outputs": [
        {
          "output_type": "stream",
          "name": "stdout",
          "text": [
            "chmod: cannot access '/content/kaggle_dataset.json': No such file or directory\n"
          ]
        }
      ]
    },
    {
      "cell_type": "code",
      "source": [
        "!pip install kaggle -q"
      ],
      "metadata": {
        "id": "x6LOrsaZ7O_b"
      },
      "execution_count": null,
      "outputs": []
    },
    {
      "cell_type": "code",
      "source": [
        "https://www.kaggle.com/datasets/shubhambathwal/flight-price-prediction\n"
      ],
      "metadata": {
        "colab": {
          "base_uri": "https://localhost:8080/",
          "height": 106
        },
        "id": "4SDHieMeHnY8",
        "outputId": "5ac536bf-94f7-4f6c-ad4a-e9479f4edc0f"
      },
      "execution_count": null,
      "outputs": [
        {
          "output_type": "error",
          "ename": "SyntaxError",
          "evalue": "invalid syntax (<ipython-input-3-6e280597b636>, line 1)",
          "traceback": [
            "\u001b[0;36m  File \u001b[0;32m\"<ipython-input-3-6e280597b636>\"\u001b[0;36m, line \u001b[0;32m1\u001b[0m\n\u001b[0;31m    https://www.kaggle.com/datasets/shubhambathwal/flight-price-prediction\u001b[0m\n\u001b[0m          ^\u001b[0m\n\u001b[0;31mSyntaxError\u001b[0m\u001b[0;31m:\u001b[0m invalid syntax\n"
          ]
        }
      ]
    },
    {
      "cell_type": "code",
      "source": [
        "!pip install kaggle -q"
      ],
      "metadata": {
        "id": "FRHG5b1irXNg"
      },
      "execution_count": null,
      "outputs": []
    },
    {
      "cell_type": "code",
      "source": [
        "!chmod 600 /content/kaggle.json"
      ],
      "metadata": {
        "colab": {
          "base_uri": "https://localhost:8080/"
        },
        "id": "xyl6wcqTrp0Z",
        "outputId": "b6044464-1d2e-4bf3-9c7c-23ee8fb3ab13"
      },
      "execution_count": null,
      "outputs": [
        {
          "output_type": "stream",
          "name": "stdout",
          "text": [
            "chmod: cannot access '/content/kaggle.json': No such file or directory\n"
          ]
        }
      ]
    },
    {
      "cell_type": "code",
      "source": [
        "!unzip /content/financial-risk-for-loan-approval.zip -d /content/kaggle_dataset"
      ],
      "metadata": {
        "colab": {
          "base_uri": "https://localhost:8080/"
        },
        "id": "v9Muha5azRIO",
        "outputId": "62f6710e-ead6-46bf-9d58-f826912a86dd"
      },
      "execution_count": null,
      "outputs": [
        {
          "output_type": "stream",
          "name": "stdout",
          "text": [
            "Archive:  /content/financial-risk-for-loan-approval.zip\n",
            "  inflating: /content/kaggle_dataset/CSV Generation.py  \n",
            "  inflating: /content/kaggle_dataset/Loan.csv  \n"
          ]
        }
      ]
    },
    {
      "cell_type": "code",
      "source": [
        "!kaggle datasets download -d lorenzozoppelletto/financial-risk-for-loan-approval"
      ],
      "metadata": {
        "colab": {
          "base_uri": "https://localhost:8080/"
        },
        "id": "bmFdb8r20ERn",
        "outputId": "6d749c6a-cd4c-4b30-d425-79d457f035a9"
      },
      "execution_count": null,
      "outputs": [
        {
          "output_type": "stream",
          "name": "stdout",
          "text": [
            "Dataset URL: https://www.kaggle.com/datasets/lorenzozoppelletto/financial-risk-for-loan-approval\n",
            "License(s): CC0-1.0\n",
            "Downloading financial-risk-for-loan-approval.zip to /content\n",
            "100% 2.15M/2.15M [00:00<00:00, 4.09MB/s]\n",
            "100% 2.15M/2.15M [00:00<00:00, 3.56MB/s]\n"
          ]
        }
      ]
    },
    {
      "cell_type": "code",
      "source": [
        "BASE, HEIGHT = list(map(int, input().split()))\n",
        "Area= 1/2 * (BASE * HEIGHT)\n",
        "print(Area)"
      ],
      "metadata": {
        "id": "D0Pols-30y_L",
        "colab": {
          "base_uri": "https://localhost:8080/"
        },
        "outputId": "20898a04-d6b2-4c06-8126-62fd78d1c2bf"
      },
      "execution_count": null,
      "outputs": [
        {
          "output_type": "stream",
          "name": "stdout",
          "text": [
            "2 4\n",
            "4.0\n"
          ]
        }
      ]
    },
    {
      "cell_type": "code",
      "source": [
        "def bitwise_and(n, arr):\n",
        "  result = arr[0]\n",
        "  for i in range(1, n):\n",
        "    result = result & arr[i]\n",
        "  return result\n",
        "\n",
        "n = int(input())\n",
        "arr = list(map(int, input().split()))\n",
        "print(bitwise_and(n, arr))"
      ],
      "metadata": {
        "colab": {
          "base_uri": "https://localhost:8080/"
        },
        "id": "avoYdAmLPIRy",
        "outputId": "826a68cd-f50c-4f0f-e0ae-3d6cf8f212ff"
      },
      "execution_count": null,
      "outputs": [
        {
          "output_type": "stream",
          "name": "stdout",
          "text": [
            "4\n",
            "4 3 2 1\n",
            "0\n"
          ]
        }
      ]
    },
    {
      "cell_type": "code",
      "source": [
        "# Find next smallest number in the array\n",
        "n = 7\n",
        "arr = [10, 7, 9, 3, 2, 1, 15]\n",
        "\n",
        "result = []\n",
        "\n",
        "for i in range(len(arr)):\n",
        "  if i > n-1 and arr[i] > arr[i+1]:\n",
        "    result.append(arr[i+1])\n",
        "    if i > n-1 and arr[i] < arr[i+1]:\n",
        "      result.append(arr[i+2])\n",
        "      if i == n-2 and arr[i] > arr[i+1]:\n",
        "        result.append(-1)\n",
        "\n",
        "print(result)\n"
      ],
      "metadata": {
        "colab": {
          "base_uri": "https://localhost:8080/"
        },
        "collapsed": true,
        "id": "_4MFKkIA188Z",
        "outputId": "c1d207d4-2b6d-47d1-c950-5c67dff35839"
      },
      "execution_count": null,
      "outputs": [
        {
          "output_type": "stream",
          "name": "stdout",
          "text": [
            "[]\n"
          ]
        }
      ]
    },
    {
      "cell_type": "code",
      "source": [
        "answer = [-1] * len(arr)\n",
        "answer"
      ],
      "metadata": {
        "colab": {
          "base_uri": "https://localhost:8080/"
        },
        "id": "93uehJzTG1mj",
        "outputId": "b98bc2aa-1486-4570-ff2e-45ae539435a2"
      },
      "execution_count": null,
      "outputs": [
        {
          "output_type": "execute_result",
          "data": {
            "text/plain": [
              "[-1, -1, -1, -1, -1, -1, -1]"
            ]
          },
          "metadata": {},
          "execution_count": 33
        }
      ]
    },
    {
      "cell_type": "code",
      "source": [
        "def next_smallest(arr):\n",
        "    stack = []\n",
        "    result = [-1] * len(arr)\n",
        "\n",
        "    for i in range(len(arr)):\n",
        "        while stack and arr[stack[-1]] > arr[i]:\n",
        "            result[stack.pop()] = arr[i]\n",
        "        stack.append(i)\n",
        "\n",
        "\n",
        "    return result\n",
        "\n",
        "n = int(input())\n",
        "arr = list(map(int, input().split()))\n",
        "\n",
        "\n",
        "print(*next_smallest(arr))"
      ],
      "metadata": {
        "id": "CuSjfu_8Hilc"
      },
      "execution_count": null,
      "outputs": []
    },
    {
      "cell_type": "code",
      "source": [
        "n = 7\n",
        "arr = [1, -2, -3, -4, 5, 6, -7]\n",
        "k = 3\n",
        "result = []\n",
        "for i in range(len(arr)-k+1):\n",
        "    window =  arr[i:i+k]\n",
        "    negatives = [num for num in window if num < 0]\n",
        "    if negatives:\n",
        "        result.append(negatives[0])\n",
        "    else:\n",
        "        result.append(0)\n",
        "print(' '.join(map(str, result)))"
      ],
      "metadata": {
        "colab": {
          "base_uri": "https://localhost:8080/"
        },
        "id": "YMxz6fLvBSwf",
        "outputId": "dd89813b-993c-42a8-d828-d99870348261"
      },
      "execution_count": null,
      "outputs": [
        {
          "output_type": "stream",
          "name": "stdout",
          "text": [
            "-2 -2 -3 -4 -7\n"
          ]
        }
      ]
    },
    {
      "cell_type": "code",
      "source": [
        "n = int(input())\n",
        "arr = list(map(int, input().split()))\n",
        "result = 0\n",
        "for i in range(len(arr)):\n",
        "    result += arr[i]\n",
        "\n",
        "if result % 2 == 0 and result % 3 == 0 and result % 5 == 0:\n",
        "    print(1)\n",
        "else:\n",
        "    print(0)"
      ],
      "metadata": {
        "colab": {
          "base_uri": "https://localhost:8080/"
        },
        "id": "CBz9NBO-F1rZ",
        "outputId": "c54df8cd-44c5-486b-b5d2-8c13b04c1cc3"
      },
      "execution_count": null,
      "outputs": [
        {
          "output_type": "stream",
          "name": "stdout",
          "text": [
            "7\n",
            "15 15 15 15 15 15 15\n",
            "0\n"
          ]
        }
      ]
    },
    {
      "cell_type": "code",
      "source": [
        "print(1-3)"
      ],
      "metadata": {
        "colab": {
          "base_uri": "https://localhost:8080/"
        },
        "id": "pxsOknrnGxmW",
        "outputId": "84f96fe7-63f8-44dd-ad6c-5d77b98e46db"
      },
      "execution_count": null,
      "outputs": [
        {
          "output_type": "stream",
          "name": "stdout",
          "text": [
            "-2\n"
          ]
        }
      ]
    },
    {
      "cell_type": "code",
      "source": [
        "n = int(input())\n",
        "numbers = list(map(int, input().split()))\n",
        "largest_number = max(numbers)\n",
        "small_number = min(numbers)\n",
        "lar_index = numbers.index(largest_number)\n",
        "small_index = numbers.index(small_number)\n",
        "diff = lar_index - small_index\n",
        "print(diff)"
      ],
      "metadata": {
        "colab": {
          "base_uri": "https://localhost:8080/"
        },
        "id": "MPsT48AWHKjR",
        "outputId": "30ca3fda-6fc1-4e5e-9a39-437b4a7adf01"
      },
      "execution_count": null,
      "outputs": [
        {
          "output_type": "stream",
          "name": "stdout",
          "text": [
            "5\n",
            "1 6 4 0 3\n",
            "-2\n"
          ]
        }
      ]
    },
    {
      "cell_type": "code",
      "source": [
        "n = int(input())\n",
        "numbers = list(map(int, input().split()))\n",
        "numbers_count = {}\n",
        "\n",
        "for i in numbers:\n",
        "  if i in numbers_count:\n",
        "    numbers_count[i] += 1\n",
        "  else:\n",
        "    numbers_count[i] = 1\n",
        "least_occurance = [i for i, count in numbers_count.items() if count <= 1]\n",
        "least_occurance.sort(reverse=True)\n",
        "print(' '.join(map(str, least_occurance)))"
      ],
      "metadata": {
        "id": "CXnTJ1icIryj",
        "colab": {
          "base_uri": "https://localhost:8080/"
        },
        "outputId": "604308d5-2a2c-4ec6-af57-15196efba006"
      },
      "execution_count": null,
      "outputs": [
        {
          "output_type": "stream",
          "name": "stdout",
          "text": [
            "9\n",
            "1 6 4 56 56 56 6 4 2\n",
            "2 1\n"
          ]
        }
      ]
    },
    {
      "cell_type": "code",
      "source": [
        "n = int(input())\n",
        "numbers = list(map(int, input().split()))\n",
        "count_elements = {}\n",
        "\n",
        "for i in numbers:\n",
        "    if i in count_elements:\n",
        "        count_elements[i] += 1\n",
        "    else:\n",
        "        count_elements[i] = 1\n",
        "\n",
        "least_occurances = [num for num, count in count_elements.items() if count <= 1]\n",
        "least_occurances.sort(reverse=True)\n",
        "print(' '.join(map(str, least_occurances)))"
      ],
      "metadata": {
        "colab": {
          "base_uri": "https://localhost:8080/"
        },
        "id": "jZrO5RRRG43j",
        "outputId": "488f2736-d032-4fa2-e92b-02fd715a6227"
      },
      "execution_count": null,
      "outputs": [
        {
          "output_type": "stream",
          "name": "stdout",
          "text": [
            "9\n",
            "1 6 4 56 56 56 6 4 2\n",
            "2 1\n"
          ]
        }
      ]
    },
    {
      "cell_type": "code",
      "source": [
        "n = int(input())\n",
        "initial_savings = 1000\n",
        "savings = int(initial_savings*(n+1))\n",
        "print(savings)"
      ],
      "metadata": {
        "id": "qSswPfO7IV51",
        "outputId": "476d47b1-92d0-41a6-e534-040e4ba8368b",
        "colab": {
          "base_uri": "https://localhost:8080/"
        }
      },
      "execution_count": null,
      "outputs": [
        {
          "output_type": "stream",
          "name": "stdout",
          "text": [
            "1\n",
            "2000\n"
          ]
        }
      ]
    },
    {
      "cell_type": "code",
      "source": [
        "no_of_students, ramesh_mark = list(map(int, input().split()))\n",
        "marks = list(map(int, input().split()))\n",
        "\n",
        "if ramesh_mark in marks:\n",
        "  print(marks.index(ramesh_mark))\n",
        "else:\n",
        "  print(-1)"
      ],
      "metadata": {
        "colab": {
          "base_uri": "https://localhost:8080/"
        },
        "id": "Q9Yn0KxNlaZT",
        "outputId": "9efdfefe-9ca3-4d4c-857e-67b680e65912"
      },
      "execution_count": null,
      "outputs": [
        {
          "output_type": "stream",
          "name": "stdout",
          "text": [
            "2 10\n",
            "10 10\n",
            "0\n"
          ]
        }
      ]
    },
    {
      "cell_type": "code",
      "source": [
        "def sort_matrix(m, n, matrix):\n",
        "    flat_list = [num for row in matrix for num in row]\n",
        "    sorted_list = sorted(flat_list)\n",
        "    sorted_matrix = [sorted_list[i:i+n] for i in range(0,len(sorted_list),n)]\n",
        "    return sorted_matrix\n",
        "\n",
        "m, n = map(int, input().split())\n",
        "matrix = [list(map(int, input().split())) for _ in range(m)]\n",
        "sorted_matrix = sort_matrix(m, n, matrix)\n",
        "for row in sorted_matrix:\n",
        "    print(*row)"
      ],
      "metadata": {
        "colab": {
          "base_uri": "https://localhost:8080/"
        },
        "id": "QXbkmhVCsNtY",
        "outputId": "39ecc2ff-5ef6-4446-ddd1-0eb39fa834e9"
      },
      "execution_count": null,
      "outputs": [
        {
          "output_type": "stream",
          "name": "stdout",
          "text": [
            "3 3\n",
            "87 21 34\n",
            "89 32 78\n",
            "12 23 45\n",
            "12 21 23\n",
            "32 34 45\n",
            "78 87 89\n"
          ]
        }
      ]
    },
    {
      "cell_type": "code",
      "source": [
        "n , m = map(int, input().split())\n",
        "n_arr = list(map(int, input().split()))\n",
        "m_arr = list(map(int, input().split()))\n",
        "my_list = []\n",
        "n_arr.sort()\n",
        "m_arr.sort(reverse=True)\n",
        "my_list.extend(n_arr)\n",
        "my_list.extend(m_arr)\n",
        "print(' '.join(map(str, my_list)))"
      ],
      "metadata": {
        "colab": {
          "base_uri": "https://localhost:8080/"
        },
        "id": "5Pk1FcvHkaig",
        "outputId": "57743e85-e796-4f20-9834-33943762435f"
      },
      "execution_count": null,
      "outputs": [
        {
          "output_type": "stream",
          "name": "stdout",
          "text": [
            "3 3\n",
            "23 15 16\n",
            "357 65 10\n",
            "15 16 23 357 65 10\n"
          ]
        }
      ]
    },
    {
      "cell_type": "code",
      "source": [
        "no_of_arrays = int(input())\n",
        "\n",
        "my_list = []\n",
        "for i in range(no_of_arrays):\n",
        "    size = int(input())\n",
        "    arr = list(map(int, input().split()))\n",
        "    arr.sort()\n",
        "    for j in arr:\n",
        "      my_list.append(j)\n",
        "\n",
        "\n",
        "print(' '.join(map(str, my_list)))"
      ],
      "metadata": {
        "colab": {
          "base_uri": "https://localhost:8080/"
        },
        "id": "LdBGHD8a5T80",
        "outputId": "ac98f853-85e8-40ac-ba49-0c73f9114bd7"
      },
      "execution_count": null,
      "outputs": [
        {
          "output_type": "stream",
          "name": "stdout",
          "text": [
            "3\n",
            "2\n",
            "98 12\n",
            "6\n",
            "1 2 3 8 5 9\n",
            "1\n",
            "11\n",
            "12 98 1 2 3 5 8 9 11\n"
          ]
        }
      ]
    },
    {
      "cell_type": "code",
      "source": [
        "n = int(input())\n",
        "arr = list(map(int, input().split()))\n",
        "no_counts = {}\n",
        "for i in arr:\n",
        "  if i in no_counts:\n",
        "    no_counts[i] += 1\n",
        "  else:\n",
        "    no_counts[i] = 1\n",
        "twice = [i for i, count in no_counts.items() if count == 2]\n",
        "print(' '.join(map(str, twice)))"
      ],
      "metadata": {
        "colab": {
          "base_uri": "https://localhost:8080/"
        },
        "id": "4ql23iUWBWjH",
        "outputId": "3b521d27-ef4b-4a3e-fa13-f39617852e46"
      },
      "execution_count": null,
      "outputs": [
        {
          "output_type": "stream",
          "name": "stdout",
          "text": [
            "5\n",
            "13 12 13 12 13\n",
            "12\n"
          ]
        }
      ]
    },
    {
      "cell_type": "code",
      "source": [
        "text = list(map(str, input().split()))\n",
        "text.sort()\n",
        "print(' '.join(map(str, text)))"
      ],
      "metadata": {
        "colab": {
          "base_uri": "https://localhost:8080/"
        },
        "id": "-5Wk2tPLCvDx",
        "outputId": "956cc86f-a339-4951-98d3-430657390b9c"
      },
      "execution_count": null,
      "outputs": [
        {
          "output_type": "stream",
          "name": "stdout",
          "text": [
            "InfinityWar EndGame Avengers\n",
            "Avengers EndGame InfinityWar\n"
          ]
        }
      ]
    },
    {
      "cell_type": "code",
      "source": [
        "s = input()\n",
        "my_list = []\n",
        "\n",
        "for i in s:\n",
        "  if not int(i) % 2 == 0:\n",
        "    my_list.append(i)\n",
        "\n",
        "if len(my_list) == 0:\n",
        "  print(-1)\n",
        "else:\n",
        "  print(' '.join(map(str, my_list)))\n"
      ],
      "metadata": {
        "colab": {
          "base_uri": "https://localhost:8080/"
        },
        "id": "v-c8osfxDjbK",
        "outputId": "cd512543-d626-4f89-c1e1-b58f195d9a37"
      },
      "execution_count": null,
      "outputs": [
        {
          "output_type": "stream",
          "name": "stdout",
          "text": [
            "2143\n",
            "1 3\n"
          ]
        }
      ]
    },
    {
      "cell_type": "code",
      "source": [
        "n = int(input())\n",
        "emp = {}\n",
        "for _ in range(n):\n",
        "    data = list(map(str, input().split()))\n",
        "    name = ' '.join(data[:-1])  # Get the full name\n",
        "    salary = data[-1]  # Get the salary\n",
        "    emp[salary] = name\n",
        "\n",
        "sort_salary = sorted(emp.keys())\n",
        "name_list = []\n",
        "for j in sort_salary:\n",
        "    name_list.append(emp[j])\n",
        "for k in name_list:\n",
        "    print(k)\n"
      ],
      "metadata": {
        "colab": {
          "base_uri": "https://localhost:8080/"
        },
        "id": "tcGap0SfP3xd",
        "outputId": "81fe51bf-aad5-46fe-b2b5-f293beb47e0b",
        "collapsed": true
      },
      "execution_count": null,
      "outputs": [
        {
          "output_type": "stream",
          "name": "stdout",
          "text": [
            "3\n",
            "Karthik 23000\n",
            "rohan 81734\n",
            "varshini 12343\n",
            "varshini\n",
            "Karthik\n",
            "rohan\n"
          ]
        }
      ]
    },
    {
      "cell_type": "code",
      "source": [
        "n = int(input())\n",
        "data = list(map(str, input().split()))\n",
        "name = []\n",
        "salary = []\n",
        "for i in data:\n",
        "  if i.isalpha():\n",
        "    name.append(i)\n",
        "  else:\n",
        "    salary.append(int(i))\n",
        "\n",
        "employees = dict(zip(name, salary))\n",
        "print(employees)\n",
        "\n",
        "sort_emp = sorted(employees.items(), key=lambda x: x[1])\n",
        "for k in sort_emp:\n",
        "  print(k[0])"
      ],
      "metadata": {
        "colab": {
          "base_uri": "https://localhost:8080/"
        },
        "id": "L9CgyAMHcQEc",
        "outputId": "dbd63fff-53b3-4e23-e426-a500cce37d27"
      },
      "execution_count": null,
      "outputs": [
        {
          "output_type": "stream",
          "name": "stdout",
          "text": [
            "3\n",
            "Karthik 23000 rohan 81734 varshini 12343\n",
            "{'Karthik': 23000, 'rohan': 81734, 'varshini': 12343}\n",
            "varshini\n",
            "Karthik\n",
            "rohan\n"
          ]
        }
      ]
    },
    {
      "cell_type": "code",
      "source": [
        "data[:-1]"
      ],
      "metadata": {
        "colab": {
          "base_uri": "https://localhost:8080/"
        },
        "id": "mBwJINE8V7D-",
        "outputId": "b8ad6847-9cc0-4c2d-fd04-ebb6797b757e"
      },
      "execution_count": null,
      "outputs": [
        {
          "output_type": "execute_result",
          "data": {
            "text/plain": [
              "['varshini']"
            ]
          },
          "metadata": {},
          "execution_count": 28
        }
      ]
    },
    {
      "cell_type": "code",
      "source": [
        "import requests\n",
        "import json\n",
        "import time\n",
        "import pandas as pd\n",
        "import plotly.express as px\n",
        "\n",
        "\n",
        "url = \"http://api.open-notify.org/iss-now.json\"\n",
        "\n",
        "location_data = []\n",
        "\n",
        "for i in range(10):\n",
        "  result = requests.get(url)\n",
        "  data = result.json()\n",
        "  location = data[\"iss_position\"]\n",
        "  print(location)\n",
        "  time.sleep(1)\n",
        "  location_data.append({'latitude': location[\"latitude\"], 'longitude': location[\"longitude\"]})\n",
        "\n",
        "  df = pd.DataFrame(location_data)\n",
        "fig = px.scatter_geo(df,lat=\"latitude\",lon=\"longitude\") #https://plotly.com/python/maps/\n",
        "fig.show()\n"
      ],
      "metadata": {
        "colab": {
          "base_uri": "https://localhost:8080/",
          "height": 716
        },
        "id": "9EIBVuLoI6SO",
        "outputId": "487df555-19da-46cc-b964-925393f158aa",
        "collapsed": true
      },
      "execution_count": null,
      "outputs": [
        {
          "output_type": "stream",
          "name": "stdout",
          "text": [
            "{'latitude': '48.1941', 'longitude': '154.9429'}\n",
            "{'latitude': '48.3923', 'longitude': '155.6803'}\n",
            "{'latitude': '48.4152', 'longitude': '155.7674'}\n",
            "{'latitude': '48.7944', 'longitude': '157.2614'}\n",
            "{'latitude': '48.8161', 'longitude': '157.3499'}\n",
            "{'latitude': '48.8591', 'longitude': '157.5274'}\n",
            "{'latitude': '48.8806', 'longitude': '157.6163'}\n",
            "{'latitude': '48.9125', 'longitude': '157.7497'}\n",
            "{'latitude': '48.9338', 'longitude': '157.8387'}\n",
            "{'latitude': '48.9549', 'longitude': '157.9279'}\n"
          ]
        },
        {
          "output_type": "display_data",
          "data": {
            "text/html": [
              "<html>\n",
              "<head><meta charset=\"utf-8\" /></head>\n",
              "<body>\n",
              "    <div>            <script src=\"https://cdnjs.cloudflare.com/ajax/libs/mathjax/2.7.5/MathJax.js?config=TeX-AMS-MML_SVG\"></script><script type=\"text/javascript\">if (window.MathJax && window.MathJax.Hub && window.MathJax.Hub.Config) {window.MathJax.Hub.Config({SVG: {font: \"STIX-Web\"}});}</script>                <script type=\"text/javascript\">window.PlotlyConfig = {MathJaxConfig: 'local'};</script>\n",
              "        <script charset=\"utf-8\" src=\"https://cdn.plot.ly/plotly-2.35.2.min.js\"></script>                <div id=\"26d16edd-b152-4140-a846-54f68046da80\" class=\"plotly-graph-div\" style=\"height:525px; width:100%;\"></div>            <script type=\"text/javascript\">                                    window.PLOTLYENV=window.PLOTLYENV || {};                                    if (document.getElementById(\"26d16edd-b152-4140-a846-54f68046da80\")) {                    Plotly.newPlot(                        \"26d16edd-b152-4140-a846-54f68046da80\",                        [{\"geo\":\"geo\",\"hovertemplate\":\"latitude=%{lat}\\u003cbr\\u003elongitude=%{lon}\\u003cextra\\u003e\\u003c\\u002fextra\\u003e\",\"lat\":[\"48.1941\",\"48.3923\",\"48.4152\",\"48.7944\",\"48.8161\",\"48.8591\",\"48.8806\",\"48.9125\",\"48.9338\",\"48.9549\"],\"legendgroup\":\"\",\"lon\":[\"154.9429\",\"155.6803\",\"155.7674\",\"157.2614\",\"157.3499\",\"157.5274\",\"157.6163\",\"157.7497\",\"157.8387\",\"157.9279\"],\"marker\":{\"color\":\"#636efa\",\"symbol\":\"circle\"},\"mode\":\"markers\",\"name\":\"\",\"showlegend\":false,\"type\":\"scattergeo\"}],                        {\"template\":{\"data\":{\"histogram2dcontour\":[{\"type\":\"histogram2dcontour\",\"colorbar\":{\"outlinewidth\":0,\"ticks\":\"\"},\"colorscale\":[[0.0,\"#0d0887\"],[0.1111111111111111,\"#46039f\"],[0.2222222222222222,\"#7201a8\"],[0.3333333333333333,\"#9c179e\"],[0.4444444444444444,\"#bd3786\"],[0.5555555555555556,\"#d8576b\"],[0.6666666666666666,\"#ed7953\"],[0.7777777777777778,\"#fb9f3a\"],[0.8888888888888888,\"#fdca26\"],[1.0,\"#f0f921\"]]}],\"choropleth\":[{\"type\":\"choropleth\",\"colorbar\":{\"outlinewidth\":0,\"ticks\":\"\"}}],\"histogram2d\":[{\"type\":\"histogram2d\",\"colorbar\":{\"outlinewidth\":0,\"ticks\":\"\"},\"colorscale\":[[0.0,\"#0d0887\"],[0.1111111111111111,\"#46039f\"],[0.2222222222222222,\"#7201a8\"],[0.3333333333333333,\"#9c179e\"],[0.4444444444444444,\"#bd3786\"],[0.5555555555555556,\"#d8576b\"],[0.6666666666666666,\"#ed7953\"],[0.7777777777777778,\"#fb9f3a\"],[0.8888888888888888,\"#fdca26\"],[1.0,\"#f0f921\"]]}],\"heatmap\":[{\"type\":\"heatmap\",\"colorbar\":{\"outlinewidth\":0,\"ticks\":\"\"},\"colorscale\":[[0.0,\"#0d0887\"],[0.1111111111111111,\"#46039f\"],[0.2222222222222222,\"#7201a8\"],[0.3333333333333333,\"#9c179e\"],[0.4444444444444444,\"#bd3786\"],[0.5555555555555556,\"#d8576b\"],[0.6666666666666666,\"#ed7953\"],[0.7777777777777778,\"#fb9f3a\"],[0.8888888888888888,\"#fdca26\"],[1.0,\"#f0f921\"]]}],\"heatmapgl\":[{\"type\":\"heatmapgl\",\"colorbar\":{\"outlinewidth\":0,\"ticks\":\"\"},\"colorscale\":[[0.0,\"#0d0887\"],[0.1111111111111111,\"#46039f\"],[0.2222222222222222,\"#7201a8\"],[0.3333333333333333,\"#9c179e\"],[0.4444444444444444,\"#bd3786\"],[0.5555555555555556,\"#d8576b\"],[0.6666666666666666,\"#ed7953\"],[0.7777777777777778,\"#fb9f3a\"],[0.8888888888888888,\"#fdca26\"],[1.0,\"#f0f921\"]]}],\"contourcarpet\":[{\"type\":\"contourcarpet\",\"colorbar\":{\"outlinewidth\":0,\"ticks\":\"\"}}],\"contour\":[{\"type\":\"contour\",\"colorbar\":{\"outlinewidth\":0,\"ticks\":\"\"},\"colorscale\":[[0.0,\"#0d0887\"],[0.1111111111111111,\"#46039f\"],[0.2222222222222222,\"#7201a8\"],[0.3333333333333333,\"#9c179e\"],[0.4444444444444444,\"#bd3786\"],[0.5555555555555556,\"#d8576b\"],[0.6666666666666666,\"#ed7953\"],[0.7777777777777778,\"#fb9f3a\"],[0.8888888888888888,\"#fdca26\"],[1.0,\"#f0f921\"]]}],\"surface\":[{\"type\":\"surface\",\"colorbar\":{\"outlinewidth\":0,\"ticks\":\"\"},\"colorscale\":[[0.0,\"#0d0887\"],[0.1111111111111111,\"#46039f\"],[0.2222222222222222,\"#7201a8\"],[0.3333333333333333,\"#9c179e\"],[0.4444444444444444,\"#bd3786\"],[0.5555555555555556,\"#d8576b\"],[0.6666666666666666,\"#ed7953\"],[0.7777777777777778,\"#fb9f3a\"],[0.8888888888888888,\"#fdca26\"],[1.0,\"#f0f921\"]]}],\"mesh3d\":[{\"type\":\"mesh3d\",\"colorbar\":{\"outlinewidth\":0,\"ticks\":\"\"}}],\"scatter\":[{\"fillpattern\":{\"fillmode\":\"overlay\",\"size\":10,\"solidity\":0.2},\"type\":\"scatter\"}],\"parcoords\":[{\"type\":\"parcoords\",\"line\":{\"colorbar\":{\"outlinewidth\":0,\"ticks\":\"\"}}}],\"scatterpolargl\":[{\"type\":\"scatterpolargl\",\"marker\":{\"colorbar\":{\"outlinewidth\":0,\"ticks\":\"\"}}}],\"bar\":[{\"error_x\":{\"color\":\"#2a3f5f\"},\"error_y\":{\"color\":\"#2a3f5f\"},\"marker\":{\"line\":{\"color\":\"#E5ECF6\",\"width\":0.5},\"pattern\":{\"fillmode\":\"overlay\",\"size\":10,\"solidity\":0.2}},\"type\":\"bar\"}],\"scattergeo\":[{\"type\":\"scattergeo\",\"marker\":{\"colorbar\":{\"outlinewidth\":0,\"ticks\":\"\"}}}],\"scatterpolar\":[{\"type\":\"scatterpolar\",\"marker\":{\"colorbar\":{\"outlinewidth\":0,\"ticks\":\"\"}}}],\"histogram\":[{\"marker\":{\"pattern\":{\"fillmode\":\"overlay\",\"size\":10,\"solidity\":0.2}},\"type\":\"histogram\"}],\"scattergl\":[{\"type\":\"scattergl\",\"marker\":{\"colorbar\":{\"outlinewidth\":0,\"ticks\":\"\"}}}],\"scatter3d\":[{\"type\":\"scatter3d\",\"line\":{\"colorbar\":{\"outlinewidth\":0,\"ticks\":\"\"}},\"marker\":{\"colorbar\":{\"outlinewidth\":0,\"ticks\":\"\"}}}],\"scattermapbox\":[{\"type\":\"scattermapbox\",\"marker\":{\"colorbar\":{\"outlinewidth\":0,\"ticks\":\"\"}}}],\"scatterternary\":[{\"type\":\"scatterternary\",\"marker\":{\"colorbar\":{\"outlinewidth\":0,\"ticks\":\"\"}}}],\"scattercarpet\":[{\"type\":\"scattercarpet\",\"marker\":{\"colorbar\":{\"outlinewidth\":0,\"ticks\":\"\"}}}],\"carpet\":[{\"aaxis\":{\"endlinecolor\":\"#2a3f5f\",\"gridcolor\":\"white\",\"linecolor\":\"white\",\"minorgridcolor\":\"white\",\"startlinecolor\":\"#2a3f5f\"},\"baxis\":{\"endlinecolor\":\"#2a3f5f\",\"gridcolor\":\"white\",\"linecolor\":\"white\",\"minorgridcolor\":\"white\",\"startlinecolor\":\"#2a3f5f\"},\"type\":\"carpet\"}],\"table\":[{\"cells\":{\"fill\":{\"color\":\"#EBF0F8\"},\"line\":{\"color\":\"white\"}},\"header\":{\"fill\":{\"color\":\"#C8D4E3\"},\"line\":{\"color\":\"white\"}},\"type\":\"table\"}],\"barpolar\":[{\"marker\":{\"line\":{\"color\":\"#E5ECF6\",\"width\":0.5},\"pattern\":{\"fillmode\":\"overlay\",\"size\":10,\"solidity\":0.2}},\"type\":\"barpolar\"}],\"pie\":[{\"automargin\":true,\"type\":\"pie\"}]},\"layout\":{\"autotypenumbers\":\"strict\",\"colorway\":[\"#636efa\",\"#EF553B\",\"#00cc96\",\"#ab63fa\",\"#FFA15A\",\"#19d3f3\",\"#FF6692\",\"#B6E880\",\"#FF97FF\",\"#FECB52\"],\"font\":{\"color\":\"#2a3f5f\"},\"hovermode\":\"closest\",\"hoverlabel\":{\"align\":\"left\"},\"paper_bgcolor\":\"white\",\"plot_bgcolor\":\"#E5ECF6\",\"polar\":{\"bgcolor\":\"#E5ECF6\",\"angularaxis\":{\"gridcolor\":\"white\",\"linecolor\":\"white\",\"ticks\":\"\"},\"radialaxis\":{\"gridcolor\":\"white\",\"linecolor\":\"white\",\"ticks\":\"\"}},\"ternary\":{\"bgcolor\":\"#E5ECF6\",\"aaxis\":{\"gridcolor\":\"white\",\"linecolor\":\"white\",\"ticks\":\"\"},\"baxis\":{\"gridcolor\":\"white\",\"linecolor\":\"white\",\"ticks\":\"\"},\"caxis\":{\"gridcolor\":\"white\",\"linecolor\":\"white\",\"ticks\":\"\"}},\"coloraxis\":{\"colorbar\":{\"outlinewidth\":0,\"ticks\":\"\"}},\"colorscale\":{\"sequential\":[[0.0,\"#0d0887\"],[0.1111111111111111,\"#46039f\"],[0.2222222222222222,\"#7201a8\"],[0.3333333333333333,\"#9c179e\"],[0.4444444444444444,\"#bd3786\"],[0.5555555555555556,\"#d8576b\"],[0.6666666666666666,\"#ed7953\"],[0.7777777777777778,\"#fb9f3a\"],[0.8888888888888888,\"#fdca26\"],[1.0,\"#f0f921\"]],\"sequentialminus\":[[0.0,\"#0d0887\"],[0.1111111111111111,\"#46039f\"],[0.2222222222222222,\"#7201a8\"],[0.3333333333333333,\"#9c179e\"],[0.4444444444444444,\"#bd3786\"],[0.5555555555555556,\"#d8576b\"],[0.6666666666666666,\"#ed7953\"],[0.7777777777777778,\"#fb9f3a\"],[0.8888888888888888,\"#fdca26\"],[1.0,\"#f0f921\"]],\"diverging\":[[0,\"#8e0152\"],[0.1,\"#c51b7d\"],[0.2,\"#de77ae\"],[0.3,\"#f1b6da\"],[0.4,\"#fde0ef\"],[0.5,\"#f7f7f7\"],[0.6,\"#e6f5d0\"],[0.7,\"#b8e186\"],[0.8,\"#7fbc41\"],[0.9,\"#4d9221\"],[1,\"#276419\"]]},\"xaxis\":{\"gridcolor\":\"white\",\"linecolor\":\"white\",\"ticks\":\"\",\"title\":{\"standoff\":15},\"zerolinecolor\":\"white\",\"automargin\":true,\"zerolinewidth\":2},\"yaxis\":{\"gridcolor\":\"white\",\"linecolor\":\"white\",\"ticks\":\"\",\"title\":{\"standoff\":15},\"zerolinecolor\":\"white\",\"automargin\":true,\"zerolinewidth\":2},\"scene\":{\"xaxis\":{\"backgroundcolor\":\"#E5ECF6\",\"gridcolor\":\"white\",\"linecolor\":\"white\",\"showbackground\":true,\"ticks\":\"\",\"zerolinecolor\":\"white\",\"gridwidth\":2},\"yaxis\":{\"backgroundcolor\":\"#E5ECF6\",\"gridcolor\":\"white\",\"linecolor\":\"white\",\"showbackground\":true,\"ticks\":\"\",\"zerolinecolor\":\"white\",\"gridwidth\":2},\"zaxis\":{\"backgroundcolor\":\"#E5ECF6\",\"gridcolor\":\"white\",\"linecolor\":\"white\",\"showbackground\":true,\"ticks\":\"\",\"zerolinecolor\":\"white\",\"gridwidth\":2}},\"shapedefaults\":{\"line\":{\"color\":\"#2a3f5f\"}},\"annotationdefaults\":{\"arrowcolor\":\"#2a3f5f\",\"arrowhead\":0,\"arrowwidth\":1},\"geo\":{\"bgcolor\":\"white\",\"landcolor\":\"#E5ECF6\",\"subunitcolor\":\"white\",\"showland\":true,\"showlakes\":true,\"lakecolor\":\"white\"},\"title\":{\"x\":0.05},\"mapbox\":{\"style\":\"light\"}}},\"geo\":{\"domain\":{\"x\":[0.0,1.0],\"y\":[0.0,1.0]},\"center\":{}},\"legend\":{\"tracegroupgap\":0},\"margin\":{\"t\":60}},                        {\"responsive\": true}                    ).then(function(){\n",
              "                            \n",
              "var gd = document.getElementById('26d16edd-b152-4140-a846-54f68046da80');\n",
              "var x = new MutationObserver(function (mutations, observer) {{\n",
              "        var display = window.getComputedStyle(gd).display;\n",
              "        if (!display || display === 'none') {{\n",
              "            console.log([gd, 'removed!']);\n",
              "            Plotly.purge(gd);\n",
              "            observer.disconnect();\n",
              "        }}\n",
              "}});\n",
              "\n",
              "// Listen for the removal of the full notebook cells\n",
              "var notebookContainer = gd.closest('#notebook-container');\n",
              "if (notebookContainer) {{\n",
              "    x.observe(notebookContainer, {childList: true});\n",
              "}}\n",
              "\n",
              "// Listen for the clearing of the current output cell\n",
              "var outputEl = gd.closest('.output');\n",
              "if (outputEl) {{\n",
              "    x.observe(outputEl, {childList: true});\n",
              "}}\n",
              "\n",
              "                        })                };                            </script>        </div>\n",
              "</body>\n",
              "</html>"
            ]
          },
          "metadata": {}
        }
      ]
    },
    {
      "cell_type": "code",
      "source": [
        "# @title\n",
        "import pandas as pd\n",
        "import seaborn as sns\n",
        "import matplotlib.pyplot as plt\n",
        "\n",
        "df = pd.read_csv(\"/content/EB_Blend.csv\")\n",
        "\n",
        "plt.figure(figsize=(10,8))\n",
        "sns.heatmap(df.corr(),annot=True,vmin=-1,vmax=1)\n",
        "plt.show()"
      ],
      "metadata": {
        "colab": {
          "base_uri": "https://localhost:8080/",
          "height": 840
        },
        "collapsed": true,
        "id": "Xep0SkTwhwFW",
        "outputId": "7054e71d-0d80-4b85-bc31-d185eb26d236"
      },
      "execution_count": null,
      "outputs": [
        {
          "output_type": "display_data",
          "data": {
            "text/plain": [
              "<Figure size 1000x800 with 2 Axes>"
            ],
            "image/png": "[encoded data removed]"
          },
          "metadata": {}
        }
      ]
    },
    {
      "cell_type": "code",
      "source": [
        "import numpy as np\n",
        "from sklearn.model_selection import train_test_split\n",
        "from sklearn.linear_model import LinearRegression\n",
        "from sklearn.metrics import mean_squared_error, r2_score\n",
        "\n",
        "x = df.drop('Cons/Ton',axis=1)\n",
        "y = df['Cons/Ton']\n",
        "\n",
        "x_train,x_test,y_train,_y_test = train_test_split(x,y, test_size=0.2, random_state=1)\n",
        "model = LinearRegression()\n",
        "model.fit(x_train,y_train)\n"
      ],
      "metadata": {
        "colab": {
          "base_uri": "https://localhost:8080/",
          "height": 80
        },
        "collapsed": true,
        "id": "Bk_nEgqi7ZDk",
        "outputId": "199df55e-aaa1-4a13-f500-28c48bcbfa23"
      },
      "execution_count": null,
      "outputs": [
        {
          "output_type": "execute_result",
          "data": {
            "text/plain": [
              "LinearRegression()"
            ],
            "text/html": [
              "<style>#sk-container-id-1 {\n",
              "  /* Definition of color scheme common for light and dark mode */\n",
              "  --sklearn-color-text: #000;\n",
              "  --sklearn-color-text-muted: #666;\n",
              "  --sklearn-color-line: gray;\n",
              "  /* Definition of color scheme for unfitted estimators */\n",
              "  --sklearn-color-unfitted-level-0: #fff5e6;\n",
              "  --sklearn-color-unfitted-level-1: #f6e4d2;\n",
              "  --sklearn-color-unfitted-level-2: #ffe0b3;\n",
              "  --sklearn-color-unfitted-level-3: chocolate;\n",
              "  /* Definition of color scheme for fitted estimators */\n",
              "  --sklearn-color-fitted-level-0: #f0f8ff;\n",
              "  --sklearn-color-fitted-level-1: #d4ebff;\n",
              "  --sklearn-color-fitted-level-2: #b3dbfd;\n",
              "  --sklearn-color-fitted-level-3: cornflowerblue;\n",
              "\n",
              "  /* Specific color for light theme */\n",
              "  --sklearn-color-text-on-default-background: var(--sg-text-color, var(--theme-code-foreground, var(--jp-content-font-color1, black)));\n",
              "  --sklearn-color-background: var(--sg-background-color, var(--theme-background, var(--jp-layout-color0, white)));\n",
              "  --sklearn-color-border-box: var(--sg-text-color, var(--theme-code-foreground, var(--jp-content-font-color1, black)));\n",
              "  --sklearn-color-icon: #696969;\n",
              "\n",
              "  @media (prefers-color-scheme: dark) {\n",
              "    /* Redefinition of color scheme for dark theme */\n",
              "    --sklearn-color-text-on-default-background: var(--sg-text-color, var(--theme-code-foreground, var(--jp-content-font-color1, white)));\n",
              "    --sklearn-color-background: var(--sg-background-color, var(--theme-background, var(--jp-layout-color0, #111)));\n",
              "    --sklearn-color-border-box: var(--sg-text-color, var(--theme-code-foreground, var(--jp-content-font-color1, white)));\n",
              "    --sklearn-color-icon: #878787;\n",
              "  }\n",
              "}\n",
              "\n",
              "#sk-container-id-1 {\n",
              "  color: var(--sklearn-color-text);\n",
              "}\n",
              "\n",
              "#sk-container-id-1 pre {\n",
              "  padding: 0;\n",
              "}\n",
              "\n",
              "#sk-container-id-1 input.sk-hidden--visually {\n",
              "  border: 0;\n",
              "  clip: rect(1px 1px 1px 1px);\n",
              "  clip: rect(1px, 1px, 1px, 1px);\n",
              "  height: 1px;\n",
              "  margin: -1px;\n",
              "  overflow: hidden;\n",
              "  padding: 0;\n",
              "  position: absolute;\n",
              "  width: 1px;\n",
              "}\n",
              "\n",
              "#sk-container-id-1 div.sk-dashed-wrapped {\n",
              "  border: 1px dashed var(--sklearn-color-line);\n",
              "  margin: 0 0.4em 0.5em 0.4em;\n",
              "  box-sizing: border-box;\n",
              "  padding-bottom: 0.4em;\n",
              "  background-color: var(--sklearn-color-background);\n",
              "}\n",
              "\n",
              "#sk-container-id-1 div.sk-container {\n",
              "  /* jupyter's `normalize.less` sets `[hidden] { display: none; }`\n",
              "     but bootstrap.min.css set `[hidden] { display: none !important; }`\n",
              "     so we also need the `!important` here to be able to override the\n",
              "     default hidden behavior on the sphinx rendered scikit-learn.org.\n",
              "     See: https://github.com/scikit-learn/scikit-learn/issues/21755 */\n",
              "  display: inline-block !important;\n",
              "  position: relative;\n",
              "}\n",
              "\n",
              "#sk-container-id-1 div.sk-text-repr-fallback {\n",
              "  display: none;\n",
              "}\n",
              "\n",
              "div.sk-parallel-item,\n",
              "div.sk-serial,\n",
              "div.sk-item {\n",
              "  /* draw centered vertical line to link estimators */\n",
              "  background-image: linear-gradient(var(--sklearn-color-text-on-default-background), var(--sklearn-color-text-on-default-background));\n",
              "  background-size: 2px 100%;\n",
              "  background-repeat: no-repeat;\n",
              "  background-position: center center;\n",
              "}\n",
              "\n",
              "/* Parallel-specific style estimator block */\n",
              "\n",
              "#sk-container-id-1 div.sk-parallel-item::after {\n",
              "  content: \"\";\n",
              "  width: 100%;\n",
              "  border-bottom: 2px solid var(--sklearn-color-text-on-default-background);\n",
              "  flex-grow: 1;\n",
              "}\n",
              "\n",
              "#sk-container-id-1 div.sk-parallel {\n",
              "  display: flex;\n",
              "  align-items: stretch;\n",
              "  justify-content: center;\n",
              "  background-color: var(--sklearn-color-background);\n",
              "  position: relative;\n",
              "}\n",
              "\n",
              "#sk-container-id-1 div.sk-parallel-item {\n",
              "  display: flex;\n",
              "  flex-direction: column;\n",
              "}\n",
              "\n",
              "#sk-container-id-1 div.sk-parallel-item:first-child::after {\n",
              "  align-self: flex-end;\n",
              "  width: 50%;\n",
              "}\n",
              "\n",
              "#sk-container-id-1 div.sk-parallel-item:last-child::after {\n",
              "  align-self: flex-start;\n",
              "  width: 50%;\n",
              "}\n",
              "\n",
              "#sk-container-id-1 div.sk-parallel-item:only-child::after {\n",
              "  width: 0;\n",
              "}\n",
              "\n",
              "/* Serial-specific style estimator block */\n",
              "\n",
              "#sk-container-id-1 div.sk-serial {\n",
              "  display: flex;\n",
              "  flex-direction: column;\n",
              "  align-items: center;\n",
              "  background-color: var(--sklearn-color-background);\n",
              "  padding-right: 1em;\n",
              "  padding-left: 1em;\n",
              "}\n",
              "\n",
              "\n",
              "/* Toggleable style: style used for estimator/Pipeline/ColumnTransformer box that is\n",
              "clickable and can be expanded/collapsed.\n",
              "- Pipeline and ColumnTransformer use this feature and define the default style\n",
              "- Estimators will overwrite some part of the style using the `sk-estimator` class\n",
              "*/\n",
              "\n",
              "/* Pipeline and ColumnTransformer style (default) */\n",
              "\n",
              "#sk-container-id-1 div.sk-toggleable {\n",
              "  /* Default theme specific background. It is overwritten whether we have a\n",
              "  specific estimator or a Pipeline/ColumnTransformer */\n",
              "  background-color: var(--sklearn-color-background);\n",
              "}\n",
              "\n",
              "/* Toggleable label */\n",
              "#sk-container-id-1 label.sk-toggleable__label {\n",
              "  cursor: pointer;\n",
              "  display: flex;\n",
              "  width: 100%;\n",
              "  margin-bottom: 0;\n",
              "  padding: 0.5em;\n",
              "  box-sizing: border-box;\n",
              "  text-align: center;\n",
              "  align-items: start;\n",
              "  justify-content: space-between;\n",
              "  gap: 0.5em;\n",
              "}\n",
              "\n",
              "#sk-container-id-1 label.sk-toggleable__label .caption {\n",
              "  font-size: 0.6rem;\n",
              "  font-weight: lighter;\n",
              "  color: var(--sklearn-color-text-muted);\n",
              "}\n",
              "\n",
              "#sk-container-id-1 label.sk-toggleable__label-arrow:before {\n",
              "  /* Arrow on the left of the label */\n",
              "  content: \"▸\";\n",
              "  float: left;\n",
              "  margin-right: 0.25em;\n",
              "  color: var(--sklearn-color-icon);\n",
              "}\n",
              "\n",
              "#sk-container-id-1 label.sk-toggleable__label-arrow:hover:before {\n",
              "  color: var(--sklearn-color-text);\n",
              "}\n",
              "\n",
              "/* Toggleable content - dropdown */\n",
              "\n",
              "#sk-container-id-1 div.sk-toggleable__content {\n",
              "  max-height: 0;\n",
              "  max-width: 0;\n",
              "  overflow: hidden;\n",
              "  text-align: left;\n",
              "  /* unfitted */\n",
              "  background-color: var(--sklearn-color-unfitted-level-0);\n",
              "}\n",
              "\n",
              "#sk-container-id-1 div.sk-toggleable__content.fitted {\n",
              "  /* fitted */\n",
              "  background-color: var(--sklearn-color-fitted-level-0);\n",
              "}\n",
              "\n",
              "#sk-container-id-1 div.sk-toggleable__content pre {\n",
              "  margin: 0.2em;\n",
              "  border-radius: 0.25em;\n",
              "  color: var(--sklearn-color-text);\n",
              "  /* unfitted */\n",
              "  background-color: var(--sklearn-color-unfitted-level-0);\n",
              "}\n",
              "\n",
              "#sk-container-id-1 div.sk-toggleable__content.fitted pre {\n",
              "  /* unfitted */\n",
              "  background-color: var(--sklearn-color-fitted-level-0);\n",
              "}\n",
              "\n",
              "#sk-container-id-1 input.sk-toggleable__control:checked~div.sk-toggleable__content {\n",
              "  /* Expand drop-down */\n",
              "  max-height: 200px;\n",
              "  max-width: 100%;\n",
              "  overflow: auto;\n",
              "}\n",
              "\n",
              "#sk-container-id-1 input.sk-toggleable__control:checked~label.sk-toggleable__label-arrow:before {\n",
              "  content: \"▾\";\n",
              "}\n",
              "\n",
              "/* Pipeline/ColumnTransformer-specific style */\n",
              "\n",
              "#sk-container-id-1 div.sk-label input.sk-toggleable__control:checked~label.sk-toggleable__label {\n",
              "  color: var(--sklearn-color-text);\n",
              "  background-color: var(--sklearn-color-unfitted-level-2);\n",
              "}\n",
              "\n",
              "#sk-container-id-1 div.sk-label.fitted input.sk-toggleable__control:checked~label.sk-toggleable__label {\n",
              "  background-color: var(--sklearn-color-fitted-level-2);\n",
              "}\n",
              "\n",
              "/* Estimator-specific style */\n",
              "\n",
              "/* Colorize estimator box */\n",
              "#sk-container-id-1 div.sk-estimator input.sk-toggleable__control:checked~label.sk-toggleable__label {\n",
              "  /* unfitted */\n",
              "  background-color: var(--sklearn-color-unfitted-level-2);\n",
              "}\n",
              "\n",
              "#sk-container-id-1 div.sk-estimator.fitted input.sk-toggleable__control:checked~label.sk-toggleable__label {\n",
              "  /* fitted */\n",
              "  background-color: var(--sklearn-color-fitted-level-2);\n",
              "}\n",
              "\n",
              "#sk-container-id-1 div.sk-label label.sk-toggleable__label,\n",
              "#sk-container-id-1 div.sk-label label {\n",
              "  /* The background is the default theme color */\n",
              "  color: var(--sklearn-color-text-on-default-background);\n",
              "}\n",
              "\n",
              "/* On hover, darken the color of the background */\n",
              "#sk-container-id-1 div.sk-label:hover label.sk-toggleable__label {\n",
              "  color: var(--sklearn-color-text);\n",
              "  background-color: var(--sklearn-color-unfitted-level-2);\n",
              "}\n",
              "\n",
              "/* Label box, darken color on hover, fitted */\n",
              "#sk-container-id-1 div.sk-label.fitted:hover label.sk-toggleable__label.fitted {\n",
              "  color: var(--sklearn-color-text);\n",
              "  background-color: var(--sklearn-color-fitted-level-2);\n",
              "}\n",
              "\n",
              "/* Estimator label */\n",
              "\n",
              "#sk-container-id-1 div.sk-label label {\n",
              "  font-family: monospace;\n",
              "  font-weight: bold;\n",
              "  display: inline-block;\n",
              "  line-height: 1.2em;\n",
              "}\n",
              "\n",
              "#sk-container-id-1 div.sk-label-container {\n",
              "  text-align: center;\n",
              "}\n",
              "\n",
              "/* Estimator-specific */\n",
              "#sk-container-id-1 div.sk-estimator {\n",
              "  font-family: monospace;\n",
              "  border: 1px dotted var(--sklearn-color-border-box);\n",
              "  border-radius: 0.25em;\n",
              "  box-sizing: border-box;\n",
              "  margin-bottom: 0.5em;\n",
              "  /* unfitted */\n",
              "  background-color: var(--sklearn-color-unfitted-level-0);\n",
              "}\n",
              "\n",
              "#sk-container-id-1 div.sk-estimator.fitted {\n",
              "  /* fitted */\n",
              "  background-color: var(--sklearn-color-fitted-level-0);\n",
              "}\n",
              "\n",
              "/* on hover */\n",
              "#sk-container-id-1 div.sk-estimator:hover {\n",
              "  /* unfitted */\n",
              "  background-color: var(--sklearn-color-unfitted-level-2);\n",
              "}\n",
              "\n",
              "#sk-container-id-1 div.sk-estimator.fitted:hover {\n",
              "  /* fitted */\n",
              "  background-color: var(--sklearn-color-fitted-level-2);\n",
              "}\n",
              "\n",
              "/* Specification for estimator info (e.g. \"i\" and \"?\") */\n",
              "\n",
              "/* Common style for \"i\" and \"?\" */\n",
              "\n",
              ".sk-estimator-doc-link,\n",
              "a:link.sk-estimator-doc-link,\n",
              "a:visited.sk-estimator-doc-link {\n",
              "  float: right;\n",
              "  font-size: smaller;\n",
              "  line-height: 1em;\n",
              "  font-family: monospace;\n",
              "  background-color: var(--sklearn-color-background);\n",
              "  border-radius: 1em;\n",
              "  height: 1em;\n",
              "  width: 1em;\n",
              "  text-decoration: none !important;\n",
              "  margin-left: 0.5em;\n",
              "  text-align: center;\n",
              "  /* unfitted */\n",
              "  border: var(--sklearn-color-unfitted-level-1) 1pt solid;\n",
              "  color: var(--sklearn-color-unfitted-level-1);\n",
              "}\n",
              "\n",
              ".sk-estimator-doc-link.fitted,\n",
              "a:link.sk-estimator-doc-link.fitted,\n",
              "a:visited.sk-estimator-doc-link.fitted {\n",
              "  /* fitted */\n",
              "  border: var(--sklearn-color-fitted-level-1) 1pt solid;\n",
              "  color: var(--sklearn-color-fitted-level-1);\n",
              "}\n",
              "\n",
              "/* On hover */\n",
              "div.sk-estimator:hover .sk-estimator-doc-link:hover,\n",
              ".sk-estimator-doc-link:hover,\n",
              "div.sk-label-container:hover .sk-estimator-doc-link:hover,\n",
              ".sk-estimator-doc-link:hover {\n",
              "  /* unfitted */\n",
              "  background-color: var(--sklearn-color-unfitted-level-3);\n",
              "  color: var(--sklearn-color-background);\n",
              "  text-decoration: none;\n",
              "}\n",
              "\n",
              "div.sk-estimator.fitted:hover .sk-estimator-doc-link.fitted:hover,\n",
              ".sk-estimator-doc-link.fitted:hover,\n",
              "div.sk-label-container:hover .sk-estimator-doc-link.fitted:hover,\n",
              ".sk-estimator-doc-link.fitted:hover {\n",
              "  /* fitted */\n",
              "  background-color: var(--sklearn-color-fitted-level-3);\n",
              "  color: var(--sklearn-color-background);\n",
              "  text-decoration: none;\n",
              "}\n",
              "\n",
              "/* Span, style for the box shown on hovering the info icon */\n",
              ".sk-estimator-doc-link span {\n",
              "  display: none;\n",
              "  z-index: 9999;\n",
              "  position: relative;\n",
              "  font-weight: normal;\n",
              "  right: .2ex;\n",
              "  padding: .5ex;\n",
              "  margin: .5ex;\n",
              "  width: min-content;\n",
              "  min-width: 20ex;\n",
              "  max-width: 50ex;\n",
              "  color: var(--sklearn-color-text);\n",
              "  box-shadow: 2pt 2pt 4pt #999;\n",
              "  /* unfitted */\n",
              "  background: var(--sklearn-color-unfitted-level-0);\n",
              "  border: .5pt solid var(--sklearn-color-unfitted-level-3);\n",
              "}\n",
              "\n",
              ".sk-estimator-doc-link.fitted span {\n",
              "  /* fitted */\n",
              "  background: var(--sklearn-color-fitted-level-0);\n",
              "  border: var(--sklearn-color-fitted-level-3);\n",
              "}\n",
              "\n",
              ".sk-estimator-doc-link:hover span {\n",
              "  display: block;\n",
              "}\n",
              "\n",
              "/* \"?\"-specific style due to the `<a>` HTML tag */\n",
              "\n",
              "#sk-container-id-1 a.estimator_doc_link {\n",
              "  float: right;\n",
              "  font-size: 1rem;\n",
              "  line-height: 1em;\n",
              "  font-family: monospace;\n",
              "  background-color: var(--sklearn-color-background);\n",
              "  border-radius: 1rem;\n",
              "  height: 1rem;\n",
              "  width: 1rem;\n",
              "  text-decoration: none;\n",
              "  /* unfitted */\n",
              "  color: var(--sklearn-color-unfitted-level-1);\n",
              "  border: var(--sklearn-color-unfitted-level-1) 1pt solid;\n",
              "}\n",
              "\n",
              "#sk-container-id-1 a.estimator_doc_link.fitted {\n",
              "  /* fitted */\n",
              "  border: var(--sklearn-color-fitted-level-1) 1pt solid;\n",
              "  color: var(--sklearn-color-fitted-level-1);\n",
              "}\n",
              "\n",
              "/* On hover */\n",
              "#sk-container-id-1 a.estimator_doc_link:hover {\n",
              "  /* unfitted */\n",
              "  background-color: var(--sklearn-color-unfitted-level-3);\n",
              "  color: var(--sklearn-color-background);\n",
              "  text-decoration: none;\n",
              "}\n",
              "\n",
              "#sk-container-id-1 a.estimator_doc_link.fitted:hover {\n",
              "  /* fitted */\n",
              "  background-color: var(--sklearn-color-fitted-level-3);\n",
              "}\n",
              "</style><div id=\"sk-container-id-1\" class=\"sk-top-container\"><div class=\"sk-text-repr-fallback\"><pre>LinearRegression()</pre><b>In a Jupyter environment, please rerun this cell to show the HTML representation or trust the notebook. <br />On GitHub, the HTML representation is unable to render, please try loading this page with nbviewer.org.</b></div><div class=\"sk-container\" hidden><div class=\"sk-item\"><div class=\"sk-estimator fitted sk-toggleable\"><input class=\"sk-toggleable__control sk-hidden--visually\" id=\"sk-estimator-id-1\" type=\"checkbox\" checked><label for=\"sk-estimator-id-1\" class=\"sk-toggleable__label fitted sk-toggleable__label-arrow\"><div><div>LinearRegression</div></div><div><a class=\"sk-estimator-doc-link fitted\" rel=\"noreferrer\" target=\"_blank\" href=\"https://scikit-learn.org/1.6/modules/generated/sklearn.linear_model.LinearRegression.html\">?<span>Documentation for LinearRegression</span></a><span class=\"sk-estimator-doc-link fitted\">i<span>Fitted</span></span></div></label><div class=\"sk-toggleable__content fitted\"><pre>LinearRegression()</pre></div> </div></div></div></div>"
            ]
          },
          "metadata": {},
          "execution_count": 47
        }
      ]
    },
    {
      "cell_type": "code",
      "source": [
        "model.score(x_test,y_test)"
      ],
      "metadata": {
        "colab": {
          "base_uri": "https://localhost:8080/"
        },
        "id": "yxZdMUqlHh-I",
        "outputId": "ef6fb8ae-e1b3-4c6d-be6c-9d83f7826e85"
      },
      "execution_count": null,
      "outputs": [
        {
          "output_type": "execute_result",
          "data": {
            "text/plain": [
              "0.9167564768481944"
            ]
          },
          "metadata": {},
          "execution_count": 48
        }
      ]
    },
    {
      "cell_type": "code",
      "source": [
        "from collections import Counter\n",
        "n = 4\n",
        "arr = [1, 3, 3, 2]\n",
        "freq = Counter(arr)\n",
        "sorted_arr = sorted(freq.items(), key=lambda x: (x[1], x[0]))\n",
        "\n",
        "for num, freq in sorted_arr:\n",
        "    print(num, end=' ')"
      ],
      "metadata": {
        "colab": {
          "base_uri": "https://localhost:8080/"
        },
        "id": "devQg24j1rAX",
        "outputId": "21f6636b-e581-40d0-fd9b-1a140b877e60"
      },
      "execution_count": null,
      "outputs": [
        {
          "output_type": "stream",
          "name": "stdout",
          "text": [
            "1 2 3 "
          ]
        }
      ]
    },
    {
      "cell_type": "code",
      "source": [
        "sorted_arr"
      ],
      "metadata": {
        "colab": {
          "base_uri": "https://localhost:8080/"
        },
        "id": "u73rNegd3R83",
        "outputId": "b8b0deb9-ad7b-47c9-de5a-8c8bfd074267"
      },
      "execution_count": null,
      "outputs": [
        {
          "output_type": "execute_result",
          "data": {
            "text/plain": [
              "[(2, 1), (3, 1), (1, 2)]"
            ]
          },
          "metadata": {},
          "execution_count": 10
        }
      ]
    },
    {
      "cell_type": "code",
      "source": [
        "n = int(input())\n",
        "numbers = list(map(int, input().split()))\n",
        "frequency = {}\n",
        "result = []\n",
        "for i in numbers:\n",
        "    if i in frequency:\n",
        "        frequency[i] += 1\n",
        "    else:\n",
        "        frequency[i] = 1\n",
        "\n",
        "sorted_freq = sorted(frequency.items(), key=lambda x: (x[1], x[0]))\n",
        "\n",
        "for num, freq in sorted_freq:\n",
        "    result.append(num)\n",
        "\n",
        "print(' '.join(map(str, result)))\n"
      ],
      "metadata": {
        "colab": {
          "base_uri": "https://localhost:8080/"
        },
        "id": "I-SB8In56fpI",
        "outputId": "e648b9de-f9c4-4b00-f20c-cf7520050df4"
      },
      "execution_count": null,
      "outputs": [
        {
          "output_type": "stream",
          "name": "stdout",
          "text": [
            "4\n",
            "1 1 3 2\n",
            "2 3 1\n"
          ]
        }
      ]
    },
    {
      "cell_type": "code",
      "source": [
        "n = int(input())\n",
        "data = list(map(str, input().split()))\n",
        "name = []\n",
        "salary = []\n",
        "for i in data:\n",
        "  if i.isalpha():\n",
        "    name.append(i)\n",
        "  else:\n",
        "    salary.append(int(i))\n",
        "\n",
        "employees = dict(zip(name, salary))\n",
        "print(employees)\n",
        "\n",
        "sort_emp = sorted(employees.items(), key=lambda x: x[1])\n",
        "for k in sort_emp:\n",
        "  print(k[0])"
      ],
      "metadata": {
        "colab": {
          "base_uri": "https://localhost:8080/"
        },
        "id": "h642epXYjUdf",
        "outputId": "9f0f578d-9e2c-4681-be31-44d3b6633669"
      },
      "execution_count": null,
      "outputs": [
        {
          "output_type": "stream",
          "name": "stdout",
          "text": [
            "4\n",
            "Karthik 23000 rohan 81734 varshini 12343\n",
            "{'Karthik': 23000, 'rohan': 81734, 'varshini': 12343}\n",
            "varshini\n",
            "Karthik\n",
            "rohan\n"
          ]
        }
      ]
    },
    {
      "cell_type": "code",
      "source": [
        "n = int(input())\n",
        "numbers = list(map(int, input().split()))\n",
        "answer = []\n",
        "last_three_numbers = sum(numbers[-3:])\n",
        "print(last_three_numbers)\n",
        "for i in numbers:\n",
        "  answer.append(int(i) - last_three_numbers)\n",
        "print(' '.join(map(str, answer)))\n"
      ],
      "metadata": {
        "colab": {
          "base_uri": "https://localhost:8080/"
        },
        "id": "op6ljkfBpLTb",
        "outputId": "6a648f8f-93d0-4617-a733-0da422428a8d"
      },
      "execution_count": null,
      "outputs": [
        {
          "output_type": "stream",
          "name": "stdout",
          "text": [
            "5\n",
            "95 85 75 12 11\n",
            "98\n",
            "-3 -13 -23 -86 -87\n"
          ]
        }
      ]
    },
    {
      "cell_type": "markdown",
      "source": [
        "# New Section"
      ],
      "metadata": {
        "id": "_oenmIgs8B5x"
      }
    },
    {
      "cell_type": "code",
      "source": [
        "n, w = map(int, input().split())\n",
        "numbers = list(map(int, input().split()))\n",
        "for i in range(len(numbers)):\n",
        "  numbers[i:i+w]"
      ],
      "metadata": {
        "colab": {
          "base_uri": "https://localhost:8080/"
        },
        "id": "6pP9Wd3luiJL",
        "outputId": "7f6faa7c-3f9a-4d1b-bc82-45063b95ed71"
      },
      "execution_count": null,
      "outputs": [
        {
          "output_type": "stream",
          "name": "stdout",
          "text": [
            "7 2\n",
            "7\n",
            "2\n"
          ]
        }
      ]
    },
    {
      "cell_type": "code",
      "source": [
        "s = 'hello'\n",
        "length = len(s)\n",
        "print(length)\n",
        "mid = length // 2\n",
        "mid_tex = s[mid]\n",
        "s.replace(mid_tex, '*')"
      ],
      "metadata": {
        "colab": {
          "base_uri": "https://localhost:8080/",
          "height": 53
        },
        "id": "zFm4d0aOvnFb",
        "outputId": "ac49bb65-69c1-40fe-8afe-c5d78e83f0ed"
      },
      "execution_count": null,
      "outputs": [
        {
          "output_type": "stream",
          "name": "stdout",
          "text": [
            "5\n"
          ]
        },
        {
          "output_type": "execute_result",
          "data": {
            "text/plain": [
              "'he**o'"
            ],
            "application/vnd.google.colaboratory.intrinsic+json": {
              "type": "string"
            }
          },
          "metadata": {},
          "execution_count": 86
        }
      ]
    },
    {
      "cell_type": "code",
      "source": [
        "N = list(map(int, input().split()))\n",
        "N[:1]\n",
        "N"
      ],
      "metadata": {
        "colab": {
          "base_uri": "https://localhost:8080/"
        },
        "id": "83EkKZ30phbc",
        "outputId": "edab4e4b-4544-46fd-fceb-792e29ace4b3"
      },
      "execution_count": null,
      "outputs": [
        {
          "name": "stdout",
          "output_type": "stream",
          "text": [
            "10\n"
          ]
        },
        {
          "output_type": "execute_result",
          "data": {
            "text/plain": [
              "[10]"
            ]
          },
          "metadata": {},
          "execution_count": 6
        }
      ]
    },
    {
      "cell_type": "code",
      "source": [
        "number = int(input())\n",
        "arr  = list(map(int, input().split()))\n",
        "last_three = sum(arr[-3:])\n",
        "first_three = sum(arr[:3])\n",
        "if last_three == first_three:\n",
        "  print(1)\n",
        "else:\n",
        "  print(0)"
      ],
      "metadata": {
        "colab": {
          "base_uri": "https://localhost:8080/"
        },
        "id": "hqzZ16-Vvn0l",
        "outputId": "8e4dcb88-4b21-46c5-dad3-b37ef0b87640"
      },
      "execution_count": null,
      "outputs": [
        {
          "output_type": "stream",
          "name": "stdout",
          "text": [
            "7\n",
            "1 2 3 4 6 0 0\n",
            "1\n"
          ]
        }
      ]
    },
    {
      "cell_type": "code",
      "source": [
        "N = int(input())\n",
        "arr = list(map(int, input().split()))\n",
        "total = 0\n",
        "for i in arr:\n",
        "    if i < 0:\n",
        "        total += i\n",
        "    else:\n",
        "        total += 0\n",
        "\n",
        "print(total)"
      ],
      "metadata": {
        "colab": {
          "base_uri": "https://localhost:8080/"
        },
        "id": "ccOBC3Fh1O7x",
        "outputId": "757bdb51-6455-4c95-e693-74afb3b4b7d3"
      },
      "execution_count": null,
      "outputs": [
        {
          "output_type": "stream",
          "name": "stdout",
          "text": [
            "3\n",
            "1 -1\n",
            "-1\n"
          ]
        }
      ]
    },
    {
      "cell_type": "code",
      "source": [
        "N = float(input())\n",
        "rounded = round(N)\n",
        "rounded"
      ],
      "metadata": {
        "colab": {
          "base_uri": "https://localhost:8080/"
        },
        "id": "pMnRk_Ej17gs",
        "outputId": "e268582a-c3bb-45ff-ff9e-8830cdeb6d31"
      },
      "execution_count": null,
      "outputs": [
        {
          "name": "stdout",
          "output_type": "stream",
          "text": [
            "1.1\n"
          ]
        },
        {
          "output_type": "execute_result",
          "data": {
            "text/plain": [
              "1"
            ]
          },
          "metadata": {},
          "execution_count": 27
        }
      ]
    },
    {
      "cell_type": "code",
      "source": [
        "L , B = list(map(float, input().split()))\n",
        "area = L*B\n",
        "area"
      ],
      "metadata": {
        "colab": {
          "base_uri": "https://localhost:8080/"
        },
        "id": "zNcZZDAd4kDR",
        "outputId": "53f96a7d-e61d-4b40-e471-b59cb4b1b38e"
      },
      "execution_count": null,
      "outputs": [
        {
          "name": "stdout",
          "output_type": "stream",
          "text": [
            "2.5432 6.7654\n"
          ]
        },
        {
          "output_type": "execute_result",
          "data": {
            "text/plain": [
              "17.20576528"
            ]
          },
          "metadata": {},
          "execution_count": 36
        }
      ]
    },
    {
      "cell_type": "code",
      "source": [
        "L, B = map(float, input().split())\n",
        "area = L * B\n",
        "area_str = str(area)\n",
        "decimal_places = area_str.split('.')[1]\n",
        "print(area_str.split('.')[0] + '.' + decimal_places[:5])"
      ],
      "metadata": {
        "colab": {
          "base_uri": "https://localhost:8080/"
        },
        "id": "6GOYh5mo7VeN",
        "outputId": "354599d3-fb7e-4576-9d86-5858189c0759"
      },
      "execution_count": null,
      "outputs": [
        {
          "output_type": "stream",
          "name": "stdout",
          "text": [
            "2.5432 6.7654\n",
            "17.20576\n"
          ]
        }
      ]
    },
    {
      "cell_type": "code",
      "source": [
        "S = input()\n",
        "even = S[::2]\n",
        "odd = S[1::2]\n",
        "result = []\n",
        "for e, o in zip(odd, even):\n",
        "  result.append(e)\n",
        "  result.append(o)\n",
        "print(''.join(map(str, result)))"
      ],
      "metadata": {
        "colab": {
          "base_uri": "https://localhost:8080/"
        },
        "id": "6Gt-dk-wKKfL",
        "outputId": "85586e89-24f1-438a-e34e-1579a52c7bcd"
      },
      "execution_count": null,
      "outputs": [
        {
          "output_type": "stream",
          "name": "stdout",
          "text": [
            "codekata\n",
            "ocedakat\n"
          ]
        }
      ]
    },
    {
      "cell_type": "code",
      "source": [
        "N = int(48)\n",
        "result = (N**48)\n",
        "print(result)"
      ],
      "metadata": {
        "colab": {
          "base_uri": "https://localhost:8080/"
        },
        "id": "AuUW_4-iTOtp",
        "outputId": "6a2400d7-f805-466a-dd2b-a5a901ea547a"
      },
      "execution_count": null,
      "outputs": [
        {
          "output_type": "stream",
          "name": "stdout",
          "text": [
            "500702078263459319174537025249570888246709955377400223021257741084821677152403456\n"
          ]
        }
      ]
    },
    {
      "cell_type": "code",
      "source": [
        "player1, player2 = list(map(str, input().split()))\n",
        "if player1 == \"R\" and player2 == \"S\":\n",
        "  print(player1)\n",
        "elif player1 == \"S\" and player2 == \"P\":\n",
        "  print(player1)\n",
        "elif player1 == \"P\" and player2 == \"R\":\n",
        "  print(player1)\n",
        "else:\n",
        "  print(\"D\")"
      ],
      "metadata": {
        "colab": {
          "base_uri": "https://localhost:8080/"
        },
        "id": "mpNru_itTn_9",
        "outputId": "88713d72-88a1-489f-fa80-e67b83f2374a"
      },
      "execution_count": null,
      "outputs": [
        {
          "output_type": "stream",
          "name": "stdout",
          "text": [
            "R R\n",
            "D\n"
          ]
        }
      ]
    },
    {
      "cell_type": "markdown",
      "source": [
        "# **Caesar Cipher Technique**"
      ],
      "metadata": {
        "id": "pD1moL7H0chP"
      }
    },
    {
      "cell_type": "code",
      "source": [
        "S, number = list(map(str, input().split()))\n",
        "N = int(number)\n",
        "words = [i for i in S]\n",
        "my_list = []\n",
        "end = words[:N:1]\n",
        "start = words[N::1]\n",
        "my_list.extend(start)\n",
        "my_list.extend(end)\n",
        "increase = 0\n",
        "for i in words:\n",
        "  if i.isupper():\n",
        "    to_upper = my_list[increase]\n",
        "    my_list[increase] = to_upper.upper()\n",
        "  else:\n",
        "    to_lower = my_list[increase]\n",
        "    my_list[increase] = to_lower.lower()\n",
        "  increase += 1\n",
        "print(''.join(map(str, my_list)))"
      ],
      "metadata": {
        "id": "z22FMW_L0af7",
        "colab": {
          "base_uri": "https://localhost:8080/"
        },
        "outputId": "c9b9b4a9-a6aa-4d67-bb4e-83e5ea426ea9"
      },
      "execution_count": null,
      "outputs": [
        {
          "output_type": "stream",
          "name": "stdout",
          "text": [
            "ABCdEFGHIJKLMNOPQRSTUVWXYz 23\n",
            "XYZaBCDEFGHIJKLMNOPQRSTUVw\n"
          ]
        }
      ]
    },
    {
      "cell_type": "code",
      "source": [
        "words"
      ],
      "metadata": {
        "colab": {
          "base_uri": "https://localhost:8080/"
        },
        "id": "C3FX-MN5YxVy",
        "outputId": "5f9c3b09-fa29-44e4-bb38-20ad658d2326"
      },
      "execution_count": null,
      "outputs": [
        {
          "output_type": "execute_result",
          "data": {
            "text/plain": [
              "['A',\n",
              " 'B',\n",
              " 'C',\n",
              " 'd',\n",
              " 'E',\n",
              " 'F',\n",
              " 'G',\n",
              " 'H',\n",
              " 'I',\n",
              " 'J',\n",
              " 'K',\n",
              " 'L',\n",
              " 'M',\n",
              " 'N',\n",
              " 'O',\n",
              " 'P',\n",
              " 'Q',\n",
              " 'R',\n",
              " 'S',\n",
              " 'T',\n",
              " 'U',\n",
              " 'V',\n",
              " 'W',\n",
              " 'X',\n",
              " 'Y',\n",
              " 'z']"
            ]
          },
          "metadata": {},
          "execution_count": 17
        }
      ]
    },
    {
      "cell_type": "code",
      "source": [
        "letters = ['A','B','C','D','E','F','G','H','I','J','K','L','M','N','O','P','Q','R','S','T','U','V','W','X','Y','Z']\n",
        "S, number = list(map(str, input().split()))\n",
        "N = int(number)\n",
        "words = [i for i in S]\n",
        "my_list = []\n",
        "for char in words:\n",
        "    if char.isalpha():\n",
        "        index = letters.index(char.upper())\n",
        "        new_index = (index + N) % 26\n",
        "        if char.isupper():\n",
        "            my_list.append(letters[new_index])\n",
        "        else:\n",
        "            my_list.append(letters[new_index].lower())\n",
        "    else:\n",
        "        my_list.append(char)\n",
        "\n",
        "print(''.join(my_list))"
      ],
      "metadata": {
        "colab": {
          "base_uri": "https://localhost:8080/"
        },
        "id": "vrLnrAdfXkK4",
        "outputId": "fcb9c841-9639-44a6-fd76-258be19f37a4"
      },
      "execution_count": null,
      "outputs": [
        {
          "output_type": "stream",
          "name": "stdout",
          "text": [
            "ABCdEFGHIJKLMNOPQRSTUVWXYz 23\n",
            "XYZaBCDEFGHIJKLMNOPQRSTUVw\n"
          ]
        }
      ]
    },
    {
      "cell_type": "markdown",
      "source": [
        "# Adjacent Elements"
      ],
      "metadata": {
        "id": "kPuodumm8qq3"
      }
    },
    {
      "cell_type": "code",
      "source": [
        "N = int(input())\n",
        "arr = list(map(int, input().split()))\n",
        "\n",
        "for i in range(0, N-1, 2):\n",
        "  arr[i] , arr[i+1] = arr[i+1], arr[i]\n",
        "print(' '.join(map(str, arr)))\n"
      ],
      "metadata": {
        "id": "edTJ7Lhv8pT8",
        "colab": {
          "base_uri": "https://localhost:8080/"
        },
        "outputId": "3ecc7032-16ad-4b0c-acd9-de6a892f89ff"
      },
      "execution_count": null,
      "outputs": [
        {
          "output_type": "stream",
          "name": "stdout",
          "text": [
            "5\n",
            "3 2 1 2 3\n",
            "2 3 2 1 3\n"
          ]
        }
      ]
    },
    {
      "cell_type": "markdown",
      "source": [
        "# Convert Middle elements to '*' in string"
      ],
      "metadata": {
        "id": "Flb8RWBujk-c"
      }
    },
    {
      "cell_type": "code",
      "source": [
        "from os import replace\n",
        "S = list(map(str, input().split()))\n",
        "len_word = len(S)\n",
        "mid_word = len_word // 2\n",
        "S[mid_word] = '*'\n",
        "print(''.join(map(str, replace_word)))"
      ],
      "metadata": {
        "colab": {
          "base_uri": "https://localhost:8080/"
        },
        "id": "BNq9NFBjjvn2",
        "outputId": "ce725be1-1940-48cf-df86-ff3cd91b46e7"
      },
      "execution_count": null,
      "outputs": [
        {
          "output_type": "stream",
          "name": "stdout",
          "text": [
            "hello\n",
            "*\n"
          ]
        }
      ]
    },
    {
      "cell_type": "code",
      "source": [
        "S = input()\n",
        "len_word = len(S)\n",
        "mid_word = len_word // 2\n",
        "\n",
        "# Convert the string to a list (which is mutable)\n",
        "S_list = list(S)\n",
        "\n",
        "# Replace the middle character with '*'\n",
        "if len_word % 2 == 0:\n",
        "  S_list[mid_word], S_list[mid_word-1] = '**'\n",
        "else:\n",
        "  S_list[mid_word] = '*'\n",
        "\n",
        "# Join the list back into a string\n",
        "S = ''.join(S_list)\n",
        "\n",
        "print(S)"
      ],
      "metadata": {
        "colab": {
          "base_uri": "https://localhost:8080/"
        },
        "id": "9lrlxfXhrpI3",
        "outputId": "243f9eb2-64f8-4b47-a8d0-b5669eef06ee"
      },
      "execution_count": null,
      "outputs": [
        {
          "output_type": "stream",
          "name": "stdout",
          "text": [
            "helllo\n",
            "he**lo\n"
          ]
        }
      ]
    },
    {
      "cell_type": "code",
      "source": [
        "mapping = {\")\": \"(\", \"}\": \"{\", \"]\": \"[\"}\n",
        "S = input()\n",
        "dict = {}\n",
        "for i in S:\n",
        "  if i in dict:\n",
        "    dict[i] += 1\n",
        "  else:\n",
        "    dict[i] = 1\n",
        "print(dict)"
      ],
      "metadata": {
        "colab": {
          "base_uri": "https://localhost:8080/"
        },
        "id": "N8P-jE1qCYBG",
        "outputId": "bda830bf-c724-4361-eebe-3414453e8c9d"
      },
      "execution_count": null,
      "outputs": [
        {
          "output_type": "stream",
          "name": "stdout",
          "text": [
            "{({})}\n",
            "{'{': 2, '(': 1, '}': 2, ')': 1}\n"
          ]
        }
      ]
    },
    {
      "cell_type": "code",
      "source": [
        "my_list = list(mapping.items())\n",
        "my_list"
      ],
      "metadata": {
        "colab": {
          "base_uri": "https://localhost:8080/"
        },
        "id": "WIKjnXiEKNDJ",
        "outputId": "8598fa8a-e17a-4cf4-a0a3-a702d6e9a3a8"
      },
      "execution_count": null,
      "outputs": [
        {
          "output_type": "execute_result",
          "data": {
            "text/plain": [
              "[(')', '('), ('}', '{'), (']', '[')]"
            ]
          },
          "metadata": {},
          "execution_count": 18
        }
      ]
    },
    {
      "cell_type": "code",
      "source": [
        "for j in my_list:\n",
        "  print(j)"
      ],
      "metadata": {
        "colab": {
          "base_uri": "https://localhost:8080/"
        },
        "id": "8b2UZd6MMk3G",
        "outputId": "60aa1aac-60b0-40f5-f2aa-2a208532e0d8"
      },
      "execution_count": null,
      "outputs": [
        {
          "output_type": "stream",
          "name": "stdout",
          "text": [
            "(')', '(')\n",
            "('}', '{')\n",
            "(']', '[')\n"
          ]
        }
      ]
    },
    {
      "cell_type": "code",
      "source": [
        "def is_balanced(s):\n",
        "    stack = []\n",
        "    mapping = {\")\": \"(\", \"}\": \"{\", \"]\": \"[\"}\n",
        "\n",
        "    for char in s:\n",
        "        if char in mapping.values():\n",
        "            stack.append(char)\n",
        "        elif char in mapping.keys():\n",
        "            if not stack or mapping[char] != stack.pop():\n",
        "                return 0\n",
        "\n",
        "    return 1 if not stack else 0\n",
        "\n",
        "s = input()\n",
        "print(is_balanced(s))"
      ],
      "metadata": {
        "colab": {
          "base_uri": "https://localhost:8080/"
        },
        "id": "gSEgOH5oNRkA",
        "outputId": "c59af711-b760-45b0-840a-da6139d88086"
      },
      "execution_count": null,
      "outputs": [
        {
          "output_type": "stream",
          "name": "stdout",
          "text": [
            "{\")\": \"(\", \"}\": \"{\", \"]\": \"[\"}\n",
            "0\n"
          ]
        }
      ]
    },
    {
      "cell_type": "code",
      "source": [
        "def beautiful(s):\n",
        "    if len(s) == 3:\n",
        "       for i in range(len(s)-1):\n",
        "          if s[i] != s[i+1]:\n",
        "              return 1\n",
        "          else:\n",
        "              return 0\n",
        "    else:\n",
        "        return 0\n",
        "\n",
        "s = input()\n",
        "s_list = list(s)\n",
        "print(beautiful(s_list))"
      ],
      "metadata": {
        "colab": {
          "base_uri": "https://localhost:8080/"
        },
        "id": "hfz17V4pQ3KV",
        "outputId": "6413636c-8c76-4f02-9359-efc4bc6aef8e"
      },
      "execution_count": null,
      "outputs": [
        {
          "output_type": "stream",
          "name": "stdout",
          "text": [
            "Aab\n",
            "1\n"
          ]
        }
      ]
    },
    {
      "cell_type": "code",
      "source": [
        "vowels = ['a', 'A', 'e', 'E', 'i', 'I', 'o', 'O', 'u', 'U']\n",
        "S = input()\n",
        "s_list = list(S)\n",
        "for i in S:\n",
        "    if i in vowels:\n",
        "        s_list.remove(i)\n",
        "reversed_string = s_list[::-1]\n",
        "print(''.join(map(str, reversed_string)))\n"
      ],
      "metadata": {
        "colab": {
          "base_uri": "https://localhost:8080/"
        },
        "id": "YZTbYrmJVCej",
        "outputId": "4fc23790-0638-4a5f-f228-53e05c8e3463"
      },
      "execution_count": null,
      "outputs": [
        {
          "output_type": "stream",
          "name": "stdout",
          "text": [
            "codekata\n",
            "tkdc\n"
          ]
        }
      ]
    },
    {
      "cell_type": "code",
      "source": [
        "N = int(input())\n",
        "arr = list(map(int, input().split()))\n",
        "for i in range(N):\n",
        "    list(map(str, input().split()))"
      ],
      "metadata": {
        "colab": {
          "base_uri": "https://localhost:8080/"
        },
        "id": "W8HahP-QX5v2",
        "outputId": "dd2eee32-a42c-4c66-f8fe-9554b2943901"
      },
      "execution_count": null,
      "outputs": [
        {
          "name": "stdout",
          "output_type": "stream",
          "text": [
            "3\n",
            "sss\n",
            "sss\n"
          ]
        }
      ]
    },
    {
      "cell_type": "code",
      "source": [
        "number = int(input())\n",
        "print(oct(number)[::-1])"
      ],
      "metadata": {
        "colab": {
          "base_uri": "https://localhost:8080/"
        },
        "id": "98sDTmOwadiC",
        "outputId": "eedf7988-96da-4e6b-913f-480e0ef79fb5"
      },
      "execution_count": null,
      "outputs": [
        {
          "output_type": "stream",
          "name": "stdout",
          "text": [
            "1100100\n",
            "4054414o0\n"
          ]
        }
      ]
    },
    {
      "cell_type": "code",
      "source": [
        "S = list(map(str, input().split()))\n",
        "X = input()\n",
        "\n",
        "\n",
        "if X in S:\n",
        "  S.remove(X)\n",
        "  print(''.join(map(str, S)))\n",
        "else:\n",
        "  print(''.join(map(str, S)))\n"
      ],
      "metadata": {
        "colab": {
          "base_uri": "https://localhost:8080/"
        },
        "id": "yb3YJ-pOdG4m",
        "outputId": "4d3540c0-8215-41b8-9853-85026dba9537"
      },
      "execution_count": null,
      "outputs": [
        {
          "output_type": "stream",
          "name": "stdout",
          "text": [
            "Happy Birthday\n",
            "Happy\n",
            "Birthday\n"
          ]
        }
      ]
    },
    {
      "cell_type": "code",
      "source": [
        "s, number = list(map(str, input().split()))\n",
        "new_number = int(number)-1\n",
        "reversed_string = s[new_number::new_number+1]\n",
        "print(' '.join(map(str, reversed_string)))"
      ],
      "metadata": {
        "colab": {
          "base_uri": "https://localhost:8080/"
        },
        "id": "yb3RF_bzfWjN",
        "outputId": "00b03a5f-0846-43d2-cdf2-a91f75312263"
      },
      "execution_count": null,
      "outputs": [
        {
          "output_type": "stream",
          "name": "stdout",
          "text": [
            "string 3\n",
            "r g\n"
          ]
        }
      ]
    },
    {
      "cell_type": "code",
      "source": [
        "N, X = list(map(int, input().split()))\n",
        "waiting_time = ((N-1)*X)\n",
        "print(waiting_time)"
      ],
      "metadata": {
        "colab": {
          "base_uri": "https://localhost:8080/"
        },
        "id": "tMF6ODMXkX9T",
        "outputId": "197d8021-39ee-45a9-fdd5-93086e790fb0"
      },
      "execution_count": null,
      "outputs": [
        {
          "output_type": "stream",
          "name": "stdout",
          "text": [
            "4 5\n",
            "15\n"
          ]
        }
      ]
    },
    {
      "cell_type": "code",
      "source": [
        "n = int(input())\n",
        "numbers = list(map(int, input().split()))\n",
        "my_dict = {}\n",
        "for i in numbers:\n",
        "    if i in my_dict:\n",
        "        my_dict[i] += 1\n",
        "    else:\n",
        "        my_dict[i] = 1\n",
        "numbers_count = [i for i, count in my_dict.items() if count > 1]\n",
        "print(numbers_count[0])"
      ],
      "metadata": {
        "colab": {
          "base_uri": "https://localhost:8080/"
        },
        "id": "IlzZzJ4g0RU3",
        "outputId": "8fdf14e2-572d-45dd-beb1-028708e1686f"
      },
      "execution_count": null,
      "outputs": [
        {
          "output_type": "stream",
          "name": "stdout",
          "text": [
            "7\n",
            "1 2 3 4 4 4 5\n",
            "4\n"
          ]
        }
      ]
    },
    {
      "cell_type": "code",
      "source": [
        "n, k = list(map(int, input().split()))\n",
        "numbers = list(map(int, input().split()))\n",
        "if k in numbers:\n",
        "  result = numbers.index(k)\n",
        "elif k not in numbers:\n",
        "\n",
        "else:\n",
        "  print(-1)\n",
        "print(result)"
      ],
      "metadata": {
        "colab": {
          "base_uri": "https://localhost:8080/"
        },
        "id": "xHx2dARm22vu",
        "outputId": "028ed3da-e359-443d-d9df-07704fc30a19"
      },
      "execution_count": null,
      "outputs": [
        {
          "output_type": "stream",
          "name": "stdout",
          "text": [
            "7 3\n",
            "1 2 3 4 5 6 7\n",
            "2\n"
          ]
        }
      ]
    },
    {
      "cell_type": "code",
      "source": [
        "s = list(map(str, input().split()))\n",
        "if len(s) > 2:\n",
        "  first_word = s[:1]\n",
        "  last_word = s[-1:]\n",
        "  mid_word = s[1:-1]\n",
        "  print(first_word, last_word, mid_word)\n",
        "  result = []\n",
        "  s_mid = ' '.join(map(str, mid_word))\n",
        "  for i in s_mid:\n",
        "    reversed_string = s_mid[::-1]\n",
        "  result.append(reversed_string)\n",
        "  print(result)\n",
        "  print(' '.join(map(str, first_word + result + last_word)))\n",
        "else:\n",
        "  print(' '.join(map(str, s)))\n"
      ],
      "metadata": {
        "colab": {
          "base_uri": "https://localhost:8080/"
        },
        "id": "KdNaiZby-Rzk",
        "outputId": "0855ed9c-754c-4bbe-8e84-9bc5a6a4f003"
      },
      "execution_count": null,
      "outputs": [
        {
          "output_type": "stream",
          "name": "stdout",
          "text": [
            "hello world\n",
            "hello world\n"
          ]
        }
      ]
    },
    {
      "cell_type": "code",
      "source": [
        "def reverse_middle_words(s):\n",
        "    words = s.split()\n",
        "    reversed_words = [words[0]] + [word[::-1] for word in words[1:-1]] + [words[-1]]\n",
        "    return ' '.join(reversed_words)\n",
        "\n",
        "s = input()\n",
        "print(reverse_middle_words(s))"
      ],
      "metadata": {
        "colab": {
          "base_uri": "https://localhost:8080/"
        },
        "id": "cqMA6-Tnuqig",
        "outputId": "533bdf26-08dc-4fe1-ba5e-82208d6b27c9"
      },
      "execution_count": null,
      "outputs": [
        {
          "output_type": "stream",
          "name": "stdout",
          "text": [
            "hello world\n",
            "hello world\n"
          ]
        }
      ]
    },
    {
      "cell_type": "code",
      "source": [
        "S = input()\n",
        "result = []\n",
        "for i in S:\n",
        "    if i.isupper():\n",
        "        result.append(i.lower())\n",
        "    else:\n",
        "        result.append(i.upper())\n",
        "print(''.join(map(str, result)))"
      ],
      "metadata": {
        "colab": {
          "base_uri": "https://localhost:8080/"
        },
        "id": "xf-9i0Xjv6ct",
        "outputId": "95808b81-0767-4a33-cecd-8fc70b524118"
      },
      "execution_count": null,
      "outputs": [
        {
          "output_type": "stream",
          "name": "stdout",
          "text": [
            "HeLlo\n",
            "hElLO\n"
          ]
        }
      ]
    },
    {
      "cell_type": "code",
      "source": [
        "s = list(map(str, input().split()))\n",
        "\n",
        "result = []\n",
        "for i in s:\n",
        "  reversed_words = i[::-1]\n",
        "  result.append(reversed_words)\n",
        "print(' '.join(map(str, result)))"
      ],
      "metadata": {
        "colab": {
          "base_uri": "https://localhost:8080/"
        },
        "id": "ROSMQRKuw8jl",
        "outputId": "04705817-f303-4df2-fce7-d0d8c4e98c70"
      },
      "execution_count": null,
      "outputs": [
        {
          "output_type": "stream",
          "name": "stdout",
          "text": [
            "I am kohli fan\n",
            "I ma ilhok naf\n"
          ]
        }
      ]
    },
    {
      "cell_type": "code",
      "source": [
        "S = input()\n",
        "K = input()\n",
        "result = S.count(K)\n",
        "print(result)"
      ],
      "metadata": {
        "colab": {
          "base_uri": "https://localhost:8080/"
        },
        "id": "lg0v6ZOxytlm",
        "outputId": "f35a1a0d-c89e-4310-e0a5-fc45b0dce345"
      },
      "execution_count": null,
      "outputs": [
        {
          "output_type": "stream",
          "name": "stdout",
          "text": [
            "codekata\n",
            "a\n",
            "2\n"
          ]
        }
      ]
    },
    {
      "cell_type": "code",
      "source": [
        "S = input()\n",
        "result = []\n",
        "for i in S:\n",
        "  reversed_string = S[::-1]\n",
        "\n",
        "for j in reversed_string:\n",
        "  result.append(j+\"-\")\n",
        "answer = ''.join(map(str, result))\n",
        "my_answer = []\n",
        "for k in answer:\n",
        "  my_answer.append(k)\n",
        "my_answer.pop()\n",
        "print(''.join(map(str, my_answer)))"
      ],
      "metadata": {
        "colab": {
          "base_uri": "https://localhost:8080/"
        },
        "id": "RIdbZRE71bbK",
        "outputId": "9ccc81ac-db28-449e-e94e-a83dec06d888"
      },
      "execution_count": null,
      "outputs": [
        {
          "output_type": "stream",
          "name": "stdout",
          "text": [
            "codekata\n",
            "a-t-a-k-e-d-o-c\n"
          ]
        }
      ]
    },
    {
      "cell_type": "markdown",
      "source": [
        "# Least occuring element in array"
      ],
      "metadata": {
        "id": "7Bdi9sPR4lcQ"
      }
    },
    {
      "cell_type": "code",
      "source": [
        "n = int(input())\n",
        "numbers = list(map(int, input().split()))\n",
        "counts = {}\n",
        "for i in numbers:\n",
        "    if i in counts:\n",
        "        counts[i] += 1\n",
        "    else:\n",
        "        counts[i] = 1\n",
        "count_of_numbers = [i for i, count in counts.items() if count >= 1]\n",
        "result = ' '.join(map(str, count_of_numbers))\n",
        "min_nos = [i for i, count in counts.items() if count == 1]\n",
        "if int(len(count_of_numbers)) == 1:\n",
        "  print(numbers[0])\n",
        "else:\n",
        "  min_nos.sort(reverse=True)\n",
        "  print(' '.join(map(str, min_nos)))"
      ],
      "metadata": {
        "colab": {
          "base_uri": "https://localhost:8080/"
        },
        "id": "vWTjrFtwxoT2",
        "outputId": "0ce5dcef-1793-4771-9aa7-7d7ac7718386"
      },
      "execution_count": null,
      "outputs": [
        {
          "output_type": "stream",
          "name": "stdout",
          "text": [
            "9\n",
            "1 6 4 56 56 56 6 4 2\n",
            "2 1\n"
          ]
        }
      ]
    },
    {
      "cell_type": "code",
      "source": [
        "numbers[0]"
      ],
      "metadata": {
        "colab": {
          "base_uri": "https://localhost:8080/"
        },
        "id": "RmH4oj8BzJ7-",
        "outputId": "9129aa1e-0bb8-447d-dc9f-4fa8bd09ac1b"
      },
      "execution_count": null,
      "outputs": [
        {
          "output_type": "execute_result",
          "data": {
            "text/plain": [
              "99"
            ]
          },
          "metadata": {},
          "execution_count": 7
        }
      ]
    },
    {
      "cell_type": "markdown",
      "source": [
        "# Dictionary sorting - Political - array 32"
      ],
      "metadata": {
        "id": "mYmmuefV8HEn"
      }
    },
    {
      "cell_type": "code",
      "source": [
        "s = int(input())\n",
        "year = list(map(int, input().split()))\n",
        "party_name = list(map(str, input().split()))\n",
        "my_dict = dict(zip(year, party_name))\n",
        "sorted_dict = sorted(my_dict.keys())\n",
        "print(sorted_dict)"
      ],
      "metadata": {
        "colab": {
          "base_uri": "https://localhost:8080/"
        },
        "id": "ahSBtUfY4wXQ",
        "outputId": "0e5a4b53-c561-435e-a36c-f302c1389c74"
      },
      "execution_count": null,
      "outputs": [
        {
          "output_type": "stream",
          "name": "stdout",
          "text": [
            "5\n",
            "2004 1999 2019 2009 2014\n",
            "JDU JDU CON JDU CON\n",
            "[1999, 2004, 2009, 2014, 2019]\n"
          ]
        }
      ]
    },
    {
      "cell_type": "code",
      "source": [
        "values = my_dict.values()\n",
        "print(values)"
      ],
      "metadata": {
        "colab": {
          "base_uri": "https://localhost:8080/"
        },
        "id": "F9nIqiNovJQR",
        "outputId": "7cb00718-ffd2-4cf2-8175-05712a76ba54"
      },
      "execution_count": null,
      "outputs": [
        {
          "output_type": "stream",
          "name": "stdout",
          "text": [
            "dict_values(['JDU', 'JDU', 'CON', 'JDU', 'CON'])\n"
          ]
        }
      ]
    },
    {
      "cell_type": "code",
      "source": [
        "revised_year = []\n",
        "names = []\n",
        "\n",
        "sorted_dict = sorted(my_dict.items(), key=lambda x: x[0])\n",
        "for k, l in sorted_dict:\n",
        "  revised_year.append(k)\n",
        "  names.append(l)\n",
        "print(revised_year)\n",
        "print(names)"
      ],
      "metadata": {
        "colab": {
          "base_uri": "https://localhost:8080/"
        },
        "id": "cNV4fj3CYhzY",
        "outputId": "5ad856c3-201a-46e4-d706-19fe7d8f45ff"
      },
      "execution_count": null,
      "outputs": [
        {
          "output_type": "stream",
          "name": "stdout",
          "text": [
            "[1999, 2004, 2009, 2014, 2019]\n",
            "['JDU', 'JDU', 'JDU', 'CON', 'CON']\n"
          ]
        }
      ]
    },
    {
      "cell_type": "code",
      "source": [
        "revised_dict = dict(zip(revised_year, names))\n",
        "print(revised_dict)"
      ],
      "metadata": {
        "colab": {
          "base_uri": "https://localhost:8080/"
        },
        "id": "nR7nGH__wCeW",
        "outputId": "7835f715-6cad-4830-ed2b-c0831e60a30b"
      },
      "execution_count": null,
      "outputs": [
        {
          "output_type": "stream",
          "name": "stdout",
          "text": [
            "{1999: 'JDU', 2004: 'JDU', 2009: 'JDU', 2014: 'CON', 2019: 'CON'}\n"
          ]
        }
      ]
    },
    {
      "cell_type": "code",
      "source": [
        "result = []\n",
        "for i in range(len(revised_dict)):\n",
        "  if i == len(revised_dict) - 1:\n",
        "    break\n",
        "  else:\n",
        "    if revised_dict[revised_year[i]] != revised_dict[revised_year[i+1]]:\n",
        "      result.append(revised_dict[revised_year[i+1]])\n",
        "\n",
        "\n",
        "print(result)"
      ],
      "metadata": {
        "colab": {
          "base_uri": "https://localhost:8080/"
        },
        "id": "5wSpVY1EZWv9",
        "outputId": "b6d3e0b7-c51f-4c27-b16f-06ccf0059613"
      },
      "execution_count": null,
      "outputs": [
        {
          "output_type": "stream",
          "name": "stdout",
          "text": [
            "['CON']\n"
          ]
        }
      ]
    },
    {
      "cell_type": "code",
      "source": [
        "answer = [m for m, n in revised_dict.items() if n in result]\n",
        "print(answer[0])\n"
      ],
      "metadata": {
        "colab": {
          "base_uri": "https://localhost:8080/"
        },
        "id": "0NJrUPrpyzVj",
        "outputId": "118257ee-e82c-4f85-9fc6-b455c82a2b94"
      },
      "execution_count": null,
      "outputs": [
        {
          "output_type": "stream",
          "name": "stdout",
          "text": [
            "2014\n"
          ]
        }
      ]
    },
    {
      "cell_type": "code",
      "source": [
        "sorted_dict"
      ],
      "metadata": {
        "colab": {
          "base_uri": "https://localhost:8080/"
        },
        "id": "g3HeziG3tBHT",
        "outputId": "c0b191cd-3a90-4480-ff78-84ca1a12df28"
      },
      "execution_count": null,
      "outputs": [
        {
          "output_type": "execute_result",
          "data": {
            "text/plain": [
              "[(1999, 'JDU'), (2004, 'JDU'), (2009, 'JDU'), (2014, 'CON'), (2019, 'CON')]"
            ]
          },
          "metadata": {},
          "execution_count": 5
        }
      ]
    },
    {
      "cell_type": "code",
      "source": [
        "s = int(input())\n",
        "year = list(map(int, input().split()))\n",
        "party_name = list(map(str, input().split()))\n",
        "my_dict = dict(zip(year, party_name))\n",
        "sorted_dict = sorted(my_dict.keys())\n",
        "revised_year = []\n",
        "names = []\n",
        "\n",
        "sorted_dict = sorted(my_dict.items(), key=lambda x: x[0])\n",
        "for k, l in sorted_dict:\n",
        "  revised_year.append(k)\n",
        "  names.append(l)\n",
        "revised_dict = dict(zip(revised_year, names))\n",
        "result = []\n",
        "for i in range(len(revised_dict)):\n",
        "  if i == len(revised_dict) - 1:\n",
        "    break\n",
        "  else:\n",
        "    if revised_dict[revised_year[i]] != revised_dict[revised_year[i+1]]:\n",
        "      result.append(revised_dict[revised_year[i+1]])\n",
        "answer = [m for m, n in revised_dict.items() if n in result]\n",
        "print(answer[0])"
      ],
      "metadata": {
        "colab": {
          "base_uri": "https://localhost:8080/"
        },
        "id": "N12oFYvG0F7T",
        "outputId": "97749060-fc2e-4985-9c54-ac011039f2b1"
      },
      "execution_count": null,
      "outputs": [
        {
          "output_type": "stream",
          "name": "stdout",
          "text": [
            "6\n",
            "1980 2005 1990 1985 1995 2000\n",
            "KRR BSP BSP BSP KRR KRR\n",
            "1980\n"
          ]
        }
      ]
    },
    {
      "cell_type": "code",
      "source": [
        "year = list(map(int, input().split()))\n",
        "party_name = list(map(str, input().split()))\n",
        "\n",
        "# Combine year and party_name into a list of tuples and sort by year\n",
        "data = sorted(zip(year, party_name))\n",
        "\n",
        "# Find the transition year\n",
        "transition_year = None\n",
        "for i in range(1, len(data)):\n",
        "    if data[i][1] != data[i-1][1]:\n",
        "        transition_year = data[i][0]\n",
        "        print(transition_year)\n",
        "\n"
      ],
      "metadata": {
        "colab": {
          "base_uri": "https://localhost:8080/"
        },
        "id": "KUHfYU186dHh",
        "outputId": "afd0359c-d250-454e-de5f-985d4c67edc1"
      },
      "execution_count": null,
      "outputs": [
        {
          "output_type": "stream",
          "name": "stdout",
          "text": [
            "1980 2005 1990 1985 1995 2000\n",
            "KRR BSP BSP BSP KRR KRR\n",
            "1985\n",
            "1995\n",
            "2005\n"
          ]
        }
      ]
    },
    {
      "cell_type": "markdown",
      "source": [
        "# difference between two consecutive number."
      ],
      "metadata": {
        "id": "e3ORoewy-RLC"
      }
    },
    {
      "cell_type": "code",
      "source": [
        "n, m = list(map(int, input().split()))\n",
        "numbers = list(map(int, input().split()))\n"
      ],
      "metadata": {
        "id": "wLD8bpFf-YPX",
        "colab": {
          "base_uri": "https://localhost:8080/"
        },
        "outputId": "6615ac0b-1d07-42ef-b35e-6bb632947e4f"
      },
      "execution_count": null,
      "outputs": [
        {
          "name": "stdout",
          "output_type": "stream",
          "text": [
            "5 15\n",
            "50 65 85 98 35\n"
          ]
        }
      ]
    },
    {
      "cell_type": "code",
      "source": [
        "result = []\n",
        "\n",
        "for i in range(n):\n",
        "  if len(result) >= (n-1):\n",
        "    difference = abs(numbers[0] - numbers[i])\n",
        "    result.append(difference)\n",
        "  else:\n",
        "    difference = abs(numbers[i] - numbers[i+1])\n",
        "    result.append(difference)\n",
        "print(result)"
      ],
      "metadata": {
        "colab": {
          "base_uri": "https://localhost:8080/"
        },
        "id": "CS0qEbZ7zrI_",
        "outputId": "48472ac7-0b56-42f3-f07c-941261c9f377"
      },
      "execution_count": null,
      "outputs": [
        {
          "output_type": "stream",
          "name": "stdout",
          "text": [
            "[15, 20, 13, 63, 15]\n"
          ]
        }
      ]
    },
    {
      "cell_type": "code",
      "source": [
        "answer = []\n",
        "for j in result:\n",
        "  if j > m:\n",
        "    answer.append(1)\n",
        "  else:\n",
        "    answer.append(0)\n",
        "print(' '.join(map(str, answer)))\n"
      ],
      "metadata": {
        "colab": {
          "base_uri": "https://localhost:8080/"
        },
        "id": "j0flBsxTB6_S",
        "outputId": "4e3b2811-5262-44ab-ef3c-d4cdf9a22c7c"
      },
      "execution_count": null,
      "outputs": [
        {
          "output_type": "stream",
          "name": "stdout",
          "text": [
            "0 1 0 1 0\n"
          ]
        }
      ]
    },
    {
      "cell_type": "code",
      "source": [
        "n, m = list(map(int, input().split()))\n",
        "numbers = list(map(int, input().split()))\n",
        "diff_result = []\n",
        "\n",
        "for i in range(n):\n",
        "    if i == n-1:\n",
        "        difference = abs(numbers[i] - numbers[0])\n",
        "        diff_result.append(difference)\n",
        "    else:\n",
        "        difference = abs(numbers[i] - numbers[i+1])\n",
        "        diff_result.append(difference)\n",
        "answer = []\n",
        "for j in diff_result:\n",
        "    if j > m:\n",
        "        answer.append(1)\n",
        "    else:\n",
        "        answer.append(0)\n",
        "print(' '.join(map(str, answer)))"
      ],
      "metadata": {
        "colab": {
          "base_uri": "https://localhost:8080/"
        },
        "id": "s1saRFJKDKlR",
        "outputId": "f3981d1e-093b-4dc2-90db-4c262276ca63"
      },
      "execution_count": null,
      "outputs": [
        {
          "output_type": "stream",
          "name": "stdout",
          "text": [
            "10 11\n",
            "50 65 85 98 35 95 35 26 12 10\n",
            "1 1 1 1 1 1 0 1 0 1\n"
          ]
        }
      ]
    },
    {
      "cell_type": "markdown",
      "source": [
        "# singly occurring number"
      ],
      "metadata": {
        "id": "XqwAIyMFFIXy"
      }
    },
    {
      "cell_type": "code",
      "source": [
        "N = int(input())\n",
        "arr = list(map(int, input().split()))"
      ],
      "metadata": {
        "colab": {
          "base_uri": "https://localhost:8080/"
        },
        "id": "AG9ji3AwFOOj",
        "outputId": "c28b014f-d8e4-464c-a457-eeac259f085e"
      },
      "execution_count": null,
      "outputs": [
        {
          "name": "stdout",
          "output_type": "stream",
          "text": [
            "5\n",
            "1 1 2 5 5\n"
          ]
        }
      ]
    },
    {
      "cell_type": "code",
      "source": [
        "count_of_nos = {}\n",
        "for i in arr:\n",
        "  if i in count_of_nos:\n",
        "    count_of_nos[i] += 1\n",
        "  else:\n",
        "    count_of_nos[i] = 1\n",
        "print(count_of_nos)"
      ],
      "metadata": {
        "colab": {
          "base_uri": "https://localhost:8080/"
        },
        "id": "PGgWahDxFois",
        "outputId": "6f1f21ce-938d-49b9-9701-8249b91d9b18"
      },
      "execution_count": null,
      "outputs": [
        {
          "output_type": "stream",
          "name": "stdout",
          "text": [
            "{1: 2, 2: 1, 5: 2}\n"
          ]
        }
      ]
    },
    {
      "cell_type": "code",
      "source": [
        "single_occ = [j for j, count in count_of_nos.items() if count == 1]\n",
        "\n",
        "most_occ = [k for k, count in count_of_nos.items() if count > 1]\n",
        "most_occ"
      ],
      "metadata": {
        "colab": {
          "base_uri": "https://localhost:8080/"
        },
        "id": "wmOEuC-IGFOa",
        "outputId": "74dfa662-895e-4c4f-ac89-13a54f8e58a0"
      },
      "execution_count": null,
      "outputs": [
        {
          "output_type": "execute_result",
          "data": {
            "text/plain": [
              "[1, 5]"
            ]
          },
          "metadata": {},
          "execution_count": 73
        }
      ]
    },
    {
      "cell_type": "code",
      "source": [
        "if len(most_occ) == 1:\n",
        "  print(0)\n",
        "else:\n",
        "  print(' '.join(map(str, single_occ)))\n"
      ],
      "metadata": {
        "colab": {
          "base_uri": "https://localhost:8080/"
        },
        "id": "Sg8d9iDeGj2a",
        "outputId": "4b493521-b9d5-4568-a83b-7a92890919b7"
      },
      "execution_count": null,
      "outputs": [
        {
          "output_type": "stream",
          "name": "stdout",
          "text": [
            "2\n"
          ]
        }
      ]
    },
    {
      "cell_type": "code",
      "source": [
        "player = ['SITA', 'RAM']\n",
        "M, N = list(map(int, input().split()))\n",
        "elements = list(map(int, input().split()))\n",
        "result = {player[0]:0, player[1]:0}\n",
        "for i in elements:\n",
        "    if i == 1:\n",
        "        result[player[0]] += 1\n",
        "    else:\n",
        "        result[player[1]] += 1\n",
        "\n",
        "print(result)"
      ],
      "metadata": {
        "colab": {
          "base_uri": "https://localhost:8080/"
        },
        "id": "iv-QJmKQJmft",
        "outputId": "4f02cc3a-b9d7-4d95-f5ba-79e5553bc4e0"
      },
      "execution_count": null,
      "outputs": [
        {
          "output_type": "stream",
          "name": "stdout",
          "text": [
            "3 1\n",
            "1 1 1\n",
            "{'SITA': 3, 'RAM': 0}\n"
          ]
        }
      ]
    },
    {
      "cell_type": "code",
      "source": [
        "for i in result.items():\n",
        "  print(i)"
      ],
      "metadata": {
        "colab": {
          "base_uri": "https://localhost:8080/"
        },
        "id": "brbrG1S6_AHd",
        "outputId": "ffcbe0b1-8b40-4a5a-df9a-48f6373ee0ab"
      },
      "execution_count": null,
      "outputs": [
        {
          "output_type": "stream",
          "name": "stdout",
          "text": [
            "('SITA', 3)\n",
            "('RAM', 0)\n"
          ]
        }
      ]
    },
    {
      "cell_type": "code",
      "source": [
        "M, N = map(int, input().split())\n",
        "matrix = []\n",
        "for _ in range(M):\n",
        "  row = list(map(int, input().split()))\n",
        "  matrix.append(row)"
      ],
      "metadata": {
        "colab": {
          "base_uri": "https://localhost:8080/"
        },
        "id": "rUfR0eGb_uPK",
        "outputId": "09c87881-d28c-4867-e185-64eae14309f9"
      },
      "execution_count": null,
      "outputs": [
        {
          "name": "stdout",
          "output_type": "stream",
          "text": [
            "1 3\n",
            "1 1 1\n"
          ]
        }
      ]
    },
    {
      "cell_type": "code",
      "source": [
        "matrix"
      ],
      "metadata": {
        "colab": {
          "base_uri": "https://localhost:8080/"
        },
        "id": "mKANCjVzALHt",
        "outputId": "d1ff6a48-404f-4d6c-f972-a8664d717494"
      },
      "execution_count": null,
      "outputs": [
        {
          "output_type": "execute_result",
          "data": {
            "text/plain": [
              "[[1, 1, 1]]"
            ]
          },
          "metadata": {},
          "execution_count": 11
        }
      ]
    },
    {
      "cell_type": "code",
      "source": [
        "ram_wins = sum(row.count(0) for row in matrix)\n",
        "sita_wins = sum(row.count(1) for row in matrix)\n",
        "print(f\"RAM: {ram_wins}\")\n",
        "print(f\"SITA: {sita_wins}\")"
      ],
      "metadata": {
        "colab": {
          "base_uri": "https://localhost:8080/"
        },
        "id": "wKLkORx3AOXL",
        "outputId": "eb65eb21-26b2-4fd7-a6a6-53e01be11499"
      },
      "execution_count": null,
      "outputs": [
        {
          "output_type": "stream",
          "name": "stdout",
          "text": [
            "RAM: 0\n",
            "SITA: 3\n"
          ]
        }
      ]
    },
    {
      "cell_type": "markdown",
      "source": [
        "# Sort the elements"
      ],
      "metadata": {
        "id": "UPjrJvLHCfuo"
      }
    },
    {
      "cell_type": "code",
      "source": [
        "f = int(input())\n",
        "elements = list(map(int, input().split()))\n",
        "\n",
        "copy_elements = elements.copy()\n",
        "\n",
        "copy_elements.sort(reverse=True)\n",
        "print(copy_elements)"
      ],
      "metadata": {
        "colab": {
          "base_uri": "https://localhost:8080/"
        },
        "id": "Iwo3REFbCjY2",
        "outputId": "b89e2987-60bc-49f7-a7a2-d603caa72fb2"
      },
      "execution_count": null,
      "outputs": [
        {
          "output_type": "stream",
          "name": "stdout",
          "text": [
            "1\n",
            "1 5 4\n",
            "[5, 4, 1]\n"
          ]
        }
      ]
    },
    {
      "cell_type": "code",
      "source": [
        "result = []\n",
        "for i in copy_elements:\n",
        "  result.append(elements.index(i))\n",
        "print(result)"
      ],
      "metadata": {
        "colab": {
          "base_uri": "https://localhost:8080/"
        },
        "id": "pwpa_NuTDSQ8",
        "outputId": "f1da14f9-868d-4ecf-cb1e-f5c40fd6226a"
      },
      "execution_count": null,
      "outputs": [
        {
          "output_type": "stream",
          "name": "stdout",
          "text": [
            "[1, 2, 0]\n"
          ]
        }
      ]
    },
    {
      "cell_type": "markdown",
      "source": [
        "# Sum of middle elements of two lists"
      ],
      "metadata": {
        "id": "yN2VE8JxPlo7"
      }
    },
    {
      "cell_type": "code",
      "source": [
        "n = int(input())\n",
        "arr1 = list(map(int, input().split()))\n",
        "arr2 = list(map(int, input().split()))"
      ],
      "metadata": {
        "colab": {
          "base_uri": "https://localhost:8080/"
        },
        "id": "BnRkRYKGMxWr",
        "outputId": "6d7ca61c-f390-480e-c7f7-ed6058aa986c"
      },
      "execution_count": null,
      "outputs": [
        {
          "name": "stdout",
          "output_type": "stream",
          "text": [
            "5\n",
            "1 9 16 25 46\n",
            "2 3 4 5 6\n"
          ]
        }
      ]
    },
    {
      "cell_type": "code",
      "source": [
        "arr1.extend(arr2)\n",
        "arr1"
      ],
      "metadata": {
        "colab": {
          "base_uri": "https://localhost:8080/"
        },
        "id": "RRMVpGp_NP0c",
        "outputId": "d2893fd6-8622-495c-f60d-bcb4fd4c54aa"
      },
      "execution_count": null,
      "outputs": [
        {
          "output_type": "execute_result",
          "data": {
            "text/plain": [
              "[1, 9, 16, 25, 46, 2, 3, 4, 5, 6]"
            ]
          },
          "metadata": {},
          "execution_count": 31
        }
      ]
    },
    {
      "cell_type": "code",
      "source": [
        "arr1.sort()"
      ],
      "metadata": {
        "id": "CDYlHm5LNY1U"
      },
      "execution_count": null,
      "outputs": []
    },
    {
      "cell_type": "code",
      "source": [
        "arr1"
      ],
      "metadata": {
        "colab": {
          "base_uri": "https://localhost:8080/"
        },
        "id": "oHgYVT4VNbrw",
        "outputId": "6f53b6cf-d781-472f-c9db-c5ee8a3c7cb4"
      },
      "execution_count": null,
      "outputs": [
        {
          "output_type": "execute_result",
          "data": {
            "text/plain": [
              "[1, 2, 3, 4, 5, 6, 9, 16, 25, 46]"
            ]
          },
          "metadata": {},
          "execution_count": 33
        }
      ]
    },
    {
      "cell_type": "code",
      "source": [
        "mid_element = int(len(arr1)/2)\n",
        "print(mid_element)"
      ],
      "metadata": {
        "colab": {
          "base_uri": "https://localhost:8080/"
        },
        "id": "HemqoypqNgRO",
        "outputId": "20fcc8bb-448f-4480-e2d3-a574fb3ea16f"
      },
      "execution_count": null,
      "outputs": [
        {
          "output_type": "stream",
          "name": "stdout",
          "text": [
            "5\n"
          ]
        }
      ]
    },
    {
      "cell_type": "code",
      "source": [
        "arr1[mid_element]"
      ],
      "metadata": {
        "colab": {
          "base_uri": "https://localhost:8080/"
        },
        "id": "iouJb445NyL5",
        "outputId": "4d93c714-eb42-42ec-e327-27b5d7c2078a"
      },
      "execution_count": null,
      "outputs": [
        {
          "output_type": "execute_result",
          "data": {
            "text/plain": [
              "6"
            ]
          },
          "metadata": {},
          "execution_count": 40
        }
      ]
    },
    {
      "cell_type": "code",
      "source": [
        "answer = arr1[mid_element] + arr1[mid_element-1]\n",
        "answer"
      ],
      "metadata": {
        "colab": {
          "base_uri": "https://localhost:8080/"
        },
        "id": "ZBdlVMq9OArE",
        "outputId": "74be9fba-d703-4121-d090-a4e5b43829da"
      },
      "execution_count": null,
      "outputs": [
        {
          "output_type": "execute_result",
          "data": {
            "text/plain": [
              "11"
            ]
          },
          "metadata": {},
          "execution_count": 41
        }
      ]
    },
    {
      "cell_type": "markdown",
      "source": [
        "# Print the max sum of subarray"
      ],
      "metadata": {
        "id": "A2Nv-ifVPtWP"
      }
    },
    {
      "cell_type": "code",
      "source": [
        "n = int(input())\n",
        "numbers = list(map(int, input().split()))\n",
        "result = 0\n",
        "for i in numbers:\n",
        "      result += abs(i)\n",
        "      print(result)\n"
      ],
      "metadata": {
        "colab": {
          "base_uri": "https://localhost:8080/"
        },
        "id": "7Nf79L8dPwtf",
        "outputId": "9963589d-76d2-421c-d29d-94bc6def3d3e"
      },
      "execution_count": null,
      "outputs": [
        {
          "output_type": "stream",
          "name": "stdout",
          "text": [
            "4\n",
            "-1 -2 -3 -4 \n",
            "1\n",
            "3\n",
            "6\n",
            "10\n"
          ]
        }
      ]
    },
    {
      "cell_type": "code",
      "source": [
        "def max_subarray_sum(n, arr):\n",
        "    max_sum = float('-inf')\n",
        "    current_sum = 0\n",
        "\n",
        "    for num in arr:\n",
        "        current_sum = max(num, current_sum + num)\n",
        "        max_sum = max(max_sum, current_sum)\n",
        "\n",
        "    return max_sum\n",
        "\n",
        "n = int(input())\n",
        "arr = list(map(int, input().split()))\n",
        "\n",
        "print(max_subarray_sum(n, arr))"
      ],
      "metadata": {
        "colab": {
          "base_uri": "https://localhost:8080/"
        },
        "id": "0U2-2yPFRp1F",
        "outputId": "d7158334-fc6a-4e79-fe48-6e3b8012934f"
      },
      "execution_count": null,
      "outputs": [
        {
          "output_type": "stream",
          "name": "stdout",
          "text": [
            "4\n",
            "-1 -2 -3 -4\n",
            "-1\n"
          ]
        }
      ]
    },
    {
      "cell_type": "code",
      "source": [
        "N = int(input())\n",
        "A = list(map(int, input().split()))\n",
        "B = list(map(int, input().split()))\n",
        "result = []\n",
        "for i in B:\n",
        "    if i in A:\n",
        "        result.append(i)\n",
        "if len(result) >= 1:\n",
        "  print(' '.join(map(str, result)))\n",
        "else:\n",
        "  print(-1)"
      ],
      "metadata": {
        "colab": {
          "base_uri": "https://localhost:8080/"
        },
        "id": "H3QKUqgkc-eh",
        "outputId": "14b5ef67-0350-484c-96ab-c6b89ff52891"
      },
      "execution_count": null,
      "outputs": [
        {
          "output_type": "stream",
          "name": "stdout",
          "text": [
            "5\n",
            "1 1 1 1 1\n",
            "1 2 3 4 5\n",
            "1\n"
          ]
        }
      ]
    },
    {
      "cell_type": "code",
      "source": [
        "!pip install kaggle -q"
      ],
      "metadata": {
        "id": "vu3gNatZUT0Z"
      },
      "execution_count": null,
      "outputs": []
    },
    {
      "cell_type": "code",
      "source": [
        "!chmod 600 /content/kaggle.json"
      ],
      "metadata": {
        "id": "kpJxqyJIUnTN"
      },
      "execution_count": null,
      "outputs": []
    },
    {
      "cell_type": "code",
      "source": [
        "#!/bin/bash\n",
        "!kaggle datasets download aryansingh0909/nyt-articles-21m-2000-present"
      ],
      "metadata": {
        "colab": {
          "base_uri": "https://localhost:8080/"
        },
        "id": "44goP-maVLtD",
        "outputId": "20d09558-395a-493c-d6de-4f789e52cca0"
      },
      "execution_count": null,
      "outputs": [
        {
          "output_type": "stream",
          "name": "stdout",
          "text": [
            "Warning: Looks like you're using an outdated API Version, please consider updating (server 1.7.4.2 / client 1.6.17)\n",
            "Dataset URL: https://www.kaggle.com/datasets/aryansingh0909/nyt-articles-21m-2000-present\n",
            "License(s): CC0-1.0\n",
            "Downloading nyt-articles-21m-2000-present.zip to /content\n",
            "100% 875M/875M [00:31<00:00, 31.8MB/s]\n",
            "100% 875M/875M [00:31<00:00, 28.8MB/s]\n"
          ]
        }
      ]
    },
    {
      "cell_type": "code",
      "source": [
        "!unzip /content/nyt-articles-21m-2000-present.zip -d /content/nyt-articles-21m-2000-present"
      ],
      "metadata": {
        "colab": {
          "base_uri": "https://localhost:8080/"
        },
        "id": "qJSixffZVjKR",
        "outputId": "adbed499-fc95-4b6d-c1a7-0013cfc79e73"
      },
      "execution_count": null,
      "outputs": [
        {
          "output_type": "stream",
          "name": "stdout",
          "text": [
            "Archive:  /content/nyt-articles-21m-2000-present.zip\n",
            "  inflating: /content/nyt-articles-21m-2000-present/nyt-metadata.csv  \n"
          ]
        }
      ]
    },
    {
      "cell_type": "code",
      "source": [
        "import pandas as pd\n",
        "import numpy as np\n",
        "\n",
        "data = pd.read_csv('/content/nyt-articles-21m-2000-present/nyt-metadata.csv')\n",
        "print(data.head())"
      ],
      "metadata": {
        "colab": {
          "base_uri": "https://localhost:8080/",
          "height": 512
        },
        "id": "SIxQVvqsWblt",
        "outputId": "ec10c5b1-4ba1-4842-e6f7-4f8e20e7f3c2"
      },
      "execution_count": null,
      "outputs": [
        {
          "output_type": "error",
          "ename": "ParserError",
          "evalue": "Error tokenizing data. C error: Calling read(nbytes) on source failed. Try engine='python'.",
          "traceback": [
            "\u001b[0;31m---------------------------------------------------------------------------\u001b[0m",
            "\u001b[0;31mParserError\u001b[0m                               Traceback (most recent call last)",
            "\u001b[0;32m<ipython-input-1-d6705821a873>\u001b[0m in \u001b[0;36m<cell line: 0>\u001b[0;34m()\u001b[0m\n\u001b[1;32m      2\u001b[0m \u001b[0;32mimport\u001b[0m \u001b[0mnumpy\u001b[0m \u001b[0;32mas\u001b[0m \u001b[0mnp\u001b[0m\u001b[0;34m\u001b[0m\u001b[0;34m\u001b[0m\u001b[0m\n\u001b[1;32m      3\u001b[0m \u001b[0;34m\u001b[0m\u001b[0m\n\u001b[0;32m----> 4\u001b[0;31m \u001b[0mdata\u001b[0m \u001b[0;34m=\u001b[0m \u001b[0mpd\u001b[0m\u001b[0;34m.\u001b[0m\u001b[0mread_csv\u001b[0m\u001b[0;34m(\u001b[0m\u001b[0;34m'/content/nyt-articles-21m-2000-present/nyt-metadata.csv'\u001b[0m\u001b[0;34m)\u001b[0m\u001b[0;34m\u001b[0m\u001b[0;34m\u001b[0m\u001b[0m\n\u001b[0m\u001b[1;32m      5\u001b[0m \u001b[0mprint\u001b[0m\u001b[0;34m(\u001b[0m\u001b[0mdata\u001b[0m\u001b[0;34m.\u001b[0m\u001b[0mhead\u001b[0m\u001b[0;34m(\u001b[0m\u001b[0;34m)\u001b[0m\u001b[0;34m)\u001b[0m\u001b[0;34m\u001b[0m\u001b[0;34m\u001b[0m\u001b[0m\n",
            "\u001b[0;32m/usr/local/lib/python3.11/dist-packages/pandas/io/parsers/readers.py\u001b[0m in \u001b[0;36mread_csv\u001b[0;34m(filepath_or_buffer, sep, delimiter, header, names, index_col, usecols, dtype, engine, converters, true_values, false_values, skipinitialspace, skiprows, skipfooter, nrows, na_values, keep_default_na, na_filter, verbose, skip_blank_lines, parse_dates, infer_datetime_format, keep_date_col, date_parser, date_format, dayfirst, cache_dates, iterator, chunksize, compression, thousands, decimal, lineterminator, quotechar, quoting, doublequote, escapechar, comment, encoding, encoding_errors, dialect, on_bad_lines, delim_whitespace, low_memory, memory_map, float_precision, storage_options, dtype_backend)\u001b[0m\n\u001b[1;32m   1024\u001b[0m     \u001b[0mkwds\u001b[0m\u001b[0;34m.\u001b[0m\u001b[0mupdate\u001b[0m\u001b[0;34m(\u001b[0m\u001b[0mkwds_defaults\u001b[0m\u001b[0;34m)\u001b[0m\u001b[0;34m\u001b[0m\u001b[0;34m\u001b[0m\u001b[0m\n\u001b[1;32m   1025\u001b[0m \u001b[0;34m\u001b[0m\u001b[0m\n\u001b[0;32m-> 1026\u001b[0;31m     \u001b[0;32mreturn\u001b[0m \u001b[0m_read\u001b[0m\u001b[0;34m(\u001b[0m\u001b[0mfilepath_or_buffer\u001b[0m\u001b[0;34m,\u001b[0m \u001b[0mkwds\u001b[0m\u001b[0;34m)\u001b[0m\u001b[0;34m\u001b[0m\u001b[0;34m\u001b[0m\u001b[0m\n\u001b[0m\u001b[1;32m   1027\u001b[0m \u001b[0;34m\u001b[0m\u001b[0m\n\u001b[1;32m   1028\u001b[0m \u001b[0;34m\u001b[0m\u001b[0m\n",
            "\u001b[0;32m/usr/local/lib/python3.11/dist-packages/pandas/io/parsers/readers.py\u001b[0m in \u001b[0;36m_read\u001b[0;34m(filepath_or_buffer, kwds)\u001b[0m\n\u001b[1;32m    624\u001b[0m \u001b[0;34m\u001b[0m\u001b[0m\n\u001b[1;32m    625\u001b[0m     \u001b[0;32mwith\u001b[0m \u001b[0mparser\u001b[0m\u001b[0;34m:\u001b[0m\u001b[0;34m\u001b[0m\u001b[0;34m\u001b[0m\u001b[0m\n\u001b[0;32m--> 626\u001b[0;31m         \u001b[0;32mreturn\u001b[0m \u001b[0mparser\u001b[0m\u001b[0;34m.\u001b[0m\u001b[0mread\u001b[0m\u001b[0;34m(\u001b[0m\u001b[0mnrows\u001b[0m\u001b[0;34m)\u001b[0m\u001b[0;34m\u001b[0m\u001b[0;34m\u001b[0m\u001b[0m\n\u001b[0m\u001b[1;32m    627\u001b[0m \u001b[0;34m\u001b[0m\u001b[0m\n\u001b[1;32m    628\u001b[0m \u001b[0;34m\u001b[0m\u001b[0m\n",
            "\u001b[0;32m/usr/local/lib/python3.11/dist-packages/pandas/io/parsers/readers.py\u001b[0m in \u001b[0;36mread\u001b[0;34m(self, nrows)\u001b[0m\n\u001b[1;32m   1921\u001b[0m                     \u001b[0mcolumns\u001b[0m\u001b[0;34m,\u001b[0m\u001b[0;34m\u001b[0m\u001b[0;34m\u001b[0m\u001b[0m\n\u001b[1;32m   1922\u001b[0m                     \u001b[0mcol_dict\u001b[0m\u001b[0;34m,\u001b[0m\u001b[0;34m\u001b[0m\u001b[0;34m\u001b[0m\u001b[0m\n\u001b[0;32m-> 1923\u001b[0;31m                 \u001b[0;34m)\u001b[0m \u001b[0;34m=\u001b[0m \u001b[0mself\u001b[0m\u001b[0;34m.\u001b[0m\u001b[0m_engine\u001b[0m\u001b[0;34m.\u001b[0m\u001b[0mread\u001b[0m\u001b[0;34m(\u001b[0m  \u001b[0;31m# type: ignore[attr-defined]\u001b[0m\u001b[0;34m\u001b[0m\u001b[0;34m\u001b[0m\u001b[0m\n\u001b[0m\u001b[1;32m   1924\u001b[0m                     \u001b[0mnrows\u001b[0m\u001b[0;34m\u001b[0m\u001b[0;34m\u001b[0m\u001b[0m\n\u001b[1;32m   1925\u001b[0m                 )\n",
            "\u001b[0;32m/usr/local/lib/python3.11/dist-packages/pandas/io/parsers/c_parser_wrapper.py\u001b[0m in \u001b[0;36mread\u001b[0;34m(self, nrows)\u001b[0m\n\u001b[1;32m    232\u001b[0m         \u001b[0;32mtry\u001b[0m\u001b[0;34m:\u001b[0m\u001b[0;34m\u001b[0m\u001b[0;34m\u001b[0m\u001b[0m\n\u001b[1;32m    233\u001b[0m             \u001b[0;32mif\u001b[0m \u001b[0mself\u001b[0m\u001b[0;34m.\u001b[0m\u001b[0mlow_memory\u001b[0m\u001b[0;34m:\u001b[0m\u001b[0;34m\u001b[0m\u001b[0;34m\u001b[0m\u001b[0m\n\u001b[0;32m--> 234\u001b[0;31m                 \u001b[0mchunks\u001b[0m \u001b[0;34m=\u001b[0m \u001b[0mself\u001b[0m\u001b[0;34m.\u001b[0m\u001b[0m_reader\u001b[0m\u001b[0;34m.\u001b[0m\u001b[0mread_low_memory\u001b[0m\u001b[0;34m(\u001b[0m\u001b[0mnrows\u001b[0m\u001b[0;34m)\u001b[0m\u001b[0;34m\u001b[0m\u001b[0;34m\u001b[0m\u001b[0m\n\u001b[0m\u001b[1;32m    235\u001b[0m                 \u001b[0;31m# destructive to chunks\u001b[0m\u001b[0;34m\u001b[0m\u001b[0;34m\u001b[0m\u001b[0m\n\u001b[1;32m    236\u001b[0m                 \u001b[0mdata\u001b[0m \u001b[0;34m=\u001b[0m \u001b[0m_concatenate_chunks\u001b[0m\u001b[0;34m(\u001b[0m\u001b[0mchunks\u001b[0m\u001b[0;34m)\u001b[0m\u001b[0;34m\u001b[0m\u001b[0;34m\u001b[0m\u001b[0m\n",
            "\u001b[0;32mparsers.pyx\u001b[0m in \u001b[0;36mpandas._libs.parsers.TextReader.read_low_memory\u001b[0;34m()\u001b[0m\n",
            "\u001b[0;32mparsers.pyx\u001b[0m in \u001b[0;36mpandas._libs.parsers.TextReader._read_rows\u001b[0;34m()\u001b[0m\n",
            "\u001b[0;32mparsers.pyx\u001b[0m in \u001b[0;36mpandas._libs.parsers.TextReader._tokenize_rows\u001b[0;34m()\u001b[0m\n",
            "\u001b[0;32mparsers.pyx\u001b[0m in \u001b[0;36mpandas._libs.parsers.TextReader._check_tokenize_status\u001b[0;34m()\u001b[0m\n",
            "\u001b[0;32mparsers.pyx\u001b[0m in \u001b[0;36mpandas._libs.parsers.raise_parser_error\u001b[0;34m()\u001b[0m\n",
            "\u001b[0;31mParserError\u001b[0m: Error tokenizing data. C error: Calling read(nbytes) on source failed. Try engine='python'."
          ]
        }
      ]
    },
    {
      "cell_type": "code",
      "source": [
        "N = int(input())\n",
        "price = list(map(int, input().split()))\n",
        "lowest_price_index = price.index(min(price))\n",
        "print(f'Dealer{lowest_price_index}')"
      ],
      "metadata": {
        "colab": {
          "base_uri": "https://localhost:8080/"
        },
        "id": "s8deuDFlEWp6",
        "outputId": "01ff50e1-5bbe-4885-a70a-cc32cc0c247a"
      },
      "execution_count": null,
      "outputs": [
        {
          "name": "stdout",
          "output_type": "stream",
          "text": [
            "3\n",
            "10000 11200 12030\n"
          ]
        },
        {
          "output_type": "execute_result",
          "data": {
            "text/plain": [
              "0"
            ]
          },
          "metadata": {},
          "execution_count": 4
        }
      ]
    },
    {
      "cell_type": "code",
      "source": [
        "n = int(input())\n",
        "arr = list(map(int, input().split()))\n",
        "sorted_arr = sorted(arr, reverse=True)\n",
        "result = []\n",
        "mid_arr = int(len(sorted_arr) / 2)\n",
        "mid_arr\n",
        "if mid_arr % 2 == 0:\n",
        "  mid_arr = mid_arr + 1\n",
        "else:\n",
        "  mid_arr += 0\n",
        "\n",
        "first_list = sorted_arr[:mid_arr]\n",
        "second_list = sorted(sorted_arr[mid_arr:])\n",
        "\n",
        "count = int(len(arr))\n",
        "iter = 0\n",
        "\n",
        "if mid_arr % 2 == 0:\n",
        "  for i in range(mid_arr):\n",
        "    result.append(first_list[iter])\n",
        "    for j in range(mid_arr):\n",
        "      result.append(second_list[iter])\n",
        "    iter += 1\n",
        "else:\n",
        "  for i in range(mid_arr+1):\n",
        "    result.append(first_list[iter])\n",
        "    result.append(second_list[iter])\n",
        "  iter += 1\n",
        "  count -= 1\n",
        "print(' '.join(map(str, result)))"
      ],
      "metadata": {
        "colab": {
          "base_uri": "https://localhost:8080/"
        },
        "id": "AONc4lYKLHJz",
        "outputId": "3464f9f1-a067-466d-c709-54eba5b1f0d9"
      },
      "execution_count": null,
      "outputs": [
        {
          "output_type": "stream",
          "name": "stdout",
          "text": [
            "5\n",
            "1 7 11 16 19\n",
            "19 1 19 1 19 1 19 1\n"
          ]
        }
      ]
    },
    {
      "cell_type": "code",
      "source": [
        "n = int(input())\n",
        "arr = list(map(int, input().split()))\n",
        "\n",
        "# Sort the array in ascending order\n",
        "arr.sort()\n",
        "\n",
        "# Initialize two pointers, one at the start and one at the end of the array\n",
        "i, j = 0, n - 1\n",
        "result = []\n",
        "# Print the array in the desired manner\n",
        "while i <= j:\n",
        "    if i == j:\n",
        "        result.append(arr[i])\n",
        "    else:\n",
        "        result.append(arr[j])\n",
        "        result.append(arr[i])\n",
        "\n",
        "    i += 1\n",
        "    j -= 1\n",
        "print(' '.join(map(str, result)))"
      ],
      "metadata": {
        "colab": {
          "base_uri": "https://localhost:8080/"
        },
        "id": "c8x18c1IPw26",
        "outputId": "f060fd30-5f7e-4841-dc08-38848ef49b38"
      },
      "execution_count": null,
      "outputs": [
        {
          "output_type": "stream",
          "name": "stdout",
          "text": [
            "5\n",
            "5 1 7 11 16 19\n",
            "16 1 11 5 7\n"
          ]
        }
      ]
    },
    {
      "cell_type": "code",
      "source": [
        "S1 = 'amazon'\n",
        "S2 = 'azonam'"
      ],
      "metadata": {
        "id": "Lc1goFWAZTfY"
      },
      "execution_count": null,
      "outputs": []
    },
    {
      "cell_type": "code",
      "source": [
        "S1[-4:]"
      ],
      "metadata": {
        "colab": {
          "base_uri": "https://localhost:8080/",
          "height": 35
        },
        "id": "eB_50BG1ZoOL",
        "outputId": "02758c86-9fc4-4903-c742-6c631da9e29b"
      },
      "execution_count": null,
      "outputs": [
        {
          "output_type": "execute_result",
          "data": {
            "text/plain": [
              "'azon'"
            ],
            "application/vnd.google.colaboratory.intrinsic+json": {
              "type": "string"
            }
          },
          "metadata": {},
          "execution_count": 96
        }
      ]
    },
    {
      "cell_type": "code",
      "source": [
        "S1[:2]"
      ],
      "metadata": {
        "colab": {
          "base_uri": "https://localhost:8080/",
          "height": 35
        },
        "id": "CuidxA6WZsc9",
        "outputId": "661794a1-1bac-46ba-eb5f-feac9e1ae34d"
      },
      "execution_count": null,
      "outputs": [
        {
          "output_type": "execute_result",
          "data": {
            "text/plain": [
              "'am'"
            ],
            "application/vnd.google.colaboratory.intrinsic+json": {
              "type": "string"
            }
          },
          "metadata": {},
          "execution_count": 99
        }
      ]
    },
    {
      "cell_type": "code",
      "source": [
        "rotated_s1 = S1[-4:] + S1[:2]\n",
        "rotated_s1"
      ],
      "metadata": {
        "colab": {
          "base_uri": "https://localhost:8080/",
          "height": 35
        },
        "id": "ddWgA6AYchTV",
        "outputId": "48019d3a-6ce6-4fcb-b7b9-ef777214bdc8"
      },
      "execution_count": null,
      "outputs": [
        {
          "output_type": "execute_result",
          "data": {
            "text/plain": [
              "'azonam'"
            ],
            "application/vnd.google.colaboratory.intrinsic+json": {
              "type": "string"
            }
          },
          "metadata": {},
          "execution_count": 100
        }
      ]
    },
    {
      "cell_type": "code",
      "source": [
        "if rotated_s1 == S2:\n",
        "  print(1)\n",
        "else:\n",
        "  print(0)"
      ],
      "metadata": {
        "colab": {
          "base_uri": "https://localhost:8080/"
        },
        "id": "BhZDiLjtdp2d",
        "outputId": "c970070f-dbb6-4059-c486-61227ae68166"
      },
      "execution_count": null,
      "outputs": [
        {
          "output_type": "stream",
          "name": "stdout",
          "text": [
            "1\n"
          ]
        }
      ]
    },
    {
      "cell_type": "markdown",
      "source": [
        "# NLP Sentiment Analysis"
      ],
      "metadata": {
        "id": "IQtsEEwy1Cc3"
      }
    },
    {
      "cell_type": "code",
      "source": [
        "Your project, **Senticonomy: News Sentiment Analysis and Economic Impact Visualization**, is an ambitious one, and I can help guide you through the steps to ensure success. Below is a roadmap and breakdown for each section of your project to help you complete it.\n",
        "\n",
        "### 1. **Data Collection (APIs)**\n",
        "\n",
        "#### Steps:\n",
        "- Use APIs like **Google News**, **GNews**, or **NewsAPI** to collect real-time news data.\n",
        "- **API Authentication**: Register for access keys for each API you plan to use (Google News, NewsAPI, etc.).\n",
        "- **Data Fields**: Collect relevant fields such as:\n",
        "  - `headline`\n",
        "  - `content`\n",
        "  - `date`\n",
        "  - `source`\n",
        "  - `category` (e.g., sports, politics, business)\n",
        "- **Scheduled Collection**: Set up periodic data collection using AWS Lambda (daily ingestion).\n",
        "\n",
        "#### Implementation:\n",
        "- **API Setup**:\n",
        "  ```python\n",
        "  import requests\n",
        "\n",
        "  def get_news(api_url, params):\n",
        "      response = requests.get(api_url, params=params)\n",
        "      return response.json()\n",
        "  ```\n",
        "\n",
        "- **NewsAPI Example**:\n",
        "  ```python\n",
        "  api_key = \"your_api_key\"\n",
        "  api_url = \"https://newsapi.org/v2/everything\"\n",
        "  params = {\n",
        "      'q': 'economy',\n",
        "      'apiKey': api_key,\n",
        "      'language': 'en',\n",
        "      'pageSize': 100,\n",
        "  }\n",
        "  news_data = get_news(api_url, params)\n",
        "  ```\n",
        "\n",
        "### 2. **Data Storage (AWS S3)**\n",
        "\n",
        "#### Steps:\n",
        "- Store raw data in **AWS S3** for long-term storage.\n",
        "- Use **Amazon RDS** to store cleaned, processed data for querying.\n",
        "- Ensure that the data is backed up and secured.\n",
        "\n",
        "#### Implementation:\n",
        "```python\n",
        "import boto3\n",
        "\n",
        "s3 = boto3.client('s3')\n",
        "\n",
        "def upload_to_s3(bucket_name, file_name, data):\n",
        "    s3.put_object(Bucket=bucket_name, Key=file_name, Body=data)\n",
        "```\n",
        "\n",
        "- After collecting data from the API, upload it to S3:\n",
        "  ```python\n",
        "  upload_to_s3('your-s3-bucket', 'raw_news_data.json', json.dumps(news_data))\n",
        "  ```\n",
        "\n",
        "### 3. **Data Processing (Cleaning & Preprocessing)**\n",
        "\n",
        "#### Steps:\n",
        "- **Text Preprocessing**: Tokenize, remove stopwords, normalize (lowercase, stemming/lemmatization), and remove punctuation.\n",
        "- **Text Representation**: Use **TF-IDF** or **word embeddings** to vectorize text for further analysis.\n",
        "- Use **Pandas** to structure the data in a format suitable for analysis.\n",
        "\n",
        "#### Implementation:\n",
        "```python\n",
        "import pandas as pd\n",
        "from nltk.tokenize import word_tokenize\n",
        "from nltk.corpus import stopwords\n",
        "from nltk.stem import PorterStemmer\n",
        "\n",
        "# Example Preprocessing Function\n",
        "def preprocess_text(text):\n",
        "    # Tokenize\n",
        "    tokens = word_tokenize(text.lower())\n",
        "\n",
        "    # Remove stopwords\n",
        "    stop_words = set(stopwords.words('english'))\n",
        "    tokens = [word for word in tokens if word not in stop_words]\n",
        "\n",
        "    # Stem words\n",
        "    ps = PorterStemmer()\n",
        "    tokens = [ps.stem(word) for word in tokens]\n",
        "\n",
        "    return ' '.join(tokens)\n",
        "\n",
        "# Applying preprocessing to the 'content' column\n",
        "df['processed_content'] = df['content'].apply(preprocess_text)\n",
        "```\n",
        "\n",
        "### 4. **Clustering & Sentiment Analysis**\n",
        "\n",
        "#### 4.1 **Clustering Articles**\n",
        "\n",
        "- **K-means clustering** can be used to group articles into relevant categories like sports, politics, etc. You can use **TF-IDF** vectorization or **word embeddings** like **Word2Vec** for the clustering step.\n",
        "- Perform clustering on the `headline` or `processed_content`.\n",
        "\n",
        "```python\n",
        "from sklearn.feature_extraction.text import TfidfVectorizer\n",
        "from sklearn.cluster import KMeans\n",
        "\n",
        "vectorizer = TfidfVectorizer(stop_words='english')\n",
        "X = vectorizer.fit_transform(df['processed_content'])\n",
        "\n",
        "kmeans = KMeans(n_clusters=5, random_state=42)\n",
        "df['cluster'] = kmeans.fit_predict(X)\n",
        "```\n",
        "\n",
        "#### 4.2 **Sentiment Analysis**\n",
        "\n",
        "- Use models like **VADER**, **TextBlob**, or **BERT** for sentiment analysis.\n",
        "- **VADER** works well with short texts, such as headlines.\n",
        "\n",
        "```python\n",
        "from nltk.sentiment.vader import SentimentIntensityAnalyzer\n",
        "\n",
        "sia = SentimentIntensityAnalyzer()\n",
        "\n",
        "def get_sentiment(text):\n",
        "    score = sia.polarity_scores(text)\n",
        "    return score['compound']  # Compound score gives a good overall sentiment polarity\n",
        "\n",
        "df['sentiment_score'] = df['processed_content'].apply(get_sentiment)\n",
        "```\n",
        "\n",
        "For more complex articles, you might want to use **BERT**-based models (like Hugging Face’s `transformers` library) for sentiment analysis.\n",
        "\n",
        "### 5. **Data Visualization**\n",
        "\n",
        "- Develop a **dashboard** using **Plotly/Dash** to visualize trends, sentiment scores, and clusters.\n",
        "- Create visualizations like:\n",
        "  - Sentiment trend over time.\n",
        "  - Sentiment distribution by category.\n",
        "  - Clustered articles with their sentiment analysis results.\n",
        "\n",
        "```python\n",
        "import plotly.express as px\n",
        "\n",
        "# Example: Sentiment over time\n",
        "fig = px.line(df, x='date', y='sentiment_score', title='Sentiment Trend Over Time')\n",
        "fig.show()\n",
        "\n",
        "# Example: Sentiment distribution by category\n",
        "fig = px.histogram(df, x='category', y='sentiment_score', title='Sentiment by Category')\n",
        "fig.show()\n",
        "```\n",
        "\n",
        "- For creating a **web app** using **Streamlit** or **Dash**:\n",
        "  - **Streamlit** is quick to use for prototypes, while **Dash** is better for more custom applications.\n",
        "\n",
        "```bash\n",
        "pip install streamlit\n",
        "```\n",
        "\n",
        "```python\n",
        "import streamlit as st\n",
        "\n",
        "# Display the sentiment analysis results\n",
        "st.title(\"News Sentiment Analysis\")\n",
        "st.line_chart(df['sentiment_score'])\n",
        "```\n",
        "\n",
        "### 6. **Automation (AWS Lambda)**\n",
        "\n",
        "- Use **AWS Lambda** to automate the ingestion and analysis of news data daily.\n",
        "- Set up **AWS CloudWatch** to trigger Lambda functions at scheduled intervals.\n",
        "- The Lambda function will call your data collection script, process the data, and store the results in S3/RDS.\n",
        "\n",
        "```python\n",
        "import json\n",
        "\n",
        "def lambda_handler(event, context):\n",
        "    # Your data collection and processing code here\n",
        "    news_data = get_news(api_url, params)\n",
        "    upload_to_s3('your-s3-bucket', 'daily_news.json', json.dumps(news_data))\n",
        "```\n",
        "\n",
        "### 7. **Deployment (CI/CD)**\n",
        "\n",
        "- Use **GitHub Actions** for continuous integration and deployment.\n",
        "- Automate tests for your codebase and deployment pipelines.\n",
        "\n",
        "```yaml\n",
        "name: Deploy News Sentiment App\n",
        "\n",
        "on:\n",
        "  push:\n",
        "    branches:\n",
        "      - main\n",
        "\n",
        "jobs:\n",
        "  deploy:\n",
        "    runs-on: ubuntu-latest\n",
        "    steps:\n",
        "    - name: Checkout code\n",
        "      uses: actions/checkout@v2\n",
        "\n",
        "    - name: Set up Python\n",
        "      uses: actions/setup-python@v2\n",
        "      with:\n",
        "        python-version: 3.8\n",
        "\n",
        "    - name: Install dependencies\n",
        "      run: |\n",
        "        pip install -r requirements.txt\n",
        "\n",
        "    - name: Deploy to AWS\n",
        "      run: |\n",
        "        aws s3 cp ./app/ s3://your-bucket-name/ --recursive\n",
        "```\n",
        "\n",
        "### 8. **Results & Evaluation**\n",
        "\n",
        "- **Data Quality**: Ensure that the news data collected is complete and cleaned properly before processing.\n",
        "- **Clustering Accuracy**: Evaluate clustering results by checking the purity of each cluster.\n",
        "- **Sentiment Analysis Accuracy**: Use labeled sentiment data for evaluating model performance.\n",
        "- **Usability**: Make sure the web app is intuitive and interactive for users to explore the data.\n",
        "- **Automation Efficiency**: Ensure that your Lambda functions run smoothly and update data on time.\n",
        "\n",
        "### Final Deliverables:\n",
        "- **Source Code**: Organized code for data collection, processing, sentiment analysis, and web app.\n",
        "- **Processed Dataset**: Cleaned and structured data stored in AWS RDS.\n",
        "- **Web App**: An interactive dashboard with visualizations.\n",
        "- **Documentation**: README, API usage guide, model explanation, and system design.\n",
        "\n",
        "### Final Thoughts:\n",
        "- Keep your code modular for easier updates and debugging.\n",
        "- Ensure AWS services (S3, Lambda, EC2) are properly configured for scalability and security.\n",
        "- Test the system thoroughly to make sure it works end-to-end.\n",
        "\n",
        "Feel free to ask for more specific help in any of these areas!"
      ],
      "metadata": {
        "id": "bJn_n5SF1HW0"
      },
      "execution_count": null,
      "outputs": []
    },
    {
      "cell_type": "markdown",
      "source": [
        "# Code using API"
      ],
      "metadata": {
        "id": "_V5dv4y41P6K"
      }
    },
    {
      "cell_type": "code",
      "source": [
        "To collect a minimum of 1000 news articles for each of 5 to 10 categories, you can use APIs like **NewsAPI**, **Google News**, or **GNews**, but there are a few things to keep in mind to gather that volume of data.\n",
        "\n",
        "### 1. **API Rate Limits**\n",
        "\n",
        "Most news APIs have rate limits, meaning you can only fetch a certain number of requests per minute or day. To collect 1000+ articles per category, you'll need to:\n",
        "\n",
        "- **Make multiple API calls** to get more results.\n",
        "- Use **pagination** (if the API supports it) to collect a large number of articles.\n",
        "- **Filter by category** in your requests to collect articles relevant to each of your 5 to 10 categories.\n",
        "- Consider **batch requests** if supported by the API.\n",
        "\n",
        "### 2. **API Setup and Pagination**\n",
        "\n",
        "Let’s consider **NewsAPI** as an example. NewsAPI allows you to make requests for different query parameters, including categories like `business`, `sports`, `technology`, `health`, etc., and supports pagination. You can loop through pages to get multiple results per request.\n",
        "\n",
        "### Example API Request with Pagination (NewsAPI)\n",
        "\n",
        "#### Parameters:\n",
        "- `q`: Query term (e.g., sports, business, etc.)\n",
        "- `category`: Specific category (e.g., `business`, `technology`, `sports`, etc.)\n",
        "- `pageSize`: Number of results per page (e.g., 100 results per page)\n",
        "- `page`: Page number to handle pagination (iterate to collect more data)\n",
        "\n",
        "```python\n",
        "import requests\n",
        "import json\n",
        "\n",
        "API_KEY = 'your_newsapi_key'\n",
        "BASE_URL = 'https://newsapi.org/v2/everything'\n",
        "\n",
        "# Function to get 1000+ news articles\n",
        "def get_news(category, total_articles=1000):\n",
        "    all_articles = []\n",
        "    page_size = 100  # Max per page for NewsAPI\n",
        "    num_pages = total_articles // page_size\n",
        "\n",
        "    for page in range(1, num_pages + 1):\n",
        "        params = {\n",
        "            'q': category,\n",
        "            'apiKey': API_KEY,\n",
        "            'language': 'en',\n",
        "            'pageSize': page_size,\n",
        "            'page': page  # This helps to paginate\n",
        "        }\n",
        "\n",
        "        response = requests.get(BASE_URL, params=params)\n",
        "        if response.status_code == 200:\n",
        "            articles = response.json().get('articles', [])\n",
        "            all_articles.extend(articles)\n",
        "        else:\n",
        "            print(f\"Error fetching data: {response.status_code}\")\n",
        "\n",
        "    return all_articles\n",
        "\n",
        "# Example usage: Fetch 1000 sports news articles\n",
        "sports_articles = get_news('sports', 1000)\n",
        "print(f\"Retrieved {len(sports_articles)} articles\")\n",
        "```\n",
        "\n",
        "### 3. **Handling API Rate Limits**\n",
        "\n",
        "Some APIs, like **NewsAPI**, have limits on how many requests you can make per minute (e.g., 10 requests per second). In this case, you will need to implement **rate-limiting** logic to ensure you don’t exceed the limit.\n",
        "\n",
        "For example, to stay within rate limits, you might introduce a small delay (e.g., 1-2 seconds) between requests:\n",
        "\n",
        "```python\n",
        "import time\n",
        "\n",
        "def get_news_with_rate_limit(category, total_articles=1000, delay=1):\n",
        "    all_articles = []\n",
        "    page_size = 100\n",
        "    num_pages = total_articles // page_size\n",
        "\n",
        "    for page in range(1, num_pages + 1):\n",
        "        params = {\n",
        "            'q': category,\n",
        "            'apiKey': API_KEY,\n",
        "            'language': 'en',\n",
        "            'pageSize': page_size,\n",
        "            'page': page\n",
        "        }\n",
        "\n",
        "        response = requests.get(BASE_URL, params=params)\n",
        "\n",
        "        if response.status_code == 200:\n",
        "            articles = response.json().get('articles', [])\n",
        "            all_articles.extend(articles)\n",
        "            print(f\"Page {page} fetched: {len(articles)} articles\")\n",
        "        else:\n",
        "            print(f\"Error fetching data: {response.status_code}\")\n",
        "\n",
        "        # Add a delay between requests\n",
        "        time.sleep(delay)\n",
        "\n",
        "    return all_articles\n",
        "```\n",
        "\n",
        "### 4. **API Request Strategy for 5-10 Categories**\n",
        "\n",
        "For each category (e.g., business, technology, sports, politics, etc.), you can run the above function to gather 1000+ articles for each.\n",
        "\n",
        "For example, you can use:\n",
        "\n",
        "```python\n",
        "categories = ['sports', 'business', 'technology', 'health', 'politics']\n",
        "\n",
        "all_news = {}\n",
        "for category in categories:\n",
        "    print(f\"Fetching news for category: {category}\")\n",
        "    all_news[category] = get_news_with_rate_limit(category, 1000)\n",
        "    print(f\"Finished fetching {len(all_news[category])} articles for {category}\")\n",
        "\n",
        "# Save the articles to a file or database for future processing\n",
        "with open('news_data.json', 'w') as f:\n",
        "    json.dump(all_news, f)\n",
        "```\n",
        "\n",
        "This will give you at least 1000 articles for each category, spread across multiple pages of data.\n",
        "\n",
        "### 5. **Using Other APIs**\n",
        "\n",
        "You may also want to explore other APIs for more coverage:\n",
        "- **GNews**: Similar to NewsAPI, but it provides access to real-time news across multiple topics and sources.\n",
        "- **Google News API**: This can also be used to collect data, but it may have stricter limits on requests and requires you to sign up for an API key.\n",
        "\n",
        "Each of these APIs has its own limits, but they generally allow you to paginate the results, so you can keep requesting data until you reach your required volume (1000+ articles per category).\n",
        "\n",
        "### 6. **Data Storage**\n",
        "\n",
        "Once you collect the articles, you will need to store them efficiently:\n",
        "- **Amazon S3**: Great for storing raw JSON or CSV files of the news articles.\n",
        "- **AWS RDS**: Store the cleaned and processed data in a relational database like MySQL or PostgreSQL for easy querying and analysis.\n",
        "- **AWS DynamoDB**: If you prefer NoSQL, DynamoDB can scale easily with your increasing dataset.\n",
        "\n",
        "For example, storing news in S3:\n",
        "\n",
        "```python\n",
        "import boto3\n",
        "\n",
        "def upload_to_s3(bucket_name, file_name, data):\n",
        "    s3 = boto3.client('s3')\n",
        "    s3.put_object(Bucket=bucket_name, Key=file_name, Body=data)\n",
        "\n",
        "# Example of uploading\n",
        "upload_to_s3('your-s3-bucket', 'sports_news.json', json.dumps(sports_articles))\n",
        "```\n",
        "\n",
        "### 7. **Considerations for Large Datasets**\n",
        "\n",
        "If you plan to collect a large volume of data (e.g., thousands of articles per category), consider the following:\n",
        "- **Batching the Requests**: Make requests in batches to avoid hitting rate limits.\n",
        "- **Data Storage**: Ensure your storage solution can handle the large dataset.\n",
        "- **API Constraints**: Keep track of API rate limits and daily quotas (some free tiers limit requests per day).\n",
        "- **Backup**: Regularly back up your collected data to avoid data loss.\n",
        "\n",
        "### Final Thoughts\n",
        "\n",
        "- **Pagination** and **rate-limiting** will be key to collecting large volumes of data.\n",
        "- **Multiple API Calls** will be necessary to fetch 1000+ articles per category.\n",
        "- Consider diversifying the APIs you use (e.g., combining **NewsAPI** with **GNews**) to collect data for different categories.\n",
        "\n",
        "By following this approach, you should be able to collect 1000+ news articles for each of your categories. Let me know if you need more help with any specific part!"
      ],
      "metadata": {
        "id": "9auwy1_Y1USy"
      },
      "execution_count": null,
      "outputs": []
    },
    {
      "cell_type": "markdown",
      "source": [
        "# Numpy"
      ],
      "metadata": {
        "id": "F5tHOYfbQOz4"
      }
    },
    {
      "cell_type": "code",
      "source": [
        "import numpy as np"
      ],
      "metadata": {
        "id": "u3uJqrN5QN8c"
      },
      "execution_count": null,
      "outputs": []
    },
    {
      "cell_type": "code",
      "source": [
        "np.arange(10,20,2)"
      ],
      "metadata": {
        "colab": {
          "base_uri": "https://localhost:8080/"
        },
        "id": "qWqUKD8NBF3Z",
        "outputId": "24d57cb0-78c4-4e4b-fdc1-5c9000ea44e9"
      },
      "execution_count": null,
      "outputs": [
        {
          "output_type": "execute_result",
          "data": {
            "text/plain": [
              "array([10, 12, 14, 16, 18])"
            ]
          },
          "metadata": {},
          "execution_count": 3
        }
      ]
    },
    {
      "cell_type": "code",
      "source": [
        "N = int(input())\n",
        "elements = list(map(int, input().split()))\n",
        "print(elements)\n",
        "sorted_elements = elements.sort(reverse=True)\n",
        "print(sorted_elements)"
      ],
      "metadata": {
        "colab": {
          "base_uri": "https://localhost:8080/"
        },
        "id": "UhOlXUQiXQec",
        "outputId": "bbb3598b-910c-4476-cbf6-1872ed725631"
      },
      "execution_count": null,
      "outputs": [
        {
          "output_type": "stream",
          "name": "stdout",
          "text": [
            "10\n",
            "1 9 8 7 6 5 2 3 4 10\n",
            "[1, 9, 8, 7, 6, 5, 2, 3, 4, 10]\n",
            "None\n"
          ]
        }
      ]
    },
    {
      "cell_type": "code",
      "source": [
        "N = int(input())\n",
        "elements = list(map(int, input().split()))\n",
        "my_dict = {}\n",
        "for i in elements:\n",
        "    if i in my_dict:\n",
        "        my_dict[i] += 1\n",
        "    else:\n",
        "        my_dict[i] = 1\n",
        "\n",
        "count_nos = my_dict.values()\n",
        "max_count = max(count_nos)\n",
        "if max_count > 1:\n",
        "  print(max_count)\n",
        "else:\n",
        "  print(-1)"
      ],
      "metadata": {
        "colab": {
          "base_uri": "https://localhost:8080/"
        },
        "id": "ZOf2HxaejEch",
        "outputId": "16584177-4390-46c7-cdc2-47baa2ab747a"
      },
      "execution_count": null,
      "outputs": [
        {
          "output_type": "stream",
          "name": "stdout",
          "text": [
            "8\n",
            "1 2 2 2 3 4 5 6\n",
            "3\n"
          ]
        }
      ]
    },
    {
      "cell_type": "code",
      "source": [
        "N, K = list(map(int, input().split()))\n",
        "numbers = list(map(int, input().split()))\n",
        "for i in range(K):\n",
        "  try:\n",
        "    numbers.pop()\n",
        "  except IndexError:\n",
        "    break\n",
        "print(numbers[0])"
      ],
      "metadata": {
        "colab": {
          "base_uri": "https://localhost:8080/"
        },
        "id": "CayrtspwlUCo",
        "outputId": "4878db12-ea24-48eb-aca3-63d6189f91b4"
      },
      "execution_count": null,
      "outputs": [
        {
          "output_type": "stream",
          "name": "stdout",
          "text": [
            "5 4\n",
            "1 2 3 4 5\n",
            "1\n"
          ]
        }
      ]
    },
    {
      "cell_type": "code",
      "source": [
        "N = int(input())\n",
        "numbers = list(map(int, input().split()))\n",
        "odd_numbers = []\n",
        "even_numbers = []\n",
        "for i in numbers:\n",
        "    if i % 2 == 0:\n",
        "        even_numbers.append(i)\n",
        "    else:\n",
        "        odd_numbers.append(i)\n",
        "\n",
        "if len(even_numbers) > 1 and len(odd_numbers) > 1:\n",
        "    print(-1)\n",
        "elif len(even_numbers) == 1:\n",
        "    print(even_numbers[0])\n",
        "else:\n",
        "    print(odd_numbers[0])"
      ],
      "metadata": {
        "colab": {
          "base_uri": "https://localhost:8080/"
        },
        "id": "j_tNBDWrsI_n",
        "outputId": "f8a56df1-fb4c-4dc4-f53b-8c3c2dc7c778"
      },
      "execution_count": null,
      "outputs": [
        {
          "output_type": "stream",
          "name": "stdout",
          "text": [
            "5\n",
            "1 2 4 6 8\n",
            "[2, 4, 6, 8]\n",
            "[1]\n",
            "1\n"
          ]
        }
      ]
    },
    {
      "cell_type": "code",
      "source": [
        "import numpy as np\n",
        "\n",
        "import numpy as np\n",
        "n = int(input())\n",
        "arr = list(map(int, input().split()))\n",
        "for i in arr:\n",
        "  arr[i] = arr[arr[i]]\n",
        "\n",
        "arrv  vb  b"
      ],
      "metadata": {
        "colab": {
          "base_uri": "https://localhost:8080/"
        },
        "id": "mlPA_ywFzIEm",
        "outputId": "7453b2b7-664c-4ded-e4c8-d836a666487f"
      },
      "execution_count": null,
      "outputs": [
        {
          "name": "stdout",
          "output_type": "stream",
          "text": [
            "5\n",
            "4 0 2 1 3\n"
          ]
        },
        {
          "output_type": "execute_result",
          "data": {
            "text/plain": [
              "[1, 1, 2, 1, 1]"
            ]
          },
          "metadata": {},
          "execution_count": 6
        }
      ]
    },
    {
      "cell_type": "code",
      "source": [
        "N = int(input())\n",
        "array = list(map(int, input().split()))\n",
        "if array == array.sort() or array == array.sort(reverse=True):\n",
        "    print('yes')\n",
        "else:\n",
        "    print('no')"
      ],
      "metadata": {
        "colab": {
          "base_uri": "https://localhost:8080/"
        },
        "id": "0GBzPsGIBM2W",
        "outputId": "0473068b-1b86-4c7e-90bd-bbcfb1a4c8dd"
      },
      "execution_count": null,
      "outputs": [
        {
          "output_type": "stream",
          "name": "stdout",
          "text": [
            "3\n",
            "2 3 7\n",
            "no\n"
          ]
        }
      ]
    },
    {
      "cell_type": "code",
      "source": [
        "import numpy as np\n",
        "np.arange(0,100+1,0.1)\n",
        "np.linspace(1,4,6)\n",
        "np.eye(3,5)"
      ],
      "metadata": {
        "colab": {
          "base_uri": "https://localhost:8080/"
        },
        "id": "Xvia2Dn-6BXo",
        "outputId": "0e00c146-47fc-40d1-f7b0-87c0962fe309"
      },
      "execution_count": null,
      "outputs": [
        {
          "output_type": "execute_result",
          "data": {
            "text/plain": [
              "array([[1., 0., 0., 0., 0.],\n",
              "       [0., 1., 0., 0., 0.],\n",
              "       [0., 0., 1., 0., 0.]])"
            ]
          },
          "metadata": {},
          "execution_count": 11
        }
      ]
    },
    {
      "cell_type": "code",
      "source": [
        "np.diag([1, 2, 3],0)"
      ],
      "metadata": {
        "colab": {
          "base_uri": "https://localhost:8080/"
        },
        "id": "0o0Xm-OfMO9m",
        "outputId": "d62aedff-da1b-4802-c73f-42fc4eb954bd"
      },
      "execution_count": null,
      "outputs": [
        {
          "output_type": "execute_result",
          "data": {
            "text/plain": [
              "array([[1, 0, 0],\n",
              "       [0, 2, 0],\n",
              "       [0, 0, 3]])"
            ]
          },
          "metadata": {},
          "execution_count": 17
        }
      ]
    },
    {
      "cell_type": "code",
      "source": [
        "np.vander([1, 2, 4, 5],6)"
      ],
      "metadata": {
        "colab": {
          "base_uri": "https://localhost:8080/"
        },
        "id": "Q9veSBQtN4QX",
        "outputId": "d301124f-c07b-4532-d841-a448d0536284"
      },
      "execution_count": null,
      "outputs": [
        {
          "output_type": "execute_result",
          "data": {
            "text/plain": [
              "array([[   1,    1,    1,    1,    1,    1],\n",
              "       [  32,   16,    8,    4,    2,    1],\n",
              "       [1024,  256,   64,   16,    4,    1],\n",
              "       [3125,  625,  125,   25,    5,    1]])"
            ]
          },
          "metadata": {},
          "execution_count": 26
        }
      ]
    },
    {
      "cell_type": "code",
      "source": [
        "np.zeros((2,3))"
      ],
      "metadata": {
        "colab": {
          "base_uri": "https://localhost:8080/"
        },
        "id": "UvEtoIVcRw2I",
        "outputId": "0612ad02-9851-4960-a551-4abd96bfa4fe"
      },
      "execution_count": null,
      "outputs": [
        {
          "output_type": "execute_result",
          "data": {
            "text/plain": [
              "array([[0., 0., 0.],\n",
              "       [0., 0., 0.]])"
            ]
          },
          "metadata": {},
          "execution_count": 28
        }
      ]
    },
    {
      "cell_type": "code",
      "source": [
        "np.ones((2,3,2))"
      ],
      "metadata": {
        "colab": {
          "base_uri": "https://localhost:8080/"
        },
        "id": "_VbXx_fKR6D-",
        "outputId": "7407395e-2344-4107-e285-9b914c97f981"
      },
      "execution_count": null,
      "outputs": [
        {
          "output_type": "execute_result",
          "data": {
            "text/plain": [
              "array([[[1., 1.],\n",
              "        [1., 1.],\n",
              "        [1., 1.]],\n",
              "\n",
              "       [[1., 1.],\n",
              "        [1., 1.],\n",
              "        [1., 1.]]])"
            ]
          },
          "metadata": {},
          "execution_count": 29
        }
      ]
    },
    {
      "cell_type": "code",
      "source": [
        "from numpy.random import default_rng\n",
        "\n",
        "default_rng(10).random((2,3,2))"
      ],
      "metadata": {
        "colab": {
          "base_uri": "https://localhost:8080/"
        },
        "id": "mv2sL7eNS-ND",
        "outputId": "2550984c-2c13-48ad-89fc-0ef8a94e6e4b"
      },
      "execution_count": null,
      "outputs": [
        {
          "output_type": "execute_result",
          "data": {
            "text/plain": [
              "array([[[0.95600171, 0.20768181],\n",
              "        [0.82844489, 0.14928212],\n",
              "        [0.51280462, 0.1359196 ]],\n",
              "\n",
              "       [[0.68903648, 0.84174772],\n",
              "        [0.425509  , 0.956926  ],\n",
              "        [0.82533291, 0.33821531]]])"
            ]
          },
          "metadata": {},
          "execution_count": 32
        }
      ]
    },
    {
      "cell_type": "code",
      "source": [
        "x = np.arange(10)\n",
        "x"
      ],
      "metadata": {
        "colab": {
          "base_uri": "https://localhost:8080/"
        },
        "id": "dYaDc2GxUfoU",
        "outputId": "006f210a-829d-421a-f6c9-1f99a47d25f1"
      },
      "execution_count": null,
      "outputs": [
        {
          "output_type": "execute_result",
          "data": {
            "text/plain": [
              "array([0, 1, 2, 3, 4, 5, 6, 7, 8, 9])"
            ]
          },
          "metadata": {},
          "execution_count": 34
        }
      ]
    },
    {
      "cell_type": "code",
      "source": [
        "print(x[-2:])"
      ],
      "metadata": {
        "colab": {
          "base_uri": "https://localhost:8080/"
        },
        "id": "6ZVCf41UUjdy",
        "outputId": "84ebfb78-c0d3-4d53-a3cf-bf05542804ef"
      },
      "execution_count": null,
      "outputs": [
        {
          "output_type": "stream",
          "name": "stdout",
          "text": [
            "[8 9]\n"
          ]
        }
      ]
    },
    {
      "cell_type": "code",
      "source": [
        "N = int(input())\n",
        "for i in range(N):\n",
        "  for _ in range()\n",
        "    print(' '.join(['*']))"
      ],
      "metadata": {
        "colab": {
          "base_uri": "https://localhost:8080/"
        },
        "id": "0HDlpEY2l0yM",
        "outputId": "de1f7f9c-4e3d-4b52-fbd0-bb17fd1f374e"
      },
      "execution_count": null,
      "outputs": [
        {
          "output_type": "stream",
          "name": "stdout",
          "text": [
            "5\n",
            "*\n",
            "*\n",
            "*\n",
            "*\n",
            "*\n"
          ]
        }
      ]
    },
    {
      "cell_type": "code",
      "source": [
        "R = int(input())\n",
        "my_list = []\n",
        "for i in range(0, R):\n",
        "  i = i+1\n",
        "  my_list.append(i)\n",
        "print(''.join(map(str, my_list)))\n",
        "for j in range (len(my_list)+1):\n",
        "  try:\n",
        "    my_list.pop()\n",
        "    print(''.join(map(str, my_list)))\n",
        "  except IndexError:\n",
        "    break\n"
      ],
      "metadata": {
        "colab": {
          "base_uri": "https://localhost:8080/"
        },
        "id": "KKxSgGBYF0DP",
        "outputId": "86a5f53c-32b6-4f0c-aed2-3f16e69d7c79"
      },
      "execution_count": null,
      "outputs": [
        {
          "output_type": "stream",
          "name": "stdout",
          "text": [
            "5\n",
            "12345\n",
            "1234\n",
            "123\n",
            "12\n",
            "1\n",
            "\n"
          ]
        }
      ]
    },
    {
      "cell_type": "code",
      "source": [
        "R = int(input())\n",
        "my_list = list(range(1, R + 1))\n",
        "\n",
        "for _ in range(R):\n",
        "    print(''.join(map(str, my_list)))\n",
        "    my_list.pop()"
      ],
      "metadata": {
        "colab": {
          "base_uri": "https://localhost:8080/"
        },
        "id": "ZAFsCAZmJY7E",
        "outputId": "9b5f73e7-e772-46d6-fa52-b0f4df98da72"
      },
      "execution_count": null,
      "outputs": [
        {
          "output_type": "stream",
          "name": "stdout",
          "text": [
            "5\n",
            "12345\n",
            "1234\n",
            "123\n",
            "12\n",
            "1\n"
          ]
        }
      ]
    },
    {
      "cell_type": "code",
      "source": [
        "def hollow_inverted_pyramid(R):\n",
        "    my_list = list(range(1, R + 1))\n",
        "    print(''.join(map(str, my_list)))\n",
        "    for i in range(R - 1):\n",
        "        my_list.pop()\n",
        "        if len(my_list) > 1:\n",
        "            print(my_list[0], end='')\n",
        "            for _ in range(len(my_list) - 2):\n",
        "                print(' ', end='')\n",
        "            print(my_list[-1])\n",
        "        else:\n",
        "            print(my_list[0])\n",
        "\n",
        "# Test the function\n",
        "R = int(input(\"Enter the number of rows: \"))\n",
        "hollow_inverted_pyramid(R)"
      ],
      "metadata": {
        "colab": {
          "base_uri": "https://localhost:8080/"
        },
        "id": "R2ShATG_KKRZ",
        "outputId": "4c9e475d-4e91-40a7-ab17-bdfddf0384fe"
      },
      "execution_count": null,
      "outputs": [
        {
          "output_type": "stream",
          "name": "stdout",
          "text": [
            "Enter the number of rows: 5\n",
            "12345\n",
            "1  4\n",
            "1 3\n",
            "12\n",
            "1\n"
          ]
        }
      ]
    },
    {
      "cell_type": "code",
      "source": [
        "def half_pyramid(R):\n",
        "    num_list = list(range(1, R + 1))\n",
        "    for i in range(R, 0, -1):\n",
        "        if (R - i) % 2 == 0:\n",
        "            print(''.join(map(str, num_list[:i])))\n",
        "        else:\n",
        "            print(''.join(map(str, num_list[:i][::-1])))\n",
        "\n",
        "# Test the function\n",
        "R = int(input(\"Enter the number of rows: \"))\n",
        "half_pyramid(R)\n"
      ],
      "metadata": {
        "colab": {
          "base_uri": "https://localhost:8080/"
        },
        "collapsed": true,
        "id": "Hui76PRGLo6s",
        "outputId": "3b858e2b-7d42-4886-8c26-abb49cdcae94"
      },
      "execution_count": null,
      "outputs": [
        {
          "output_type": "stream",
          "name": "stdout",
          "text": [
            "Enter the number of rows: 5\n",
            "12345\n",
            "4321\n",
            "123\n",
            "21\n",
            "1\n"
          ]
        }
      ]
    },
    {
      "cell_type": "code",
      "source": [
        "print(my_list[::-1])"
      ],
      "metadata": {
        "colab": {
          "base_uri": "https://localhost:8080/"
        },
        "id": "6Qi3WY05ObBE",
        "outputId": "1357b731-c1cf-43a5-833d-c856efbb21f9"
      },
      "execution_count": null,
      "outputs": [
        {
          "output_type": "stream",
          "name": "stdout",
          "text": [
            "[5, 4, 3, 2, 1]\n"
          ]
        }
      ]
    },
    {
      "cell_type": "code",
      "source": [
        "from math import sqrt\n",
        "\n",
        "is_prime = lambda n: n > 1 and all(n % i != 0 for i in range(2, int(sqrt(n)) + 1))\n",
        "\n",
        "count_primes = lambda L, R: sum(1 for i in range(L, R + 1) if is_prime(i))\n",
        "\n",
        "# Test the function\n",
        "L, R = map(int, input().split())\n",
        "print(count_primes(L, R))"
      ],
      "metadata": {
        "colab": {
          "base_uri": "https://localhost:8080/"
        },
        "id": "jdzpVr-OQ5OR",
        "outputId": "d242428e-80bf-40f2-f66c-afc54f91ab95"
      },
      "execution_count": null,
      "outputs": [
        {
          "output_type": "stream",
          "name": "stdout",
          "text": [
            "2 5\n",
            "3\n"
          ]
        }
      ]
    },
    {
      "cell_type": "markdown",
      "source": [
        "# Find duplicate user name"
      ],
      "metadata": {
        "id": "POxhG_VVbhkm"
      }
    },
    {
      "cell_type": "markdown",
      "source": [
        "# New Section"
      ],
      "metadata": {
        "id": "iRX41-iQevY6"
      }
    },
    {
      "cell_type": "code",
      "source": [
        "n = int(input())\n",
        "user_name = list(map(str, input().split()))"
      ],
      "metadata": {
        "colab": {
          "base_uri": "https://localhost:8080/"
        },
        "id": "w695xwhYUZjy",
        "outputId": "c29d89c0-889d-4180-e160-2884afeb16e3"
      },
      "execution_count": null,
      "outputs": [
        {
          "name": "stdout",
          "output_type": "stream",
          "text": [
            "4\n",
            "abc aab abc aba\n"
          ]
        }
      ]
    },
    {
      "cell_type": "code",
      "source": [
        "answer = []\n",
        "for i in range(0, n):\n",
        "  if i == 0:\n",
        "    answer.append(\"Verified\")\n",
        "  elif user_name[i] in user_name[:i]:\n",
        "    answer.append(user_name[i]+\"1\")\n",
        "  else:\n",
        "    answer.append(\"Verified\")\n",
        "\n",
        "print(*answer)"
      ],
      "metadata": {
        "colab": {
          "base_uri": "https://localhost:8080/"
        },
        "id": "lhUivJDYUoms",
        "outputId": "2671cd3b-9e36-4da0-c53f-cb2dbb4125de"
      },
      "execution_count": null,
      "outputs": [
        {
          "output_type": "stream",
          "name": "stdout",
          "text": [
            "Verified Verified abc1 Verified\n"
          ]
        }
      ]
    },
    {
      "cell_type": "markdown",
      "source": [
        "# pair of strings is panagram."
      ],
      "metadata": {
        "id": "BK9dV3y3FkC7"
      }
    },
    {
      "cell_type": "code",
      "source": [
        "S1, S2 = list(map(str, input().split()))"
      ],
      "metadata": {
        "colab": {
          "base_uri": "https://localhost:8080/"
        },
        "id": "pBKUeHUIFjM7",
        "outputId": "3ca0e7f5-2b83-4b53-ed75-aa2c8d6bfcf4"
      },
      "execution_count": null,
      "outputs": [
        {
          "name": "stdout",
          "output_type": "stream",
          "text": [
            "nitin intni\n"
          ]
        }
      ]
    },
    {
      "cell_type": "code",
      "source": [
        "S1"
      ],
      "metadata": {
        "colab": {
          "base_uri": "https://localhost:8080/",
          "height": 36
        },
        "id": "Pzxd51XhF0sy",
        "outputId": "5c0e8c81-7275-470f-fd97-2e9d69e293c2"
      },
      "execution_count": null,
      "outputs": [
        {
          "output_type": "execute_result",
          "data": {
            "text/plain": [
              "'nitin'"
            ],
            "application/vnd.google.colaboratory.intrinsic+json": {
              "type": "string"
            }
          },
          "metadata": {},
          "execution_count": 7
        }
      ]
    },
    {
      "cell_type": "code",
      "source": [
        "count_s1 = {}\n",
        "count_s2 = {}\n",
        "if len(S1) == len(S2):\n",
        "  for i in S1:\n",
        "    if i in count_s1:\n",
        "      count_s1[i] += 1\n",
        "    else:\n",
        "      count_s1[i] = 1\n",
        "  for i in S2:\n",
        "    if i in count_s2:\n",
        "      count_s2[i] += 1\n",
        "    else:\n",
        "      count_s2[i] = 1\n",
        "\n",
        "\n"
      ],
      "metadata": {
        "id": "Sb1oIVvMF9Lg"
      },
      "execution_count": null,
      "outputs": []
    },
    {
      "cell_type": "code",
      "source": [
        "count_s1"
      ],
      "metadata": {
        "colab": {
          "base_uri": "https://localhost:8080/"
        },
        "id": "wLkrhdo6GzL5",
        "outputId": "52f9e432-61af-401e-954e-88254a767987"
      },
      "execution_count": null,
      "outputs": [
        {
          "output_type": "execute_result",
          "data": {
            "text/plain": [
              "{'n': 2, 'i': 2, 't': 1}"
            ]
          },
          "metadata": {},
          "execution_count": 12
        }
      ]
    },
    {
      "cell_type": "code",
      "source": [
        "count_s2"
      ],
      "metadata": {
        "colab": {
          "base_uri": "https://localhost:8080/"
        },
        "id": "P77pUPuMG1YL",
        "outputId": "5fcac09a-4606-408c-e1c9-5c28ad39bb86"
      },
      "execution_count": null,
      "outputs": [
        {
          "output_type": "execute_result",
          "data": {
            "text/plain": [
              "{'i': 2, 'n': 2, 't': 1}"
            ]
          },
          "metadata": {},
          "execution_count": 13
        }
      ]
    },
    {
      "cell_type": "code",
      "source": [],
      "metadata": {
        "id": "9FOzieV-ewOG"
      },
      "execution_count": null,
      "outputs": []
    },
    {
      "cell_type": "code",
      "source": [
        "def count_up_to(n):\n",
        "    i = 1\n",
        "    while i <= n:\n",
        "        yield i\n",
        "        i += 1\n",
        "\n",
        "for number in count_up_to(5):\n",
        "    print(number)"
      ],
      "metadata": {
        "colab": {
          "base_uri": "https://localhost:8080/"
        },
        "id": "0lkkMOKlyMOr",
        "outputId": "4d320a69-c417-4b2f-8065-69e35fc36c5d"
      },
      "execution_count": null,
      "outputs": [
        {
          "output_type": "stream",
          "name": "stdout",
          "text": [
            "1\n",
            "2\n",
            "3\n",
            "4\n",
            "5\n"
          ]
        }
      ]
    },
    {
      "cell_type": "code",
      "source": [
        "N, P, K = list(map(int, input().split()))\n"
      ],
      "metadata": {
        "colab": {
          "base_uri": "https://localhost:8080/"
        },
        "id": "IUWywJaPqCtY",
        "outputId": "d39ed0f8-1d32-4c61-8b3f-116f4a3fe1cc"
      },
      "execution_count": null,
      "outputs": [
        {
          "name": "stdout",
          "output_type": "stream",
          "text": [
            "5765 2 1\n"
          ]
        }
      ]
    },
    {
      "cell_type": "code",
      "source": [
        "numbers = str(N)\n",
        "\n",
        "length = int(len(numbers))\n",
        "new_list = []\n",
        "for i in range(P-1, length):\n",
        "  new_list.append(numbers[i])\n",
        "\n",
        "print(int(new_list[K]))"
      ],
      "metadata": {
        "colab": {
          "base_uri": "https://localhost:8080/"
        },
        "id": "rIoO-a1qqTC9",
        "outputId": "386cc650-6ab4-4069-9b91-5a811a64fce8"
      },
      "execution_count": null,
      "outputs": [
        {
          "output_type": "stream",
          "name": "stdout",
          "text": [
            "6\n"
          ]
        }
      ]
    },
    {
      "cell_type": "markdown",
      "source": [],
      "metadata": {
        "id": "QIgqVFXruI7e"
      }
    },
    {
      "cell_type": "code",
      "source": [
        "S = input()"
      ],
      "metadata": {
        "colab": {
          "base_uri": "https://localhost:8080/"
        },
        "id": "R5gSapGDuD-4",
        "outputId": "47df4b47-8b32-4b56-edba-ef332bbef1a1"
      },
      "execution_count": null,
      "outputs": [
        {
          "name": "stdout",
          "output_type": "stream",
          "text": [
            "coding  platform\n"
          ]
        }
      ]
    },
    {
      "cell_type": "code",
      "source": [
        "if S.isspace:\n",
        "  print(' '.join(S.split()))\n",
        "else:\n",
        "  print(S)\n"
      ],
      "metadata": {
        "colab": {
          "base_uri": "https://localhost:8080/"
        },
        "id": "eEMhHDEWuMtI",
        "outputId": "2a5253f9-2b3d-4421-be3b-51ea5e92b446"
      },
      "execution_count": null,
      "outputs": [
        {
          "output_type": "stream",
          "name": "stdout",
          "text": [
            "coding platform\n"
          ]
        }
      ]
    },
    {
      "cell_type": "code",
      "source": [
        "text = \"  This   is   a   string   with   extra   spaces.  \"\n",
        "cleaned_text = ' '.join(text.split())\n",
        "print(cleaned_text)"
      ],
      "metadata": {
        "colab": {
          "base_uri": "https://localhost:8080/"
        },
        "id": "IAtZzQnbw2tS",
        "outputId": "fda72bb4-180b-4bc4-e052-dd8373011875"
      },
      "execution_count": null,
      "outputs": [
        {
          "output_type": "stream",
          "name": "stdout",
          "text": [
            "This is a string with extra spaces.\n"
          ]
        }
      ]
    },
    {
      "cell_type": "code",
      "source": [
        "N = int(input())\n",
        "my_list = []\n",
        "for i in range(N):\n",
        "  words = input()\n",
        "  my_list.append(words)"
      ],
      "metadata": {
        "colab": {
          "base_uri": "https://localhost:8080/"
        },
        "id": "vialKHcx0BYO",
        "outputId": "9ff11940-73b0-4912-991a-ad3bef9476a3"
      },
      "execution_count": null,
      "outputs": [
        {
          "name": "stdout",
          "output_type": "stream",
          "text": [
            "5\n",
            "code\n",
            "overload\n",
            "vishal\n",
            "sundar\n",
            "anish\n"
          ]
        }
      ]
    },
    {
      "cell_type": "code",
      "source": [
        "my_list"
      ],
      "metadata": {
        "colab": {
          "base_uri": "https://localhost:8080/"
        },
        "id": "ORWtLGrS0wCe",
        "outputId": "46fb35fd-d9e2-43b5-ecf5-8425b99d014f"
      },
      "execution_count": null,
      "outputs": [
        {
          "output_type": "execute_result",
          "data": {
            "text/plain": [
              "['code', 'overload', 'vishal', 'sundar', 'anish']"
            ]
          },
          "metadata": {},
          "execution_count": 35
        }
      ]
    },
    {
      "cell_type": "code",
      "source": [
        "result = []\n",
        "\n",
        "for j in range(N-1):\n",
        "  if my_list[j] == my_list[j+1]:\n",
        "    result.append(my_list[j])\n",
        "\n",
        "if len(result) > 0:\n",
        "  print(*result)\n",
        "else:\n",
        "  print('no')\n"
      ],
      "metadata": {
        "colab": {
          "base_uri": "https://localhost:8080/"
        },
        "id": "4v__deeq0xsF",
        "outputId": "a990a6d7-b371-439a-9eb5-b009e2c399a0"
      },
      "execution_count": null,
      "outputs": [
        {
          "output_type": "stream",
          "name": "stdout",
          "text": [
            "no\n"
          ]
        }
      ]
    },
    {
      "cell_type": "code",
      "source": [
        "S = input()"
      ],
      "metadata": {
        "id": "DFqwcxQ_0Y5U",
        "outputId": "824c85af-c67f-40e1-8b12-ac3eb7e9a42d",
        "colab": {
          "base_uri": "https://localhost:8080/"
        }
      },
      "execution_count": null,
      "outputs": [
        {
          "name": "stdout",
          "output_type": "stream",
          "text": [
            "aaaaa\n"
          ]
        }
      ]
    },
    {
      "cell_type": "code",
      "source": [
        "print(*S)"
      ],
      "metadata": {
        "id": "ks5PyNVo3ZWb",
        "outputId": "cdc0edbb-c31a-4cb3-ef4f-70e62a62e829",
        "colab": {
          "base_uri": "https://localhost:8080/"
        }
      },
      "execution_count": null,
      "outputs": [
        {
          "output_type": "stream",
          "name": "stdout",
          "text": [
            "a a p l e\n"
          ]
        }
      ]
    },
    {
      "cell_type": "code",
      "source": [
        "answer = []\n",
        "for i in range(len(S)-1):\n",
        "  if S[i] != S[i+1]:\n",
        "    answer.append(S[i+1])\n",
        "  elif S[i+1] != S[i+2]:\n",
        "    answer.append(S[i+2])\n",
        "  else:\n",
        "    break\n",
        "\n",
        "if len(answer) == 0:\n",
        "  print(-1)\n",
        "else:\n",
        "  print(*answer[0])\n"
      ],
      "metadata": {
        "id": "D20ScVX_0r6t",
        "outputId": "84a80244-4673-4d14-8489-25b15ec56c5c",
        "colab": {
          "base_uri": "https://localhost:8080/"
        }
      },
      "execution_count": null,
      "outputs": [
        {
          "output_type": "stream",
          "name": "stdout",
          "text": [
            "-1\n"
          ]
        }
      ]
    },
    {
      "cell_type": "code",
      "source": [
        "S1, S2 = list(map(str, input().split()))"
      ],
      "metadata": {
        "id": "rp2C_5gr7zqG",
        "outputId": "14f2a296-7bac-4ea9-ff6b-f857743a48ea",
        "colab": {
          "base_uri": "https://localhost:8080/"
        }
      },
      "execution_count": null,
      "outputs": [
        {
          "name": "stdout",
          "output_type": "stream",
          "text": [
            "codekata code\n"
          ]
        }
      ]
    },
    {
      "cell_type": "code",
      "source": [
        "S1"
      ],
      "metadata": {
        "id": "E_C2i-Ey7_eV",
        "outputId": "de852924-ab20-4979-825c-941b9d50e640",
        "colab": {
          "base_uri": "https://localhost:8080/",
          "height": 36
        }
      },
      "execution_count": null,
      "outputs": [
        {
          "output_type": "execute_result",
          "data": {
            "text/plain": [
              "'codekata'"
            ],
            "application/vnd.google.colaboratory.intrinsic+json": {
              "type": "string"
            }
          },
          "metadata": {},
          "execution_count": 56
        }
      ]
    },
    {
      "cell_type": "code",
      "source": [
        "S1_length = int(len(S1)/2)\n",
        "S1_length"
      ],
      "metadata": {
        "id": "i0NDOHC98Hi7",
        "outputId": "b7d7bebe-ebbe-4331-8e33-4f78465fc998",
        "colab": {
          "base_uri": "https://localhost:8080/"
        }
      },
      "execution_count": null,
      "outputs": [
        {
          "output_type": "execute_result",
          "data": {
            "text/plain": [
              "4"
            ]
          },
          "metadata": {},
          "execution_count": 64
        }
      ]
    },
    {
      "cell_type": "code",
      "source": [
        "S2_length = len(S2)"
      ],
      "metadata": {
        "id": "99hn1XBe8R49"
      },
      "execution_count": null,
      "outputs": []
    },
    {
      "cell_type": "code",
      "source": [
        "answer1 = S1[:S1_length]\n",
        "answer1"
      ],
      "metadata": {
        "id": "O7zmnT-18rxg",
        "outputId": "0e442896-ebba-469a-bdd0-58d180e60d5f",
        "colab": {
          "base_uri": "https://localhost:8080/",
          "height": 36
        }
      },
      "execution_count": null,
      "outputs": [
        {
          "output_type": "execute_result",
          "data": {
            "text/plain": [
              "'code'"
            ],
            "application/vnd.google.colaboratory.intrinsic+json": {
              "type": "string"
            }
          },
          "metadata": {},
          "execution_count": 66
        }
      ]
    },
    {
      "cell_type": "code",
      "source": [
        "S1[S1_length:]"
      ],
      "metadata": {
        "id": "4Kll1_UX9_u4",
        "outputId": "729c92ae-1f27-46c2-c084-0b1a4edae62e",
        "colab": {
          "base_uri": "https://localhost:8080/",
          "height": 36
        }
      },
      "execution_count": null,
      "outputs": [
        {
          "output_type": "execute_result",
          "data": {
            "text/plain": [
              "'kata'"
            ],
            "application/vnd.google.colaboratory.intrinsic+json": {
              "type": "string"
            }
          },
          "metadata": {},
          "execution_count": 70
        }
      ]
    },
    {
      "cell_type": "code",
      "source": [
        "if S1[:S1_length] == S2:\n",
        "  print('yes')\n",
        "else:\n",
        "  print('no')\n"
      ],
      "metadata": {
        "id": "uH2HZFkC8Xu_",
        "outputId": "d74f882c-1df0-41ba-f8b9-81bcb4bafe05",
        "colab": {
          "base_uri": "https://localhost:8080/"
        }
      },
      "execution_count": null,
      "outputs": [
        {
          "output_type": "stream",
          "name": "stdout",
          "text": [
            "yes\n"
          ]
        }
      ]
    },
    {
      "cell_type": "code",
      "source": [
        "S, K = list(map(str, input().split()))\n",
        "K = int(K)"
      ],
      "metadata": {
        "id": "s4zCkVHI_c4t",
        "outputId": "0189cc69-3225-4539-f57b-358633eb3e61",
        "colab": {
          "base_uri": "https://localhost:8080/"
        }
      },
      "execution_count": null,
      "outputs": [
        {
          "name": "stdout",
          "output_type": "stream",
          "text": [
            "string 2\n"
          ]
        }
      ]
    },
    {
      "cell_type": "code",
      "source": [
        "print(type(K))"
      ],
      "metadata": {
        "id": "4xdFPUH4_vPC",
        "outputId": "26ac433f-28bf-4d44-944d-414bd4aa5414",
        "colab": {
          "base_uri": "https://localhost:8080/"
        }
      },
      "execution_count": null,
      "outputs": [
        {
          "output_type": "stream",
          "name": "stdout",
          "text": [
            "<class 'int'>\n"
          ]
        }
      ]
    },
    {
      "cell_type": "code",
      "source": [
        "count = int(K) - 1\n",
        "answer = []\n",
        "for i in range(0, len(S)):\n",
        "  if i == count:\n",
        "    answer.append(S[i].upper())\n",
        "    count += K\n",
        "  else:\n",
        "    answer.append(S[i])\n",
        "\n",
        "print(''.join(answer))\n"
      ],
      "metadata": {
        "id": "f1ZtVFGm_4BD",
        "outputId": "47396994-94e3-4fb4-e083-6f0b0e86268f",
        "colab": {
          "base_uri": "https://localhost:8080/"
        }
      },
      "execution_count": null,
      "outputs": [
        {
          "output_type": "stream",
          "name": "stdout",
          "text": [
            "sTrInG\n"
          ]
        }
      ]
    },
    {
      "cell_type": "code",
      "source": [
        "number = input()\n",
        "my_list = []\n",
        "for i in number:\n",
        "  my_list.append(i)\n",
        "\n"
      ],
      "metadata": {
        "id": "N6fof2FuCWwF",
        "outputId": "a45b1fd2-5136-4345-9913-dbd79570edd3",
        "colab": {
          "base_uri": "https://localhost:8080/"
        }
      },
      "execution_count": null,
      "outputs": [
        {
          "name": "stdout",
          "output_type": "stream",
          "text": [
            "4123\n"
          ]
        }
      ]
    },
    {
      "cell_type": "code",
      "source": [
        "my_list"
      ],
      "metadata": {
        "id": "_S5N0zo4CyDw",
        "outputId": "27099ddf-64a7-408b-c1ab-3cc958feb8b5",
        "colab": {
          "base_uri": "https://localhost:8080/"
        }
      },
      "execution_count": null,
      "outputs": [
        {
          "output_type": "execute_result",
          "data": {
            "text/plain": [
              "['4', '3', '2', '1']"
            ]
          },
          "metadata": {},
          "execution_count": 91
        }
      ]
    },
    {
      "cell_type": "code",
      "source": [
        "my_list.sort(reverse=True)"
      ],
      "metadata": {
        "id": "4JeN6PocC1Mr"
      },
      "execution_count": null,
      "outputs": []
    },
    {
      "cell_type": "code",
      "source": [
        "S = input()"
      ],
      "metadata": {
        "id": "tLfYrVnRC80p",
        "outputId": "ae09063d-69ce-44f9-d9d4-56d7110fefe2",
        "colab": {
          "base_uri": "https://localhost:8080/"
        }
      },
      "execution_count": null,
      "outputs": [
        {
          "name": "stdout",
          "output_type": "stream",
          "text": [
            "codekata\n"
          ]
        }
      ]
    },
    {
      "cell_type": "code",
      "source": [
        "my_list = {}\n",
        "for i in S:\n",
        "  if i in my_list:\n",
        "    my_list[i] += 1\n",
        "  else:\n",
        "    my_list[i] = 1\n",
        "\n",
        "count_elements = [count for i, count in my_list.items() if count > 1]\n",
        "if len(count_elements) >= 1:\n",
        "  print(max(count_elements))\n",
        "else:\n",
        "  print(0)"
      ],
      "metadata": {
        "id": "VoM3DwbqVAM3",
        "outputId": "f3a8b2ab-0f83-46f0-f37b-fc16568de568",
        "colab": {
          "base_uri": "https://localhost:8080/"
        }
      },
      "execution_count": null,
      "outputs": [
        {
          "output_type": "stream",
          "name": "stdout",
          "text": [
            "2\n"
          ]
        }
      ]
    },
    {
      "cell_type": "code",
      "source": [
        "from collections import Counter\n",
        "\n",
        "def least_repeated_chars(s):\n",
        "    s = s.replace(' ', '')\n",
        "    char_count = Counter(s)\n",
        "    min_freq = min(char_count.values())\n",
        "    result = ''\n",
        "    for char in s:\n",
        "        if char_count[char] == min_freq:\n",
        "            result += char\n",
        "            char_count[char] = float('inf')  # mark as processed\n",
        "    return result\n",
        "\n",
        "s = input()\n",
        "print(least_repeated_chars(s))"
      ],
      "metadata": {
        "id": "o60Sq8QuiHfh",
        "outputId": "5e3e0fd7-2175-47ff-9d28-84aa244409b7",
        "colab": {
          "base_uri": "https://localhost:8080/"
        }
      },
      "execution_count": null,
      "outputs": [
        {
          "output_type": "stream",
          "name": "stdout",
          "text": [
            "codeKata challenge\n",
            "odKthng\n"
          ]
        }
      ]
    },
    {
      "cell_type": "code",
      "source": [
        "number = int(input())\n",
        "number = str(number)\n",
        "answer = 0\n",
        "for i in number:\n",
        "  answer += (int(i) ** 2)\n",
        "\n",
        "print(answer)\n"
      ],
      "metadata": {
        "id": "vVPhG70iloyN",
        "outputId": "5c1b801b-aa71-41ef-e403-e540422dfefd",
        "colab": {
          "base_uri": "https://localhost:8080/"
        }
      },
      "execution_count": null,
      "outputs": [
        {
          "output_type": "stream",
          "name": "stdout",
          "text": [
            "19\n",
            "82\n"
          ]
        }
      ]
    },
    {
      "cell_type": "code",
      "source": [
        "N, K = list(map(str, input().split()))\n",
        "K = int(K)\n",
        "N = N[:K]\n",
        "answer = []\n",
        "for i in N:\n",
        "  if i.isdigit:\n",
        "    answer.append(i)\n",
        "  else:\n",
        "    continue\n",
        "\n",
        "if len(answer) == K :\n",
        "  print('yes')\n",
        "else:\n",
        "  print('no')\n",
        "\n",
        "\n"
      ],
      "metadata": {
        "id": "JaTOV4IEnhvf",
        "outputId": "60488e21-4e2a-48a1-d8c6-9dc6b39cdbf2",
        "colab": {
          "base_uri": "https://localhost:8080/"
        }
      },
      "execution_count": null,
      "outputs": [
        {
          "output_type": "stream",
          "name": "stdout",
          "text": [
            "1234034 4\n",
            "yes\n"
          ]
        }
      ]
    },
    {
      "cell_type": "code",
      "source": [
        "N = int(input())\n",
        "elements = list(map(int, input().split()))\n",
        "\n",
        "answer = 0\n",
        "result = []\n",
        "for i in elements:\n",
        "  answer += i\n",
        "  result.append(answer)\n",
        "\n"
      ],
      "metadata": {
        "id": "VIy6UMETusqD",
        "outputId": "f0d10ef8-88d8-4b7e-c8f2-0232c6cf9005",
        "colab": {
          "base_uri": "https://localhost:8080/"
        }
      },
      "execution_count": null,
      "outputs": [
        {
          "name": "stdout",
          "output_type": "stream",
          "text": [
            "4\n",
            "2 4 4 2\n"
          ]
        }
      ]
    },
    {
      "cell_type": "code",
      "source": [
        "print(' '.join(map(str, result)))"
      ],
      "metadata": {
        "id": "wDcv4Q3WwWKS",
        "outputId": "7f50445c-d4e9-4a18-d4ac-f6158b29111c",
        "colab": {
          "base_uri": "https://localhost:8080/"
        }
      },
      "execution_count": null,
      "outputs": [
        {
          "output_type": "stream",
          "name": "stdout",
          "text": [
            "2 6 10 12\n"
          ]
        }
      ]
    },
    {
      "cell_type": "code",
      "source": [
        "numbers = [2, 4, 6, 8]\n",
        "numbers[-1:]"
      ],
      "metadata": {
        "id": "Gqg9yBDHwxAw",
        "outputId": "46cec6f7-5629-455f-84de-00e9321aa7d8",
        "colab": {
          "base_uri": "https://localhost:8080/"
        }
      },
      "execution_count": null,
      "outputs": [
        {
          "output_type": "execute_result",
          "data": {
            "text/plain": [
              "[8]"
            ]
          },
          "metadata": {},
          "execution_count": 55
        }
      ]
    },
    {
      "cell_type": "code",
      "source": [
        "date = input()"
      ],
      "metadata": {
        "id": "j2E-YW9p0w84",
        "outputId": "e2997163-4ffb-485f-d223-7c0139ce0dc5",
        "colab": {
          "base_uri": "https://localhost:8080/"
        }
      },
      "execution_count": null,
      "outputs": [
        {
          "name": "stdout",
          "output_type": "stream",
          "text": [
            "01-01-2018\n"
          ]
        }
      ]
    },
    {
      "cell_type": "code",
      "source": [
        "import pandas as pd\n",
        "\n",
        "date = input()\n",
        "\n",
        "pd.to_datetime(date)\n",
        "\n",
        "# dd-mm-yyyy month format\n",
        "month_name = pd.to_datetime(date, format='%d-%m-%Y').strftime('%B')\n",
        "\n",
        "print(month_name)"
      ],
      "metadata": {
        "id": "B_fSX_8s1fBy",
        "outputId": "ac34119a-0783-4c5e-aced-2f75f937ed58",
        "colab": {
          "base_uri": "https://localhost:8080/"
        }
      },
      "execution_count": null,
      "outputs": [
        {
          "output_type": "stream",
          "name": "stdout",
          "text": [
            "01-02-2025\n",
            "February\n"
          ]
        }
      ]
    },
    {
      "cell_type": "markdown",
      "source": [
        "# Machine Learning"
      ],
      "metadata": {
        "id": "IBYnr3SFCBQV"
      }
    },
    {
      "cell_type": "markdown",
      "source": [
        "**Regression**"
      ],
      "metadata": {
        "id": "buTZbJPpCPDW"
      }
    },
    {
      "cell_type": "markdown",
      "source": [
        "**Linear Regression**"
      ],
      "metadata": {
        "id": "1XWzatwsCVKC"
      }
    },
    {
      "cell_type": "code",
      "source": [
        "Age = [1, 2, 3, 4, 5, 6, 7, 8, 9, 10]\n",
        "Salary = [100, 200, 300, 400, 500, 600, 700, 800, 900, 1000]"
      ],
      "metadata": {
        "id": "S1keW4FUCZBv"
      },
      "execution_count": 1,
      "outputs": []
    },
    {
      "cell_type": "code",
      "source": [
        "import pandas as pd\n",
        "df = pd.DataFrame({'Age':Age, 'Salary':Salary})\n",
        "df"
      ],
      "metadata": {
        "id": "6kzXHVpUC5Az",
        "outputId": "62d5665c-f96d-4d71-8815-88375db16327",
        "colab": {
          "base_uri": "https://localhost:8080/",
          "height": 363
        }
      },
      "execution_count": 5,
      "outputs": [
        {
          "output_type": "execute_result",
          "data": {
            "text/plain": [
              "   Age  Salary\n",
              "0    1     100\n",
              "1    2     200\n",
              "2    3     300\n",
              "3    4     400\n",
              "4    5     500\n",
              "5    6     600\n",
              "6    7     700\n",
              "7    8     800\n",
              "8    9     900\n",
              "9   10    1000"
            ],
            "text/html": [
              "\n",
              "  <div id=\"df-d1c1ae52-46b4-42b8-93f3-dbae95639ec1\" class=\"colab-df-container\">\n",
              "    <div>\n",
              "<style scoped>\n",
              "    .dataframe tbody tr th:only-of-type {\n",
              "        vertical-align: middle;\n",
              "    }\n",
              "\n",
              "    .dataframe tbody tr th {\n",
              "        vertical-align: top;\n",
              "    }\n",
              "\n",
              "    .dataframe thead th {\n",
              "        text-align: right;\n",
              "    }\n",
              "</style>\n",
              "<table border=\"1\" class=\"dataframe\">\n",
              "  <thead>\n",
              "    <tr style=\"text-align: right;\">\n",
              "      <th></th>\n",
              "      <th>Age</th>\n",
              "      <th>Salary</th>\n",
              "    </tr>\n",
              "  </thead>\n",
              "  <tbody>\n",
              "    <tr>\n",
              "      <th>0</th>\n",
              "      <td>1</td>\n",
              "      <td>100</td>\n",
              "    </tr>\n",
              "    <tr>\n",
              "      <th>1</th>\n",
              "      <td>2</td>\n",
              "      <td>200</td>\n",
              "    </tr>\n",
              "    <tr>\n",
              "      <th>2</th>\n",
              "      <td>3</td>\n",
              "      <td>300</td>\n",
              "    </tr>\n",
              "    <tr>\n",
              "      <th>3</th>\n",
              "      <td>4</td>\n",
              "      <td>400</td>\n",
              "    </tr>\n",
              "    <tr>\n",
              "      <th>4</th>\n",
              "      <td>5</td>\n",
              "      <td>500</td>\n",
              "    </tr>\n",
              "    <tr>\n",
              "      <th>5</th>\n",
              "      <td>6</td>\n",
              "      <td>600</td>\n",
              "    </tr>\n",
              "    <tr>\n",
              "      <th>6</th>\n",
              "      <td>7</td>\n",
              "      <td>700</td>\n",
              "    </tr>\n",
              "    <tr>\n",
              "      <th>7</th>\n",
              "      <td>8</td>\n",
              "      <td>800</td>\n",
              "    </tr>\n",
              "    <tr>\n",
              "      <th>8</th>\n",
              "      <td>9</td>\n",
              "      <td>900</td>\n",
              "    </tr>\n",
              "    <tr>\n",
              "      <th>9</th>\n",
              "      <td>10</td>\n",
              "      <td>1000</td>\n",
              "    </tr>\n",
              "  </tbody>\n",
              "</table>\n",
              "</div>\n",
              "    <div class=\"colab-df-buttons\">\n",
              "\n",
              "  <div class=\"colab-df-container\">\n",
              "    <button class=\"colab-df-convert\" onclick=\"convertToInteractive('df-d1c1ae52-46b4-42b8-93f3-dbae95639ec1')\"\n",
              "            title=\"Convert this dataframe to an interactive table.\"\n",
              "            style=\"display:none;\">\n",
              "\n",
              "  <svg xmlns=\"http://www.w3.org/2000/svg\" height=\"24px\" viewBox=\"0 -960 960 960\">\n",
              "    <path d=\"M120-120v-720h720v720H120Zm60-500h600v-160H180v160Zm220 220h160v-160H400v160Zm0 220h160v-160H400v160ZM180-400h160v-160H180v160Zm440 0h160v-160H620v160ZM180-180h160v-160H180v160Zm440 0h160v-160H620v160Z\"/>\n",
              "  </svg>\n",
              "    </button>\n",
              "\n",
              "  <style>\n",
              "    .colab-df-container {\n",
              "      display:flex;\n",
              "      gap: 12px;\n",
              "    }\n",
              "\n",
              "    .colab-df-convert {\n",
              "      background-color: #E8F0FE;\n",
              "      border: none;\n",
              "      border-radius: 50%;\n",
              "      cursor: pointer;\n",
              "      display: none;\n",
              "      fill: #1967D2;\n",
              "      height: 32px;\n",
              "      padding: 0 0 0 0;\n",
              "      width: 32px;\n",
              "    }\n",
              "\n",
              "    .colab-df-convert:hover {\n",
              "      background-color: #E2EBFA;\n",
              "      box-shadow: 0px 1px 2px rgba(60, 64, 67, 0.3), 0px 1px 3px 1px rgba(60, 64, 67, 0.15);\n",
              "      fill: #174EA6;\n",
              "    }\n",
              "\n",
              "    .colab-df-buttons div {\n",
              "      margin-bottom: 4px;\n",
              "    }\n",
              "\n",
              "    [theme=dark] .colab-df-convert {\n",
              "      background-color: #3B4455;\n",
              "      fill: #D2E3FC;\n",
              "    }\n",
              "\n",
              "    [theme=dark] .colab-df-convert:hover {\n",
              "      background-color: #434B5C;\n",
              "      box-shadow: 0px 1px 3px 1px rgba(0, 0, 0, 0.15);\n",
              "      filter: drop-shadow(0px 1px 2px rgba(0, 0, 0, 0.3));\n",
              "      fill: #FFFFFF;\n",
              "    }\n",
              "  </style>\n",
              "\n",
              "    <script>\n",
              "      const buttonEl =\n",
              "        document.querySelector('#df-d1c1ae52-46b4-42b8-93f3-dbae95639ec1 button.colab-df-convert');\n",
              "      buttonEl.style.display =\n",
              "        google.colab.kernel.accessAllowed ? 'block' : 'none';\n",
              "\n",
              "      async function convertToInteractive(key) {\n",
              "        const element = document.querySelector('#df-d1c1ae52-46b4-42b8-93f3-dbae95639ec1');\n",
              "        const dataTable =\n",
              "          await google.colab.kernel.invokeFunction('convertToInteractive',\n",
              "                                                    [key], {});\n",
              "        if (!dataTable) return;\n",
              "\n",
              "        const docLinkHtml = 'Like what you see? Visit the ' +\n",
              "          '<a target=\"_blank\" href=https://colab.research.google.com/notebooks/data_table.ipynb>data table notebook</a>'\n",
              "          + ' to learn more about interactive tables.';\n",
              "        element.innerHTML = '';\n",
              "        dataTable['output_type'] = 'display_data';\n",
              "        await google.colab.output.renderOutput(dataTable, element);\n",
              "        const docLink = document.createElement('div');\n",
              "        docLink.innerHTML = docLinkHtml;\n",
              "        element.appendChild(docLink);\n",
              "      }\n",
              "    </script>\n",
              "  </div>\n",
              "\n",
              "\n",
              "    <div id=\"df-23a95b21-1eab-4b4d-aea6-3a0cc4dc9419\">\n",
              "      <button class=\"colab-df-quickchart\" onclick=\"quickchart('df-23a95b21-1eab-4b4d-aea6-3a0cc4dc9419')\"\n",
              "                title=\"Suggest charts\"\n",
              "                style=\"display:none;\">\n",
              "\n",
              "<svg xmlns=\"http://www.w3.org/2000/svg\" height=\"24px\"viewBox=\"0 0 24 24\"\n",
              "     width=\"24px\">\n",
              "    <g>\n",
              "        <path d=\"M19 3H5c-1.1 0-2 .9-2 2v14c0 1.1.9 2 2 2h14c1.1 0 2-.9 2-2V5c0-1.1-.9-2-2-2zM9 17H7v-7h2v7zm4 0h-2V7h2v10zm4 0h-2v-4h2v4z\"/>\n",
              "    </g>\n",
              "</svg>\n",
              "      </button>\n",
              "\n",
              "<style>\n",
              "  .colab-df-quickchart {\n",
              "      --bg-color: #E8F0FE;\n",
              "      --fill-color: #1967D2;\n",
              "      --hover-bg-color: #E2EBFA;\n",
              "      --hover-fill-color: #174EA6;\n",
              "      --disabled-fill-color: #AAA;\n",
              "      --disabled-bg-color: #DDD;\n",
              "  }\n",
              "\n",
              "  [theme=dark] .colab-df-quickchart {\n",
              "      --bg-color: #3B4455;\n",
              "      --fill-color: #D2E3FC;\n",
              "      --hover-bg-color: #434B5C;\n",
              "      --hover-fill-color: #FFFFFF;\n",
              "      --disabled-bg-color: #3B4455;\n",
              "      --disabled-fill-color: #666;\n",
              "  }\n",
              "\n",
              "  .colab-df-quickchart {\n",
              "    background-color: var(--bg-color);\n",
              "    border: none;\n",
              "    border-radius: 50%;\n",
              "    cursor: pointer;\n",
              "    display: none;\n",
              "    fill: var(--fill-color);\n",
              "    height: 32px;\n",
              "    padding: 0;\n",
              "    width: 32px;\n",
              "  }\n",
              "\n",
              "  .colab-df-quickchart:hover {\n",
              "    background-color: var(--hover-bg-color);\n",
              "    box-shadow: 0 1px 2px rgba(60, 64, 67, 0.3), 0 1px 3px 1px rgba(60, 64, 67, 0.15);\n",
              "    fill: var(--button-hover-fill-color);\n",
              "  }\n",
              "\n",
              "  .colab-df-quickchart-complete:disabled,\n",
              "  .colab-df-quickchart-complete:disabled:hover {\n",
              "    background-color: var(--disabled-bg-color);\n",
              "    fill: var(--disabled-fill-color);\n",
              "    box-shadow: none;\n",
              "  }\n",
              "\n",
              "  .colab-df-spinner {\n",
              "    border: 2px solid var(--fill-color);\n",
              "    border-color: transparent;\n",
              "    border-bottom-color: var(--fill-color);\n",
              "    animation:\n",
              "      spin 1s steps(1) infinite;\n",
              "  }\n",
              "\n",
              "  @keyframes spin {\n",
              "    0% {\n",
              "      border-color: transparent;\n",
              "      border-bottom-color: var(--fill-color);\n",
              "      border-left-color: var(--fill-color);\n",
              "    }\n",
              "    20% {\n",
              "      border-color: transparent;\n",
              "      border-left-color: var(--fill-color);\n",
              "      border-top-color: var(--fill-color);\n",
              "    }\n",
              "    30% {\n",
              "      border-color: transparent;\n",
              "      border-left-color: var(--fill-color);\n",
              "      border-top-color: var(--fill-color);\n",
              "      border-right-color: var(--fill-color);\n",
              "    }\n",
              "    40% {\n",
              "      border-color: transparent;\n",
              "      border-right-color: var(--fill-color);\n",
              "      border-top-color: var(--fill-color);\n",
              "    }\n",
              "    60% {\n",
              "      border-color: transparent;\n",
              "      border-right-color: var(--fill-color);\n",
              "    }\n",
              "    80% {\n",
              "      border-color: transparent;\n",
              "      border-right-color: var(--fill-color);\n",
              "      border-bottom-color: var(--fill-color);\n",
              "    }\n",
              "    90% {\n",
              "      border-color: transparent;\n",
              "      border-bottom-color: var(--fill-color);\n",
              "    }\n",
              "  }\n",
              "</style>\n",
              "\n",
              "      <script>\n",
              "        async function quickchart(key) {\n",
              "          const quickchartButtonEl =\n",
              "            document.querySelector('#' + key + ' button');\n",
              "          quickchartButtonEl.disabled = true;  // To prevent multiple clicks.\n",
              "          quickchartButtonEl.classList.add('colab-df-spinner');\n",
              "          try {\n",
              "            const charts = await google.colab.kernel.invokeFunction(\n",
              "                'suggestCharts', [key], {});\n",
              "          } catch (error) {\n",
              "            console.error('Error during call to suggestCharts:', error);\n",
              "          }\n",
              "          quickchartButtonEl.classList.remove('colab-df-spinner');\n",
              "          quickchartButtonEl.classList.add('colab-df-quickchart-complete');\n",
              "        }\n",
              "        (() => {\n",
              "          let quickchartButtonEl =\n",
              "            document.querySelector('#df-23a95b21-1eab-4b4d-aea6-3a0cc4dc9419 button');\n",
              "          quickchartButtonEl.style.display =\n",
              "            google.colab.kernel.accessAllowed ? 'block' : 'none';\n",
              "        })();\n",
              "      </script>\n",
              "    </div>\n",
              "\n",
              "  <div id=\"id_af6dc388-1af8-4a2c-bfc1-ca16977e9d35\">\n",
              "    <style>\n",
              "      .colab-df-generate {\n",
              "        background-color: #E8F0FE;\n",
              "        border: none;\n",
              "        border-radius: 50%;\n",
              "        cursor: pointer;\n",
              "        display: none;\n",
              "        fill: #1967D2;\n",
              "        height: 32px;\n",
              "        padding: 0 0 0 0;\n",
              "        width: 32px;\n",
              "      }\n",
              "\n",
              "      .colab-df-generate:hover {\n",
              "        background-color: #E2EBFA;\n",
              "        box-shadow: 0px 1px 2px rgba(60, 64, 67, 0.3), 0px 1px 3px 1px rgba(60, 64, 67, 0.15);\n",
              "        fill: #174EA6;\n",
              "      }\n",
              "\n",
              "      [theme=dark] .colab-df-generate {\n",
              "        background-color: #3B4455;\n",
              "        fill: #D2E3FC;\n",
              "      }\n",
              "\n",
              "      [theme=dark] .colab-df-generate:hover {\n",
              "        background-color: #434B5C;\n",
              "        box-shadow: 0px 1px 3px 1px rgba(0, 0, 0, 0.15);\n",
              "        filter: drop-shadow(0px 1px 2px rgba(0, 0, 0, 0.3));\n",
              "        fill: #FFFFFF;\n",
              "      }\n",
              "    </style>\n",
              "    <button class=\"colab-df-generate\" onclick=\"generateWithVariable('df')\"\n",
              "            title=\"Generate code using this dataframe.\"\n",
              "            style=\"display:none;\">\n",
              "\n",
              "  <svg xmlns=\"http://www.w3.org/2000/svg\" height=\"24px\"viewBox=\"0 0 24 24\"\n",
              "       width=\"24px\">\n",
              "    <path d=\"M7,19H8.4L18.45,9,17,7.55,7,17.6ZM5,21V16.75L18.45,3.32a2,2,0,0,1,2.83,0l1.4,1.43a1.91,1.91,0,0,1,.58,1.4,1.91,1.91,0,0,1-.58,1.4L9.25,21ZM18.45,9,17,7.55Zm-12,3A5.31,5.31,0,0,0,4.9,8.1,5.31,5.31,0,0,0,1,6.5,5.31,5.31,0,0,0,4.9,4.9,5.31,5.31,0,0,0,6.5,1,5.31,5.31,0,0,0,8.1,4.9,5.31,5.31,0,0,0,12,6.5,5.46,5.46,0,0,0,6.5,12Z\"/>\n",
              "  </svg>\n",
              "    </button>\n",
              "    <script>\n",
              "      (() => {\n",
              "      const buttonEl =\n",
              "        document.querySelector('#id_af6dc388-1af8-4a2c-bfc1-ca16977e9d35 button.colab-df-generate');\n",
              "      buttonEl.style.display =\n",
              "        google.colab.kernel.accessAllowed ? 'block' : 'none';\n",
              "\n",
              "      buttonEl.onclick = () => {\n",
              "        google.colab.notebook.generateWithVariable('df');\n",
              "      }\n",
              "      })();\n",
              "    </script>\n",
              "  </div>\n",
              "\n",
              "    </div>\n",
              "  </div>\n"
            ],
            "application/vnd.google.colaboratory.intrinsic+json": {
              "type": "dataframe",
              "variable_name": "df",
              "summary": "{\n  \"name\": \"df\",\n  \"rows\": 10,\n  \"fields\": [\n    {\n      \"column\": \"Age\",\n      \"properties\": {\n        \"dtype\": \"number\",\n        \"std\": 3,\n        \"min\": 1,\n        \"max\": 10,\n        \"num_unique_values\": 10,\n        \"samples\": [\n          9,\n          2,\n          6\n        ],\n        \"semantic_type\": \"\",\n        \"description\": \"\"\n      }\n    },\n    {\n      \"column\": \"Salary\",\n      \"properties\": {\n        \"dtype\": \"number\",\n        \"std\": 302,\n        \"min\": 100,\n        \"max\": 1000,\n        \"num_unique_values\": 10,\n        \"samples\": [\n          900,\n          200,\n          600\n        ],\n        \"semantic_type\": \"\",\n        \"description\": \"\"\n      }\n    }\n  ]\n}"
            }
          },
          "metadata": {},
          "execution_count": 5
        }
      ]
    },
    {
      "cell_type": "code",
      "source": [
        "import matplotlib.pyplot as plt\n",
        "plt.scatter(df['Age'], df['Salary'])\n",
        "plt.xlabel('Age')\n",
        "plt.ylabel('Salary')\n",
        "plt.title('Age vs Salary')\n",
        "plt.show()"
      ],
      "metadata": {
        "id": "JOYHqteOEfvI",
        "outputId": "1b375110-ebab-49c9-8f4f-1f962030fdfa",
        "colab": {
          "base_uri": "https://localhost:8080/",
          "height": 472
        }
      },
      "execution_count": 7,
      "outputs": [
        {
          "output_type": "display_data",
          "data": {
            "text/plain": [
              "<Figure size 640x480 with 1 Axes>"
            ],
            "image/png": "[encoded data removed]"
          },
          "metadata": {}
        }
      ]
    }
  ]
}